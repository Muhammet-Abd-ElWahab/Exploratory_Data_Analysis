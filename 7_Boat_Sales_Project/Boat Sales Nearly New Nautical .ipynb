{
 "cells": [
  {
   "cell_type": "markdown",
   "metadata": {},
   "source": [
    "# Project: Nearly New Nautical \n",
    "\n",
    "## Table of Contents\n",
    "<ul>\n",
    "<li><a href=\"#intro\">Introduction</a></li>\n",
    "<li><a href=\"#wrangling\">Data Wrangling</a></li>\n",
    "<li><a href=\"#eda\">Exploratory Data Analysis</a></li>\n",
    "<li><a href=\"#conclusions\">Conclusions</a></li>\n",
    "</ul>"
   ]
  },
  {
   "cell_type": "markdown",
   "metadata": {},
   "source": [
    "<a id='intro'></a>\n",
    "## Introduction\n",
    "\n",
    "\n",
    "\n",
    "\n",
    "> **Descriptions:** This dataset has information about Nearly New Nautical which is a website that allows users to advertise their used boats for sale. The marketing team is preparing a weekly newsletter for boat owners.\n",
    "The newsletter is designed to help sellers to get more views of their boat, as well as\n",
    "stay on top of market trends. The main target is to take a look at the recent data and help the company to learn more about the characteristics of the most viewed boat listings in the last 7 days.\n",
    "\n",
    "\n",
    " **dataset columns description:**\n",
    "\n",
    "- **Price**: Character, boat price listed in different currencies (e.g. EUR, Â£, CHF etc) on the website.\n",
    "- **Boat Type**: Character, type of the boat.\n",
    "- **Manufacturer**: Character, manufacturer of the boat.\n",
    "- **Type**: Character, condition of the boat and engine type(e.g. Diesel, Unleaded, etc).\n",
    "- **Year Built**: Numeric, year of the boat built.\n",
    "- **Length**: Numeric, length in meter of the boat.\n",
    "- **Width**: Numeric, width in meter of the boat.\n",
    "- **Material**: Character, material of the boat (e.g. GRP, PVC, etc).\n",
    "- **Location**: Character, location of the boat is listed.\n",
    "- **Number of views last 7 days**: Numeric, number of the views of the list last 7 days."
   ]
  },
  {
   "cell_type": "markdown",
   "metadata": {},
   "source": [
    "\n",
    "## **Questions:**\n",
    "\n",
    "\n",
    "* Do the most expensive boats get the most views?  \n",
    "* Which boat type has the most views on average?\n",
    "* Which boat and engine condition has the most views on average?\n",
    "* Which boat material has the most views on average?\n",
    "* Are there common features among the most viewed boats?\n"
   ]
  },
  {
   "cell_type": "markdown",
   "metadata": {},
   "source": [
    "### importing libraries that will be used to investigate Dataset"
   ]
  },
  {
   "cell_type": "code",
   "execution_count": 2,
   "metadata": {},
   "outputs": [],
   "source": [
    "import pandas as pd \n",
    "import numpy as np\n",
    "import matplotlib.pyplot as plt\n",
    "%matplotlib inline\n",
    "import seaborn as sns\n",
    "import datetime\n",
    "sns.set_style(\"whitegrid\")\n",
    "pd.set_option('display.max_rows', 10000)\n",
    "import datetime as dt"
   ]
  },
  {
   "cell_type": "markdown",
   "metadata": {},
   "source": [
    "<a id='wrangling'></a>\n",
    "## Data Wrangling\n",
    "\n",
    " **This is a three step process:**\n",
    "\n",
    "*  Gathering the data from Dataset and investegate it trying to understand more details about it. \n",
    "\n",
    "\n",
    "*  Assessing data to identify any issues with data types, structure, or quality.\n",
    "\n",
    "\n",
    "*  Cleaning data by changing data types, replacing values, removing unnecessary data and modifying Dataset for easy and fast analysis.\n"
   ]
  },
  {
   "cell_type": "markdown",
   "metadata": {},
   "source": [
    "### Gathering Data"
   ]
  },
  {
   "cell_type": "code",
   "execution_count": 14,
   "metadata": {},
   "outputs": [],
   "source": [
    "# loading CSV file in to  Dataframes  //df//\n",
    "\n",
    "df = pd.read_csv(\"boat_data.csv\")"
   ]
  },
  {
   "cell_type": "code",
   "execution_count": 16,
   "metadata": {},
   "outputs": [
    {
     "data": {
      "text/html": [
       "<div>\n",
       "<style scoped>\n",
       "    .dataframe tbody tr th:only-of-type {\n",
       "        vertical-align: middle;\n",
       "    }\n",
       "\n",
       "    .dataframe tbody tr th {\n",
       "        vertical-align: top;\n",
       "    }\n",
       "\n",
       "    .dataframe thead th {\n",
       "        text-align: right;\n",
       "    }\n",
       "</style>\n",
       "<table border=\"1\" class=\"dataframe\">\n",
       "  <thead>\n",
       "    <tr style=\"text-align: right;\">\n",
       "      <th></th>\n",
       "      <th>Price</th>\n",
       "      <th>Boat Type</th>\n",
       "      <th>Manufacturer</th>\n",
       "      <th>Type</th>\n",
       "      <th>Year Built</th>\n",
       "      <th>Length</th>\n",
       "      <th>Width</th>\n",
       "      <th>Material</th>\n",
       "      <th>Location</th>\n",
       "      <th>Number of views last 7 days</th>\n",
       "    </tr>\n",
       "  </thead>\n",
       "  <tbody>\n",
       "    <tr>\n",
       "      <th>0</th>\n",
       "      <td>CHF 3337</td>\n",
       "      <td>Motor Yacht</td>\n",
       "      <td>Rigiflex power boats</td>\n",
       "      <td>new boat from stock</td>\n",
       "      <td>2017</td>\n",
       "      <td>4.00</td>\n",
       "      <td>1.90</td>\n",
       "      <td>NaN</td>\n",
       "      <td>Switzerland Â» Lake Geneva Â» VÃ©senaz</td>\n",
       "      <td>226</td>\n",
       "    </tr>\n",
       "    <tr>\n",
       "      <th>1</th>\n",
       "      <td>EUR 3490</td>\n",
       "      <td>Center console boat</td>\n",
       "      <td>Terhi power boats</td>\n",
       "      <td>new boat from stock</td>\n",
       "      <td>2020</td>\n",
       "      <td>4.00</td>\n",
       "      <td>1.50</td>\n",
       "      <td>Thermoplastic</td>\n",
       "      <td>Germany Â» BÃ¶nningstedt</td>\n",
       "      <td>75</td>\n",
       "    </tr>\n",
       "    <tr>\n",
       "      <th>2</th>\n",
       "      <td>CHF 3770</td>\n",
       "      <td>Sport Boat</td>\n",
       "      <td>Marine power boats</td>\n",
       "      <td>new boat from stock</td>\n",
       "      <td>0</td>\n",
       "      <td>3.69</td>\n",
       "      <td>1.42</td>\n",
       "      <td>Aluminium</td>\n",
       "      <td>Switzerland Â» Lake of Zurich Â» StÃ¤fa ZH</td>\n",
       "      <td>124</td>\n",
       "    </tr>\n",
       "    <tr>\n",
       "      <th>3</th>\n",
       "      <td>DKK 25900</td>\n",
       "      <td>Sport Boat</td>\n",
       "      <td>Pioner power boats</td>\n",
       "      <td>new boat from stock</td>\n",
       "      <td>2020</td>\n",
       "      <td>3.00</td>\n",
       "      <td>1.00</td>\n",
       "      <td>NaN</td>\n",
       "      <td>Denmark Â» Svendborg</td>\n",
       "      <td>64</td>\n",
       "    </tr>\n",
       "    <tr>\n",
       "      <th>4</th>\n",
       "      <td>EUR 3399</td>\n",
       "      <td>Fishing Boat</td>\n",
       "      <td>Linder power boats</td>\n",
       "      <td>new boat from stock</td>\n",
       "      <td>2019</td>\n",
       "      <td>3.55</td>\n",
       "      <td>1.46</td>\n",
       "      <td>Aluminium</td>\n",
       "      <td>Germany Â» Bayern Â» MÃ¼nchen</td>\n",
       "      <td>58</td>\n",
       "    </tr>\n",
       "  </tbody>\n",
       "</table>\n",
       "</div>"
      ],
      "text/plain": [
       "       Price            Boat Type          Manufacturer                 Type  \\\n",
       "0   CHF 3337          Motor Yacht  Rigiflex power boats  new boat from stock   \n",
       "1   EUR 3490  Center console boat     Terhi power boats  new boat from stock   \n",
       "2   CHF 3770           Sport Boat    Marine power boats  new boat from stock   \n",
       "3  DKK 25900           Sport Boat    Pioner power boats  new boat from stock   \n",
       "4   EUR 3399         Fishing Boat    Linder power boats  new boat from stock   \n",
       "\n",
       "   Year Built  Length  Width       Material  \\\n",
       "0        2017    4.00   1.90            NaN   \n",
       "1        2020    4.00   1.50  Thermoplastic   \n",
       "2           0    3.69   1.42      Aluminium   \n",
       "3        2020    3.00   1.00            NaN   \n",
       "4        2019    3.55   1.46      Aluminium   \n",
       "\n",
       "                                     Location  Number of views last 7 days  \n",
       "0      Switzerland Â» Lake Geneva Â» VÃ©senaz                          226  \n",
       "1                    Germany Â» BÃ¶nningstedt                           75  \n",
       "2  Switzerland Â» Lake of Zurich Â» StÃ¤fa ZH                          124  \n",
       "3                        Denmark Â» Svendborg                           64  \n",
       "4               Germany Â» Bayern Â» MÃ¼nchen                           58  "
      ]
     },
     "execution_count": 16,
     "metadata": {},
     "output_type": "execute_result"
    }
   ],
   "source": [
    "#checking 5 rows sample from Dataframe\n",
    "\n",
    "df.head()"
   ]
  },
  {
   "cell_type": "markdown",
   "metadata": {},
   "source": [
    "### Assessing Data"
   ]
  },
  {
   "cell_type": "code",
   "execution_count": 17,
   "metadata": {},
   "outputs": [
    {
     "name": "stdout",
     "output_type": "stream",
     "text": [
      "<class 'pandas.core.frame.DataFrame'>\n",
      "RangeIndex: 9888 entries, 0 to 9887\n",
      "Data columns (total 10 columns):\n",
      " #   Column                       Non-Null Count  Dtype  \n",
      "---  ------                       --------------  -----  \n",
      " 0   Price                        9888 non-null   object \n",
      " 1   Boat Type                    9888 non-null   object \n",
      " 2   Manufacturer                 8550 non-null   object \n",
      " 3   Type                         9882 non-null   object \n",
      " 4   Year Built                   9888 non-null   int64  \n",
      " 5   Length                       9879 non-null   float64\n",
      " 6   Width                        9832 non-null   float64\n",
      " 7   Material                     8139 non-null   object \n",
      " 8   Location                     9852 non-null   object \n",
      " 9   Number of views last 7 days  9888 non-null   int64  \n",
      "dtypes: float64(2), int64(2), object(6)\n",
      "memory usage: 772.6+ KB\n"
     ]
    }
   ],
   "source": [
    "# checking Dataframe basic informations (columns names, number of values, data types ......)\n",
    "\n",
    "df.info()\n"
   ]
  },
  {
   "cell_type": "code",
   "execution_count": 18,
   "metadata": {},
   "outputs": [
    {
     "data": {
      "text/plain": [
       "(9888, 10)"
      ]
     },
     "execution_count": 18,
     "metadata": {},
     "output_type": "execute_result"
    }
   ],
   "source": [
    "#checking Dataframe shape (number of rows and columns)\n",
    "\n",
    "df.shape"
   ]
  },
  {
   "cell_type": "code",
   "execution_count": 19,
   "metadata": {},
   "outputs": [
    {
     "data": {
      "text/html": [
       "<div>\n",
       "<style scoped>\n",
       "    .dataframe tbody tr th:only-of-type {\n",
       "        vertical-align: middle;\n",
       "    }\n",
       "\n",
       "    .dataframe tbody tr th {\n",
       "        vertical-align: top;\n",
       "    }\n",
       "\n",
       "    .dataframe thead th {\n",
       "        text-align: right;\n",
       "    }\n",
       "</style>\n",
       "<table border=\"1\" class=\"dataframe\">\n",
       "  <thead>\n",
       "    <tr style=\"text-align: right;\">\n",
       "      <th></th>\n",
       "      <th>Year Built</th>\n",
       "      <th>Length</th>\n",
       "      <th>Width</th>\n",
       "      <th>Number of views last 7 days</th>\n",
       "    </tr>\n",
       "  </thead>\n",
       "  <tbody>\n",
       "    <tr>\n",
       "      <th>count</th>\n",
       "      <td>9888.000000</td>\n",
       "      <td>9879.000000</td>\n",
       "      <td>9832.000000</td>\n",
       "      <td>9888.000000</td>\n",
       "    </tr>\n",
       "    <tr>\n",
       "      <th>mean</th>\n",
       "      <td>1893.192860</td>\n",
       "      <td>11.570017</td>\n",
       "      <td>3.520124</td>\n",
       "      <td>149.160801</td>\n",
       "    </tr>\n",
       "    <tr>\n",
       "      <th>std</th>\n",
       "      <td>460.201582</td>\n",
       "      <td>6.002820</td>\n",
       "      <td>1.220534</td>\n",
       "      <td>151.819752</td>\n",
       "    </tr>\n",
       "    <tr>\n",
       "      <th>min</th>\n",
       "      <td>0.000000</td>\n",
       "      <td>1.040000</td>\n",
       "      <td>0.010000</td>\n",
       "      <td>13.000000</td>\n",
       "    </tr>\n",
       "    <tr>\n",
       "      <th>25%</th>\n",
       "      <td>1996.000000</td>\n",
       "      <td>7.470000</td>\n",
       "      <td>2.540000</td>\n",
       "      <td>70.000000</td>\n",
       "    </tr>\n",
       "    <tr>\n",
       "      <th>50%</th>\n",
       "      <td>2007.000000</td>\n",
       "      <td>10.280000</td>\n",
       "      <td>3.330000</td>\n",
       "      <td>108.000000</td>\n",
       "    </tr>\n",
       "    <tr>\n",
       "      <th>75%</th>\n",
       "      <td>2017.000000</td>\n",
       "      <td>13.930000</td>\n",
       "      <td>4.250000</td>\n",
       "      <td>172.000000</td>\n",
       "    </tr>\n",
       "    <tr>\n",
       "      <th>max</th>\n",
       "      <td>2021.000000</td>\n",
       "      <td>100.000000</td>\n",
       "      <td>25.160000</td>\n",
       "      <td>3263.000000</td>\n",
       "    </tr>\n",
       "  </tbody>\n",
       "</table>\n",
       "</div>"
      ],
      "text/plain": [
       "        Year Built       Length        Width  Number of views last 7 days\n",
       "count  9888.000000  9879.000000  9832.000000                  9888.000000\n",
       "mean   1893.192860    11.570017     3.520124                   149.160801\n",
       "std     460.201582     6.002820     1.220534                   151.819752\n",
       "min       0.000000     1.040000     0.010000                    13.000000\n",
       "25%    1996.000000     7.470000     2.540000                    70.000000\n",
       "50%    2007.000000    10.280000     3.330000                   108.000000\n",
       "75%    2017.000000    13.930000     4.250000                   172.000000\n",
       "max    2021.000000   100.000000    25.160000                  3263.000000"
      ]
     },
     "execution_count": 19,
     "metadata": {},
     "output_type": "execute_result"
    }
   ],
   "source": [
    "#checking more information and descriptive statistics (Quantitative values)\n",
    "\n",
    "df.describe()"
   ]
  },
  {
   "cell_type": "code",
   "execution_count": 20,
   "metadata": {},
   "outputs": [
    {
     "data": {
      "text/html": [
       "<div>\n",
       "<style scoped>\n",
       "    .dataframe tbody tr th:only-of-type {\n",
       "        vertical-align: middle;\n",
       "    }\n",
       "\n",
       "    .dataframe tbody tr th {\n",
       "        vertical-align: top;\n",
       "    }\n",
       "\n",
       "    .dataframe thead th {\n",
       "        text-align: right;\n",
       "    }\n",
       "</style>\n",
       "<table border=\"1\" class=\"dataframe\">\n",
       "  <thead>\n",
       "    <tr style=\"text-align: right;\">\n",
       "      <th></th>\n",
       "      <th>Price</th>\n",
       "      <th>Boat Type</th>\n",
       "      <th>Manufacturer</th>\n",
       "      <th>Type</th>\n",
       "      <th>Material</th>\n",
       "      <th>Location</th>\n",
       "    </tr>\n",
       "  </thead>\n",
       "  <tbody>\n",
       "    <tr>\n",
       "      <th>count</th>\n",
       "      <td>9888</td>\n",
       "      <td>9888</td>\n",
       "      <td>8550</td>\n",
       "      <td>9882</td>\n",
       "      <td>8139</td>\n",
       "      <td>9852</td>\n",
       "    </tr>\n",
       "    <tr>\n",
       "      <th>unique</th>\n",
       "      <td>3182</td>\n",
       "      <td>126</td>\n",
       "      <td>910</td>\n",
       "      <td>24</td>\n",
       "      <td>11</td>\n",
       "      <td>2995</td>\n",
       "    </tr>\n",
       "    <tr>\n",
       "      <th>top</th>\n",
       "      <td>EUR 65000</td>\n",
       "      <td>Motor Yacht</td>\n",
       "      <td>BÃ©nÃ©teau power boats</td>\n",
       "      <td>Used boat,Diesel</td>\n",
       "      <td>GRP</td>\n",
       "      <td>Netherlands Â» In verkoophaven</td>\n",
       "    </tr>\n",
       "    <tr>\n",
       "      <th>freq</th>\n",
       "      <td>77</td>\n",
       "      <td>2720</td>\n",
       "      <td>631</td>\n",
       "      <td>4140</td>\n",
       "      <td>5484</td>\n",
       "      <td>309</td>\n",
       "    </tr>\n",
       "  </tbody>\n",
       "</table>\n",
       "</div>"
      ],
      "text/plain": [
       "            Price    Boat Type            Manufacturer              Type  \\\n",
       "count        9888         9888                    8550              9882   \n",
       "unique       3182          126                     910                24   \n",
       "top     EUR 65000  Motor Yacht  BÃ©nÃ©teau power boats  Used boat,Diesel   \n",
       "freq           77         2720                     631              4140   \n",
       "\n",
       "       Material                        Location  \n",
       "count      8139                            9852  \n",
       "unique       11                            2995  \n",
       "top         GRP  Netherlands Â» In verkoophaven  \n",
       "freq       5484                             309  "
      ]
     },
     "execution_count": 20,
     "metadata": {},
     "output_type": "execute_result"
    }
   ],
   "source": [
    "#checking more information and descriptive statistics (Categorical values)\n",
    "\n",
    "df.describe(include=\"O\")"
   ]
  },
  {
   "cell_type": "code",
   "execution_count": 21,
   "metadata": {},
   "outputs": [
    {
     "data": {
      "text/plain": [
       "Price                             0\n",
       "Boat Type                         0\n",
       "Manufacturer                   1338\n",
       "Type                              6\n",
       "Year Built                        0\n",
       "Length                            9\n",
       "Width                            56\n",
       "Material                       1749\n",
       "Location                         36\n",
       "Number of views last 7 days       0\n",
       "dtype: int64"
      ]
     },
     "execution_count": 21,
     "metadata": {},
     "output_type": "execute_result"
    }
   ],
   "source": [
    "# checking for NaN values patients\n",
    "\n",
    "df.isnull().sum()"
   ]
  },
  {
   "cell_type": "code",
   "execution_count": 22,
   "metadata": {},
   "outputs": [
    {
     "data": {
      "text/plain": [
       "Price                             0\n",
       "Boat Type                         0\n",
       "Manufacturer                   1338\n",
       "Type                              6\n",
       "Year Built                        0\n",
       "Length                            9\n",
       "Width                            56\n",
       "Material                       1749\n",
       "Location                         36\n",
       "Number of views last 7 days       0\n",
       "dtype: int64"
      ]
     },
     "execution_count": 22,
     "metadata": {},
     "output_type": "execute_result"
    }
   ],
   "source": [
    "# checking for NaN values patients\n",
    "\n",
    "df.isnull().sum()"
   ]
  },
  {
   "cell_type": "code",
   "execution_count": 23,
   "metadata": {},
   "outputs": [
    {
     "data": {
      "text/plain": [
       "0"
      ]
     },
     "execution_count": 23,
     "metadata": {},
     "output_type": "execute_result"
    }
   ],
   "source": [
    "#checking for duplicated rows \n",
    "\n",
    "df.duplicated().sum()"
   ]
  },
  {
   "cell_type": "code",
   "execution_count": 24,
   "metadata": {},
   "outputs": [
    {
     "data": {
      "text/plain": [
       "Aluminium               229\n",
       "Carbon Fiber             30\n",
       "GRP                    5484\n",
       "Hypalon                   5\n",
       "PVC                    1123\n",
       "Plastic                  77\n",
       "Reinforced concrete       1\n",
       "Rubber                    1\n",
       "Steel                   939\n",
       "Thermoplastic            15\n",
       "Wood                    235\n",
       "Name: Material, dtype: int64"
      ]
     },
     "execution_count": 24,
     "metadata": {},
     "output_type": "execute_result"
    }
   ],
   "source": [
    "#checking Material value counts \n",
    "\n",
    "df[\"Material\"].value_counts().sort_index()"
   ]
  },
  {
   "cell_type": "code",
   "execution_count": 27,
   "metadata": {},
   "outputs": [
    {
     "data": {
      "text/plain": [
       "551"
      ]
     },
     "execution_count": 27,
     "metadata": {},
     "output_type": "execute_result"
    }
   ],
   "source": [
    "# check Year Built column observations with 0 values count\n",
    "\n",
    "df[df[\"Year Built\"] ==0].count()[0]"
   ]
  },
  {
   "cell_type": "markdown",
   "metadata": {},
   "source": [
    "##  Cleaning Data\n",
    "\n",
    "### <font color='blue'>Missing Data</font>\n",
    "\n",
    " \n",
    "\n",
    "\n",
    "\n",
    " \n",
    "1. There are a lot of empty values on this data set (Nans) especially on Manufacturing and Material columns.\n",
    "2. The minimum boat width is 0.01 Meter which is obviously a typo issue.\n",
    "3. There are 551 observations with value 0 on Year Built column.\n",
    "\n",
    "**We can not drop or replace any of these values so I am going to keep them just like that, but it's important to give these variables more attention in the future.These points may affect our results accuracy so we need to pay attention to such mistakes.**\n",
    "\n",
    "\n",
    "### <font color='blue'>Quality issues</font>\n",
    "\n",
    "1. Change columns names by removing spaces and make them in lower case for easy use and readability.\n",
    "2. Remove currency abbreviations from Price column.\n",
    "3. Change price column data type into Integer and Convert all currencies into one currency `Euro`. \n",
    "4. Change price column name into (price_in_euro).\n",
    "5. Change Type column data type into category for saving memory.\n",
    "6. Change Material data type into category for saving memory.\n",
    "7. Add a new column with price levels (low, medium, high and very high) depending on minimum, 1st quartile, median, 3rd quartile and maximum.\n",
    "8. Add new column with views levels (low, medium, high and very high) depending on minimum, 1st quartile, median, 3rd quartile and maximum.\n",
    "9. Change Boat Type column data type into category for saving memory."
   ]
  },
  {
   "cell_type": "code",
   "execution_count": 28,
   "metadata": {},
   "outputs": [],
   "source": [
    "# make copy of origenal dataframes to clean them\n",
    "\n",
    "df_clean = df.copy()"
   ]
  },
  {
   "cell_type": "markdown",
   "metadata": {},
   "source": [
    "### <font color='blue'>Fixing Quality issues</font>"
   ]
  },
  {
   "cell_type": "markdown",
   "metadata": {},
   "source": [
    "#### 1.  Change columns names by removing spaces and make them on lower case for easy use and readability."
   ]
  },
  {
   "cell_type": "markdown",
   "metadata": {},
   "source": [
    "##### Solution\n",
    "* Change columns names using df.rename and `lambda` function."
   ]
  },
  {
   "cell_type": "markdown",
   "metadata": {},
   "source": [
    "##### Code"
   ]
  },
  {
   "cell_type": "code",
   "execution_count": 29,
   "metadata": {},
   "outputs": [],
   "source": [
    "# replace spaces with \"_\"\n",
    "\n",
    "df_clean = df_clean.rename(columns= lambda x: x.replace(\" \", \"_\").lower())"
   ]
  },
  {
   "cell_type": "markdown",
   "metadata": {},
   "source": [
    "##### Test"
   ]
  },
  {
   "cell_type": "code",
   "execution_count": 30,
   "metadata": {},
   "outputs": [
    {
     "data": {
      "text/plain": [
       "Index(['price', 'boat_type', 'manufacturer', 'type', 'year_built', 'length',\n",
       "       'width', 'material', 'location', 'number_of_views_last_7_days'],\n",
       "      dtype='object')"
      ]
     },
     "execution_count": 30,
     "metadata": {},
     "output_type": "execute_result"
    }
   ],
   "source": [
    "# confirm columns names already changed \n",
    "\n",
    "df_clean.columns"
   ]
  },
  {
   "cell_type": "markdown",
   "metadata": {},
   "source": [
    "#### 2.  Remove currency abbreviations from Price column."
   ]
  },
  {
   "cell_type": "markdown",
   "metadata": {},
   "source": [
    "##### Solution\n",
    "* split price column values into 2 columns price and currency using `split()` method."
   ]
  },
  {
   "cell_type": "markdown",
   "metadata": {},
   "source": [
    "##### Code"
   ]
  },
  {
   "cell_type": "code",
   "execution_count": 31,
   "metadata": {},
   "outputs": [],
   "source": [
    "df_clean[\"currency\"] = df_clean.price.apply(lambda x : x.split(\" \")[0])\n",
    "df_clean.price = df_clean.price.apply(lambda x : x.split(\" \")[1])"
   ]
  },
  {
   "cell_type": "markdown",
   "metadata": {},
   "source": [
    "##### Test"
   ]
  },
  {
   "cell_type": "code",
   "execution_count": 32,
   "metadata": {},
   "outputs": [
    {
     "data": {
      "text/plain": [
       "EUR    8430\n",
       "CHF     980\n",
       "Â£      298\n",
       "DKK     180\n",
       "Name: currency, dtype: int64"
      ]
     },
     "execution_count": 32,
     "metadata": {},
     "output_type": "execute_result"
    }
   ],
   "source": [
    "# confirming changes\n",
    "\n",
    "df_clean[\"currency\"].value_counts()"
   ]
  },
  {
   "cell_type": "code",
   "execution_count": 33,
   "metadata": {},
   "outputs": [
    {
     "data": {
      "text/plain": [
       "8835     29900\n",
       "5413    185000\n",
       "1754     99000\n",
       "6087    125000\n",
       "7661     56900\n",
       "Name: price, dtype: object"
      ]
     },
     "execution_count": 33,
     "metadata": {},
     "output_type": "execute_result"
    }
   ],
   "source": [
    "df_clean.price.sample(5)"
   ]
  },
  {
   "cell_type": "markdown",
   "metadata": {},
   "source": [
    "#### 3. Change price column data type into Integer and Convert all currencies into one currency `Euro`. "
   ]
  },
  {
   "cell_type": "markdown",
   "metadata": {},
   "source": [
    "##### Solution\n",
    "* Replace all currency with it's value in Euro using `.replace()` method then convert each currency into Euro. "
   ]
  },
  {
   "cell_type": "markdown",
   "metadata": {},
   "source": [
    "##### Code"
   ]
  },
  {
   "cell_type": "code",
   "execution_count": 34,
   "metadata": {},
   "outputs": [],
   "source": [
    "# making dictionary with each currency value in euro\n",
    "\n",
    "price_dic = {\"EUR\":1,    \n",
    "             \"CHF\": 0.99,  \n",
    "             \"Â£\": 1.20,\n",
    "             \"DKK\": 0.13}\n",
    "\n",
    "df_clean.currency = df_clean.currency.replace(price_dic)"
   ]
  },
  {
   "cell_type": "code",
   "execution_count": 35,
   "metadata": {},
   "outputs": [],
   "source": [
    "df_clean.price = df_clean.price.astype(int)\n",
    "df_clean.price = df_clean.price * df_clean.currency"
   ]
  },
  {
   "cell_type": "markdown",
   "metadata": {},
   "source": [
    "##### Test"
   ]
  },
  {
   "cell_type": "code",
   "execution_count": 36,
   "metadata": {},
   "outputs": [
    {
     "data": {
      "text/plain": [
       "4438     355000.0\n",
       "4998     240000.0\n",
       "3479    1900000.0\n",
       "7792      54000.0\n",
       "9119      24495.0\n",
       "Name: price, dtype: float64"
      ]
     },
     "execution_count": 36,
     "metadata": {},
     "output_type": "execute_result"
    }
   ],
   "source": [
    "df_clean.price.sample(5)"
   ]
  },
  {
   "cell_type": "markdown",
   "metadata": {},
   "source": [
    "#### 4. Change price column name into (price_in_euro)\n"
   ]
  },
  {
   "cell_type": "markdown",
   "metadata": {},
   "source": [
    "##### Solution\n",
    "* change column name using `.rename()`"
   ]
  },
  {
   "cell_type": "markdown",
   "metadata": {},
   "source": [
    "##### Code"
   ]
  },
  {
   "cell_type": "code",
   "execution_count": 37,
   "metadata": {},
   "outputs": [],
   "source": [
    "df_clean = df_clean.rename(columns = {\"price\": \"price_in_euro\"})"
   ]
  },
  {
   "cell_type": "code",
   "execution_count": 38,
   "metadata": {},
   "outputs": [],
   "source": [
    "# Drop currency column \n",
    "\n",
    "df_clean = df_clean.drop(\"currency\", axis=\"columns\")"
   ]
  },
  {
   "cell_type": "markdown",
   "metadata": {},
   "source": [
    "##### Test"
   ]
  },
  {
   "cell_type": "code",
   "execution_count": 39,
   "metadata": {},
   "outputs": [
    {
     "data": {
      "text/plain": [
       "Index(['price_in_euro', 'boat_type', 'manufacturer', 'type', 'year_built',\n",
       "       'length', 'width', 'material', 'location',\n",
       "       'number_of_views_last_7_days'],\n",
       "      dtype='object')"
      ]
     },
     "execution_count": 39,
     "metadata": {},
     "output_type": "execute_result"
    }
   ],
   "source": [
    "# Confirming changes \n",
    "\n",
    "df_clean.columns"
   ]
  },
  {
   "cell_type": "markdown",
   "metadata": {},
   "source": [
    "#### 5. Change Type column data type into category for saving memory."
   ]
  },
  {
   "cell_type": "markdown",
   "metadata": {},
   "source": [
    "##### Solution\n",
    "* Change data type using `.astype()`"
   ]
  },
  {
   "cell_type": "markdown",
   "metadata": {},
   "source": [
    "##### Code"
   ]
  },
  {
   "cell_type": "code",
   "execution_count": 40,
   "metadata": {},
   "outputs": [],
   "source": [
    "df_clean.type = df_clean.type.astype(\"category\") "
   ]
  },
  {
   "cell_type": "markdown",
   "metadata": {},
   "source": [
    "##### Test"
   ]
  },
  {
   "cell_type": "code",
   "execution_count": 41,
   "metadata": {},
   "outputs": [
    {
     "data": {
      "text/plain": [
       "10080"
      ]
     },
     "execution_count": 41,
     "metadata": {},
     "output_type": "execute_result"
    }
   ],
   "source": [
    "# Confirm \n",
    "\n",
    "df_clean.type.nbytes"
   ]
  },
  {
   "cell_type": "markdown",
   "metadata": {},
   "source": [
    "#### 6. Change Material data type into category for saving memory."
   ]
  },
  {
   "cell_type": "markdown",
   "metadata": {},
   "source": [
    "##### Solution\n",
    "* change data type using `.astype()`"
   ]
  },
  {
   "cell_type": "markdown",
   "metadata": {},
   "source": [
    "##### Code"
   ]
  },
  {
   "cell_type": "code",
   "execution_count": 42,
   "metadata": {},
   "outputs": [],
   "source": [
    "df_clean.material = df_clean.material.astype(\"category\") "
   ]
  },
  {
   "cell_type": "markdown",
   "metadata": {},
   "source": [
    "##### Test"
   ]
  },
  {
   "cell_type": "code",
   "execution_count": 43,
   "metadata": {},
   "outputs": [
    {
     "data": {
      "text/plain": [
       "9976"
      ]
     },
     "execution_count": 43,
     "metadata": {},
     "output_type": "execute_result"
    }
   ],
   "source": [
    "# Confirm\n",
    "\n",
    "df_clean.material.nbytes"
   ]
  },
  {
   "cell_type": "markdown",
   "metadata": {},
   "source": [
    "#### 7. Add new column with price levels (low, medium, high and very high) depending on minimum, 1st quartile, median, 3rd quartile and maximum."
   ]
  },
  {
   "cell_type": "markdown",
   "metadata": {},
   "source": [
    "##### Solution\n",
    "* make new column using `.cut()` function."
   ]
  },
  {
   "cell_type": "markdown",
   "metadata": {},
   "source": [
    "##### Code"
   ]
  },
  {
   "cell_type": "code",
   "execution_count": 44,
   "metadata": {},
   "outputs": [
    {
     "data": {
      "text/plain": [
       "count    9.888000e+03\n",
       "mean     3.034915e+05\n",
       "std      9.737574e+05\n",
       "min      3.224000e+03\n",
       "25%      4.299000e+04\n",
       "50%      9.227445e+04\n",
       "75%      2.480000e+05\n",
       "max      3.100000e+07\n",
       "Name: price_in_euro, dtype: float64"
      ]
     },
     "execution_count": 44,
     "metadata": {},
     "output_type": "execute_result"
    }
   ],
   "source": [
    "# check info about price column \n",
    "\n",
    "df_clean.price_in_euro.describe()"
   ]
  },
  {
   "cell_type": "code",
   "execution_count": 45,
   "metadata": {},
   "outputs": [],
   "source": [
    "mini = df_clean.price_in_euro.min()\n",
    "first_q = df_clean.price_in_euro.quantile(0.25)\n",
    "third_q = df_clean.price_in_euro.quantile(0.75)\n",
    "med = df_clean.price_in_euro.median()\n",
    "maxi = df_clean.price_in_euro.max()"
   ]
  },
  {
   "cell_type": "code",
   "execution_count": 46,
   "metadata": {},
   "outputs": [],
   "source": [
    "bins = [mini, first_q, med, third_q, maxi]\n",
    "labls = [\"Low\", \"Medium\", \"High\", \"Very High\"]\n",
    "df_clean[\"price_level\"] = pd.cut(df_clean.price_in_euro, bins, labels = labls, include_lowest=True, right=True)"
   ]
  },
  {
   "cell_type": "markdown",
   "metadata": {},
   "source": [
    "##### Test"
   ]
  },
  {
   "cell_type": "code",
   "execution_count": 47,
   "metadata": {},
   "outputs": [
    {
     "data": {
      "text/plain": [
       "High         2474\n",
       "Low          2473\n",
       "Medium       2471\n",
       "Very High    2470\n",
       "Name: price_level, dtype: int64"
      ]
     },
     "execution_count": 47,
     "metadata": {},
     "output_type": "execute_result"
    }
   ],
   "source": [
    "# Confirming changes \n",
    "\n",
    "df_clean.price_level.value_counts()"
   ]
  },
  {
   "cell_type": "markdown",
   "metadata": {},
   "source": [
    "#### 8. Add new column with views levels (low, medium, high and very high) depending on minimum, 1st quartile, median, 3rd quartile and maximum."
   ]
  },
  {
   "cell_type": "markdown",
   "metadata": {},
   "source": [
    "##### Solution\n",
    "* make new column using `.cut()` function."
   ]
  },
  {
   "cell_type": "markdown",
   "metadata": {},
   "source": [
    "##### Code"
   ]
  },
  {
   "cell_type": "code",
   "execution_count": 48,
   "metadata": {},
   "outputs": [
    {
     "data": {
      "text/plain": [
       "count    9888.000000\n",
       "mean      149.160801\n",
       "std       151.819752\n",
       "min        13.000000\n",
       "25%        70.000000\n",
       "50%       108.000000\n",
       "75%       172.000000\n",
       "max      3263.000000\n",
       "Name: number_of_views_last_7_days, dtype: float64"
      ]
     },
     "execution_count": 48,
     "metadata": {},
     "output_type": "execute_result"
    }
   ],
   "source": [
    "# check info about price column \n",
    "\n",
    "df_clean.number_of_views_last_7_days.describe()"
   ]
  },
  {
   "cell_type": "code",
   "execution_count": 49,
   "metadata": {},
   "outputs": [],
   "source": [
    "v_mini = df_clean.number_of_views_last_7_days.min()\n",
    "v_first_q = df_clean.number_of_views_last_7_days.quantile(0.25)\n",
    "v_third_q = df_clean.number_of_views_last_7_days.quantile(0.75)\n",
    "v_med = df_clean.number_of_views_last_7_days.median()\n",
    "v_maxi = df_clean.number_of_views_last_7_days.max()"
   ]
  },
  {
   "cell_type": "code",
   "execution_count": 50,
   "metadata": {},
   "outputs": [],
   "source": [
    "v_bins = [v_mini, v_first_q, v_med, v_third_q, v_maxi]\n",
    "v_labls = [\"Low\", \"Medium\", \"High\", \"Very High\"]\n",
    "df_clean[\"views_level\"] = pd.cut(df_clean.number_of_views_last_7_days, v_bins, labels = v_labls, include_lowest=True, right=True)"
   ]
  },
  {
   "cell_type": "markdown",
   "metadata": {},
   "source": [
    "##### Test"
   ]
  },
  {
   "cell_type": "code",
   "execution_count": 51,
   "metadata": {},
   "outputs": [
    {
     "data": {
      "text/plain": [
       "Low          2514\n",
       "Medium       2481\n",
       "High         2447\n",
       "Very High    2446\n",
       "Name: views_level, dtype: int64"
      ]
     },
     "execution_count": 51,
     "metadata": {},
     "output_type": "execute_result"
    }
   ],
   "source": [
    "# Confirming changes \n",
    "\n",
    "df_clean.views_level.value_counts()"
   ]
  },
  {
   "cell_type": "markdown",
   "metadata": {},
   "source": [
    "#### 9. Change Boat Type column data type into category for saving memory."
   ]
  },
  {
   "cell_type": "markdown",
   "metadata": {},
   "source": [
    "##### Solution\n",
    "* Change data type using `.astype()`"
   ]
  },
  {
   "cell_type": "markdown",
   "metadata": {},
   "source": [
    "##### Code"
   ]
  },
  {
   "cell_type": "code",
   "execution_count": 52,
   "metadata": {},
   "outputs": [],
   "source": [
    "df_clean.boat_type = df_clean.boat_type.astype(\"category\") "
   ]
  },
  {
   "cell_type": "markdown",
   "metadata": {},
   "source": [
    "##### Test"
   ]
  },
  {
   "cell_type": "code",
   "execution_count": 53,
   "metadata": {},
   "outputs": [
    {
     "data": {
      "text/plain": [
       "10896"
      ]
     },
     "execution_count": 53,
     "metadata": {},
     "output_type": "execute_result"
    }
   ],
   "source": [
    "# Confirm \n",
    "\n",
    "df_clean.boat_type.nbytes"
   ]
  },
  {
   "cell_type": "markdown",
   "metadata": {},
   "source": [
    "<a id='eda'></a>\n",
    "## Exploratory Data Analysis\n",
    "\n",
    "> Now I'm going to explore this data and try to find patterns in it, compute statistics and visualize the relationships\n",
    "to answer the questions and detect the characteristics that affect patients attending to their hospital appointment\n"
   ]
  },
  {
   "cell_type": "markdown",
   "metadata": {},
   "source": [
    "### Research Question 1\n",
    "> ####  Do the most expensive boats get the most views? \n"
   ]
  },
  {
   "cell_type": "code",
   "execution_count": 55,
   "metadata": {},
   "outputs": [
    {
     "data": {
      "text/plain": [
       "price_level\n",
       "Low          208.238981\n",
       "Medium       145.688385\n",
       "High         130.328213\n",
       "Very High    112.347773\n",
       "Name: number_of_views_last_7_days, dtype: float64"
      ]
     },
     "execution_count": 55,
     "metadata": {},
     "output_type": "execute_result"
    }
   ],
   "source": [
    "# check mean views for each price level\n",
    "\n",
    "prices_mean = df_clean.groupby(\"price_level\")[\"number_of_views_last_7_days\"].mean()\n",
    "prices_mean"
   ]
  },
  {
   "cell_type": "code",
   "execution_count": 56,
   "metadata": {},
   "outputs": [
    {
     "data": {
      "image/png": "[encoded data removed]",
      "text/plain": [
       "<Figure size 576x360 with 1 Axes>"
      ]
     },
     "metadata": {},
     "output_type": "display_data"
    }
   ],
   "source": [
    "# make bar plot of Average number of views VS Prcie levels\n",
    "\n",
    "prices_mean.plot(kind=\"bar\",\n",
    "                 rot=0,\n",
    "                 figsize=(8,5),\n",
    "                color = [\"navy\",'b',\"royalblue\", \"#4897D8\" ])\n",
    "\n",
    "\n",
    "\n",
    "\n",
    "plt.xlabel(\"Price Level\",fontsize=15, color=\"k\")\n",
    "plt.ylabel(\"Average number of views\",fontsize=15, color=\"k\")\n",
    "plt.title(\"Average number of views VS Price level\", fontsize=18, color=\"k\", pad=20)\n",
    "plt.yticks(fontsize=13, color=\"k\")\n",
    "plt.xticks(fontsize=13, color=\"k\");"
   ]
  },
  {
   "cell_type": "markdown",
   "metadata": {},
   "source": [
    "The cheapest boats get the most views with average 208 views.Boats in medium price level get 145 average views.\n",
    "Boats in high price level get 130 average views.The most expensive boats get the least views with average 112 views."
   ]
  },
  {
   "cell_type": "markdown",
   "metadata": {},
   "source": [
    "### Answer 1\n",
    "* From above visualization and information we can conclude that:\n",
    "\n",
    "   -  The cheapest boats get the most views with average 208 views.\n",
    "   -  Boats in medium price level get 145 average views.\n",
    "   -  Boats in high price level get 130 average views.\n",
    "   -  The most expensive boats get the least views with average 112 views.\n",
    "   \n",
    "**(The most expensive boats get the least views and the cheapest boats get the most views on average.)**\n"
   ]
  },
  {
   "cell_type": "markdown",
   "metadata": {},
   "source": [
    "### Research Question 2\n",
    "\n",
    "> #### Which boat type has the most views on average?"
   ]
  },
  {
   "cell_type": "code",
   "execution_count": 58,
   "metadata": {},
   "outputs": [
    {
     "data": {
      "text/plain": [
       "boat_type\n",
       "Bowrider,Motor Yacht,Sport Boat             2261.000000\n",
       "Sport Boat,Wakeboard/Wakesurf,Water ski     1095.000000\n",
       "Cabin Boat,Fishing Boat,Sport Boat          1049.000000\n",
       "Hardtop,Motor Yacht                         1048.000000\n",
       "Bowrider,Deck Boat,Water ski                 888.000000\n",
       "Bowrider,Wakeboard/Wakesurf                  879.000000\n",
       "Cabin Boat,Sport Boat,Wakeboard/Wakesurf     867.000000\n",
       "Motor Yacht,Wakeboard/Wakesurf               826.000000\n",
       "Deck Boat,Pilothouse,Sport Boat              738.000000\n",
       "Cabin Boat,Trawler                           737.666667\n",
       "Name: number_of_views_last_7_days, dtype: float64"
      ]
     },
     "execution_count": 58,
     "metadata": {},
     "output_type": "execute_result"
    }
   ],
   "source": [
    "# check top 10 boat types which has most views\n",
    "\n",
    "boat_type_mean = df_clean.groupby(\"boat_type\")[\"number_of_views_last_7_days\"].mean().sort_values(ascending=False)[:10]\n",
    "boat_type_mean"
   ]
  },
  {
   "cell_type": "code",
   "execution_count": 59,
   "metadata": {},
   "outputs": [
    {
     "data": {
      "image/png": "[encoded data removed]",
      "text/plain": [
       "<Figure size 720x360 with 1 Axes>"
      ]
     },
     "metadata": {},
     "output_type": "display_data"
    }
   ],
   "source": [
    "# make bar plot for top 10 boat types vs number of views \n",
    "\n",
    "boat_type_mean.sort_values().plot(kind=\"barh\", \n",
    "              color = \"orchid\",\n",
    "              figsize=(10,5))\n",
    "\n",
    "plt.ylabel(\"Boat type\",fontsize=15, color=\"k\")\n",
    "plt.xlabel(\"Average number of views\",fontsize=15, color=\"k\")\n",
    "plt.title(\"Average number of views VS Boat type\", fontsize=18, color=\"k\", pad=20);\n",
    "plt.xticks(fontsize=13, color=\"k\")\n",
    "plt.yticks(fontsize=13, color=\"k\");"
   ]
  },
  {
   "cell_type": "markdown",
   "metadata": {},
   "source": [
    "### Answer 2\n",
    "* From above visualization we can conclude that:\n",
    "\n",
    "   -  \"Bowrider,Motor Yacht,Sport\" Boats get the most views with average 2261 views.\n",
    "   -  \"Sport Boat,Wakeboard/Wakesurf,Water ski\" Boats come in the second place with 1095 views on average."
   ]
  },
  {
   "cell_type": "markdown",
   "metadata": {},
   "source": [
    "### Research Question 3\n",
    "\n",
    "> #### Which boat and engine condition has the most views on average?"
   ]
  },
  {
   "cell_type": "code",
   "execution_count": 60,
   "metadata": {},
   "outputs": [
    {
     "data": {
      "text/plain": [
       "type\n",
       "new boat from stock,Hybrid    384.000000\n",
       "Used boat,Unleaded            242.072361\n",
       "Display Model,Diesel          234.263158\n",
       "Used boat,Propane             224.000000\n",
       "Display Model                 223.666667\n",
       "Used boat,Gas                 190.900000\n",
       "Display Model,Unleaded        187.360000\n",
       "new boat on order,Diesel      179.409836\n",
       "Used boat,Electric            175.666667\n",
       "Unleaded                      170.909091\n",
       "Name: number_of_views_last_7_days, dtype: float64"
      ]
     },
     "execution_count": 60,
     "metadata": {},
     "output_type": "execute_result"
    }
   ],
   "source": [
    "# check top 10 boat types which has most views\n",
    "\n",
    "type_mean = df_clean.groupby(\"type\")[\"number_of_views_last_7_days\"].mean().sort_values(ascending=False)[:10]\n",
    "type_mean"
   ]
  },
  {
   "cell_type": "code",
   "execution_count": 61,
   "metadata": {},
   "outputs": [
    {
     "data": {
      "image/png": "[encoded data removed]",
      "text/plain": [
       "<Figure size 720x360 with 1 Axes>"
      ]
     },
     "metadata": {},
     "output_type": "display_data"
    }
   ],
   "source": [
    "# make bar plot for top 10 types vs number of views \n",
    "\n",
    "type_mean.sort_values().plot(kind=\"barh\", \n",
    "              color = \"deepskyblue\",\n",
    "              figsize=(10,5))\n",
    "\n",
    "plt.ylabel(\"Boat and engine Condition\",fontsize=15, color=\"k\")\n",
    "plt.xlabel(\"Average number of views\",fontsize=15, color=\"k\")\n",
    "plt.title(\"Average number of views VS condition\", fontsize=18, color=\"k\", pad=20);\n",
    "plt.xticks(fontsize=13, color=\"k\")\n",
    "plt.yticks(fontsize=13, color=\"k\");"
   ]
  },
  {
   "cell_type": "markdown",
   "metadata": {},
   "source": [
    "Boat and engine condition: Hybrid new boats get the most views with average 384 views.\n",
    "Unleaded used boats come in the second place with 242 views on average."
   ]
  },
  {
   "cell_type": "markdown",
   "metadata": {},
   "source": [
    "### Answer 3\n",
    "* From above visualization we can conclude that:\n",
    "   -  Hybrid new boats get the most views with average 384 views.\n",
    "   -  Unleaded used boats come in the second place with 242 views on average."
   ]
  },
  {
   "cell_type": "markdown",
   "metadata": {},
   "source": [
    "### Research Question 4\n",
    "\n",
    "> #### Which boat material has the most views on average?\n",
    "\n",
    "\n"
   ]
  },
  {
   "cell_type": "code",
   "execution_count": 377,
   "metadata": {},
   "outputs": [
    {
     "data": {
      "text/plain": [
       "material\n",
       "Rubber                  63.000000\n",
       "PVC                     85.456812\n",
       "Hypalon                107.600000\n",
       "Steel                  133.158679\n",
       "GRP                    163.993253\n",
       "Reinforced concrete    169.000000\n",
       "Aluminium              169.502183\n",
       "Wood                   222.536170\n",
       "Thermoplastic          246.666667\n",
       "Carbon Fiber           265.100000\n",
       "Plastic                515.298701\n",
       "Name: number_of_views_last_7_days, dtype: float64"
      ]
     },
     "execution_count": 377,
     "metadata": {},
     "output_type": "execute_result"
    }
   ],
   "source": [
    "# check boats material average views \n",
    "\n",
    "material_mean = df_clean.groupby(\"material\")[\"number_of_views_last_7_days\"].mean().sort_values()\n",
    "material_mean"
   ]
  },
  {
   "cell_type": "code",
   "execution_count": 488,
   "metadata": {},
   "outputs": [
    {
     "data": {
      "image/png": "[encoded data removed]",
      "text/plain": [
       "<Figure size 720x360 with 1 Axes>"
      ]
     },
     "metadata": {},
     "output_type": "display_data"
    }
   ],
   "source": [
    "# make bar plot for boats material vs average number of views \n",
    "\n",
    "material_mean.plot(kind=\"barh\", \n",
    "              color = \"goldenrod\",\n",
    "              figsize=(10,5))\n",
    "\n",
    "plt.ylabel(\"Boat Material\",fontsize=15, color=\"k\")\n",
    "plt.xlabel(\"Average number of views\",fontsize=15, color=\"k\")\n",
    "plt.title(\"Average number of views VS Boat material\", fontsize=18, color=\"k\", pad=20);\n",
    "plt.xticks(fontsize=13, color=\"k\")\n",
    "plt.yticks(fontsize=13, color=\"k\");"
   ]
  },
  {
   "cell_type": "markdown",
   "metadata": {},
   "source": [
    "### Answer 4\n",
    "\n",
    "* From above visualization we can conclude that:\n",
    "\n",
    "   - Plastic boats get the most views with average 515 views.\n",
    "   - Carbon Fiber boats come in the second place with 265 views on average.\n",
    "   - Rubber and PVC boats get the least views with average 63 and 85 views respectively."
   ]
  },
  {
   "cell_type": "markdown",
   "metadata": {},
   "source": [
    "### Research Question 5\n",
    "\n",
    "> #### Are there common features among the most viewed boats?\n"
   ]
  },
  {
   "cell_type": "code",
   "execution_count": 480,
   "metadata": {},
   "outputs": [
    {
     "data": {
      "text/html": [
       "<div>\n",
       "<style scoped>\n",
       "    .dataframe tbody tr th:only-of-type {\n",
       "        vertical-align: middle;\n",
       "    }\n",
       "\n",
       "    .dataframe tbody tr th {\n",
       "        vertical-align: top;\n",
       "    }\n",
       "\n",
       "    .dataframe thead th {\n",
       "        text-align: right;\n",
       "    }\n",
       "</style>\n",
       "<table border=\"1\" class=\"dataframe\">\n",
       "  <thead>\n",
       "    <tr style=\"text-align: right;\">\n",
       "      <th></th>\n",
       "      <th>price_in_euro</th>\n",
       "      <th>length</th>\n",
       "      <th>width</th>\n",
       "    </tr>\n",
       "    <tr>\n",
       "      <th>views_level</th>\n",
       "      <th></th>\n",
       "      <th></th>\n",
       "      <th></th>\n",
       "    </tr>\n",
       "  </thead>\n",
       "  <tbody>\n",
       "    <tr>\n",
       "      <th>Low</th>\n",
       "      <td>306688.058552</td>\n",
       "      <td>12.533124</td>\n",
       "      <td>3.760860</td>\n",
       "    </tr>\n",
       "    <tr>\n",
       "      <th>Medium</th>\n",
       "      <td>331775.429545</td>\n",
       "      <td>12.358767</td>\n",
       "      <td>3.696139</td>\n",
       "    </tr>\n",
       "    <tr>\n",
       "      <th>High</th>\n",
       "      <td>297021.508799</td>\n",
       "      <td>11.422328</td>\n",
       "      <td>3.501307</td>\n",
       "    </tr>\n",
       "    <tr>\n",
       "      <th>Very High</th>\n",
       "      <td>277990.211799</td>\n",
       "      <td>9.924699</td>\n",
       "      <td>3.111706</td>\n",
       "    </tr>\n",
       "  </tbody>\n",
       "</table>\n",
       "</div>"
      ],
      "text/plain": [
       "             price_in_euro     length     width\n",
       "views_level                                    \n",
       "Low          306688.058552  12.533124  3.760860\n",
       "Medium       331775.429545  12.358767  3.696139\n",
       "High         297021.508799  11.422328  3.501307\n",
       "Very High    277990.211799   9.924699  3.111706"
      ]
     },
     "execution_count": 480,
     "metadata": {},
     "output_type": "execute_result"
    }
   ],
   "source": [
    "# check the common characteristics for quantitative variables on each views level\n",
    "\n",
    "\n",
    "levels_features = df_clean.groupby(\"views_level\").agg({\"price_in_euro\":\"mean\",\n",
    "                                                     \"length\":\"mean\",\n",
    "                                                     \"width\":\"mean\"})\n",
    "levels_features"
   ]
  },
  {
   "cell_type": "markdown",
   "metadata": {},
   "source": [
    "Very high views level has the smalest boat length and width average. \n",
    "Low views level has the largest boat length and width average.\n"
   ]
  },
  {
   "cell_type": "code",
   "execution_count": 487,
   "metadata": {},
   "outputs": [
    {
     "data": {
      "image/png": "[encoded data removed]",
      "text/plain": [
       "<Figure size 576x288 with 1 Axes>"
      ]
     },
     "metadata": {},
     "output_type": "display_data"
    }
   ],
   "source": [
    "# bar chart for The average Boat length and width for each views level\n",
    "\n",
    "levels_features[[\"length\", \"width\" ]].plot(kind=\"bar\",\n",
    "                                           figsize=(8,4),\n",
    "                                           rot=0)\n",
    "\n",
    "plt.ylabel(\"Average\",fontsize=15, color=\"k\")\n",
    "plt.xlabel(\"Boat length and width for each level\",fontsize=15, color=\"k\")\n",
    "plt.title(\"The average Boat length and width for each views level\", fontsize=18, color=\"k\", pad=20);\n",
    "plt.xticks(fontsize=13, color=\"k\")\n",
    "plt.yticks(fontsize=13, color=\"k\");"
   ]
  },
  {
   "cell_type": "code",
   "execution_count": 501,
   "metadata": {},
   "outputs": [
    {
     "data": {
      "image/png": "[encoded data removed]",
      "text/plain": [
       "<Figure size 576x288 with 1 Axes>"
      ]
     },
     "metadata": {},
     "output_type": "display_data"
    }
   ],
   "source": [
    "# The average Price for each views level\n",
    "\n",
    "levels_features.price_in_euro.sort_values().plot(kind=\"bar\",\n",
    "                                                 figsize=(8,4),\n",
    "                                                 rot=0,\n",
    "                                                color = [ \"mediumseagreen\",\"mediumseagreen\", \"seagreen\",\"forestgreen\"])\n",
    "\n",
    "plt.ylabel(\"Average Price in Euro\",fontsize=15, color=\"k\")\n",
    "plt.xlabel(\"Views Level\",fontsize=15, color=\"k\")\n",
    "plt.title(\"The average price in Euro VS views levels\", fontsize=18, color=\"k\", pad=20)\n",
    "plt.xticks(fontsize=13, color=\"k\")\n",
    "plt.yticks(fontsize=11, color=\"k\");"
   ]
  },
  {
   "cell_type": "markdown",
   "metadata": {},
   "source": [
    "Very high views level has the least expensive boat price on average.\n",
    "Medium views level has the most expensive boat price on average."
   ]
  },
  {
   "cell_type": "code",
   "execution_count": 512,
   "metadata": {},
   "outputs": [
    {
     "data": {
      "text/html": [
       "<div>\n",
       "<style scoped>\n",
       "    .dataframe tbody tr th:only-of-type {\n",
       "        vertical-align: middle;\n",
       "    }\n",
       "\n",
       "    .dataframe tbody tr th {\n",
       "        vertical-align: top;\n",
       "    }\n",
       "\n",
       "    .dataframe thead tr th {\n",
       "        text-align: left;\n",
       "    }\n",
       "\n",
       "    .dataframe thead tr:last-of-type th {\n",
       "        text-align: right;\n",
       "    }\n",
       "</style>\n",
       "<table border=\"1\" class=\"dataframe\">\n",
       "  <thead>\n",
       "    <tr>\n",
       "      <th></th>\n",
       "      <th colspan=\"4\" halign=\"left\">boat_type</th>\n",
       "      <th colspan=\"4\" halign=\"left\">type</th>\n",
       "      <th colspan=\"4\" halign=\"left\">material</th>\n",
       "    </tr>\n",
       "    <tr>\n",
       "      <th></th>\n",
       "      <th>count</th>\n",
       "      <th>unique</th>\n",
       "      <th>top</th>\n",
       "      <th>freq</th>\n",
       "      <th>count</th>\n",
       "      <th>unique</th>\n",
       "      <th>top</th>\n",
       "      <th>freq</th>\n",
       "      <th>count</th>\n",
       "      <th>unique</th>\n",
       "      <th>top</th>\n",
       "      <th>freq</th>\n",
       "    </tr>\n",
       "    <tr>\n",
       "      <th>views_level</th>\n",
       "      <th></th>\n",
       "      <th></th>\n",
       "      <th></th>\n",
       "      <th></th>\n",
       "      <th></th>\n",
       "      <th></th>\n",
       "      <th></th>\n",
       "      <th></th>\n",
       "      <th></th>\n",
       "      <th></th>\n",
       "      <th></th>\n",
       "      <th></th>\n",
       "    </tr>\n",
       "  </thead>\n",
       "  <tbody>\n",
       "    <tr>\n",
       "      <th>Low</th>\n",
       "      <td>2514</td>\n",
       "      <td>33</td>\n",
       "      <td>Motor Yacht</td>\n",
       "      <td>747</td>\n",
       "      <td>2511</td>\n",
       "      <td>16</td>\n",
       "      <td>Used boat,Diesel</td>\n",
       "      <td>1241</td>\n",
       "      <td>1989</td>\n",
       "      <td>9</td>\n",
       "      <td>GRP</td>\n",
       "      <td>1205</td>\n",
       "    </tr>\n",
       "    <tr>\n",
       "      <th>Medium</th>\n",
       "      <td>2481</td>\n",
       "      <td>33</td>\n",
       "      <td>Motor Yacht</td>\n",
       "      <td>755</td>\n",
       "      <td>2481</td>\n",
       "      <td>20</td>\n",
       "      <td>Used boat,Diesel</td>\n",
       "      <td>1165</td>\n",
       "      <td>2006</td>\n",
       "      <td>9</td>\n",
       "      <td>GRP</td>\n",
       "      <td>1277</td>\n",
       "    </tr>\n",
       "    <tr>\n",
       "      <th>High</th>\n",
       "      <td>2447</td>\n",
       "      <td>41</td>\n",
       "      <td>Motor Yacht</td>\n",
       "      <td>717</td>\n",
       "      <td>2445</td>\n",
       "      <td>19</td>\n",
       "      <td>Used boat,Diesel</td>\n",
       "      <td>981</td>\n",
       "      <td>2000</td>\n",
       "      <td>10</td>\n",
       "      <td>GRP</td>\n",
       "      <td>1385</td>\n",
       "    </tr>\n",
       "    <tr>\n",
       "      <th>Very High</th>\n",
       "      <td>2446</td>\n",
       "      <td>116</td>\n",
       "      <td>Motor Yacht</td>\n",
       "      <td>501</td>\n",
       "      <td>2445</td>\n",
       "      <td>21</td>\n",
       "      <td>Used boat,Unleaded</td>\n",
       "      <td>846</td>\n",
       "      <td>2144</td>\n",
       "      <td>8</td>\n",
       "      <td>GRP</td>\n",
       "      <td>1617</td>\n",
       "    </tr>\n",
       "  </tbody>\n",
       "</table>\n",
       "</div>"
      ],
      "text/plain": [
       "            boat_type                           type         \\\n",
       "                count unique          top freq count unique   \n",
       "views_level                                                   \n",
       "Low              2514     33  Motor Yacht  747  2511     16   \n",
       "Medium           2481     33  Motor Yacht  755  2481     20   \n",
       "High             2447     41  Motor Yacht  717  2445     19   \n",
       "Very High        2446    116  Motor Yacht  501  2445     21   \n",
       "\n",
       "                                      material                    \n",
       "                            top  freq    count unique  top  freq  \n",
       "views_level                                                       \n",
       "Low            Used boat,Diesel  1241     1989      9  GRP  1205  \n",
       "Medium         Used boat,Diesel  1165     2006      9  GRP  1277  \n",
       "High           Used boat,Diesel   981     2000     10  GRP  1385  \n",
       "Very High    Used boat,Unleaded   846     2144      8  GRP  1617  "
      ]
     },
     "execution_count": 512,
     "metadata": {},
     "output_type": "execute_result"
    }
   ],
   "source": [
    "# check the common characteristics for categorical variables on each views level\n",
    "\n",
    "df_clean.groupby(\"views_level\").describe(include= 'category').iloc[:, :12]"
   ]
  },
  {
   "cell_type": "markdown",
   "metadata": {},
   "source": [
    "### Answer 5\n",
    "\n",
    "* From above visualisation we can conclude that:\n",
    "\n",
    "   - Very high views level has the smalest boat length and width average.\n",
    "   - Low views level has the largest boat length and width average.\n",
    "   - Very high views level has the least expensive boat price on average.\n",
    "   - Medium views level has the most expensive boat price on average.\n",
    "   - The most frequant boat type is motor yacht for all views levels.\n",
    "   - The most frequant engine condition is \"Used boat,Diesel\" for low, medium and high views levels and \"Used boat,Unleaded\" for very high views level.\n",
    "   - The most frequant boat material is \"GRP\" for all views levels.\n",
    "   "
   ]
  },
  {
   "cell_type": "markdown",
   "metadata": {},
   "source": [
    "<a id='conclusions'></a>\n",
    "## Conclusions\n",
    "\n",
    "\n",
    "> **1.  The cheapest boats get the most views and the most expensive boats get the least views on average.**\n",
    "\n",
    "> **2. \"Bowrider,Motor Yacht,Sport\" Boats get the most views on average.**\n",
    "\n",
    "> **3. Plastic,Carbon Fiber and Thermo Plastic boats get the most views respectively.**\n",
    "\n",
    "> **4. Rubber,PVC boats get the least views respectively.**\n",
    "\n",
    "> **5. The smaller the boat, the more views it gets:**\n",
    "    > * Boats with the smalest length and width average get the most views.\n",
    "    >*  Boats with the largest length and width average get the least views.\n",
    "\n",
    "> **6. Very high views level has the least expensive boat price on average.**\n",
    "\n",
    "> **7. The most frequant boat type is motor yacht for all views levels.**\n",
    "\n",
    "> **8. The most frequant boat material is \"GRP\" for all views levels.**\n",
    "\n",
    "> **9. The most frequant engine condition for very high views level is \"Used \n",
    "boat,Unleaded\".**\n",
    "\n"
   ]
  },
  {
   "cell_type": "markdown",
   "metadata": {},
   "source": [
    "# Limitation and recommendations"
   ]
  },
  {
   "cell_type": "markdown",
   "metadata": {},
   "source": [
    "\n",
    "> **1. There are a lot of empty values on this data set (Nans) especially on Manufacturing and Material columns.**\n",
    "\n",
    "> **2. The minimum boat width is 0.01 Meter which is obviously a typo issue.**\n",
    "\n",
    "> **3. There are 551 observations with value 0 on Year Built column.**\n",
    "\n",
    "\n",
    "## It's very important to give these points more attention in the future because they may affect our results accuracy and we need avoid such mistakes.\n"
   ]
  },
  {
   "cell_type": "code",
   "execution_count": null,
   "metadata": {},
   "outputs": [],
   "source": []
  }
 ],
 "metadata": {
  "kernelspec": {
   "display_name": "Python 3 (ipykernel)",
   "language": "python",
   "name": "python3"
  },
  "language_info": {
   "codemirror_mode": {
    "name": "ipython",
    "version": 3
   },
   "file_extension": ".py",
   "mimetype": "text/x-python",
   "name": "python",
   "nbconvert_exporter": "python",
   "pygments_lexer": "ipython3",
   "version": "3.9.7"
  }
 },
 "nbformat": 4,
 "nbformat_minor": 2
}
