{
 "cells": [
  {
   "cell_type": "markdown",
   "metadata": {},
   "source": [
    "# Project: The Android App Market on Google Play.\n",
    "\n",
    "## Table of Contents\n",
    "<ul>\n",
    "<li><a href=\"#intro\">Introduction</a></li>\n",
    "<li><a href=\"#Quest\">Questions</a></li>\n",
    "<li><a href=\"#wrangling\">Data Wrangling</a></li>\n",
    "<li><a href=\"#eda\">Exploratory Data Analysis</a></li>\n",
    "<li><a href=\"#conclusions\">Conclusions</a></li>\n",
    "</ul>"
   ]
  },
  {
   "cell_type": "markdown",
   "metadata": {},
   "source": [
    "<a id='intro'></a>\n",
    "## Introduction\n",
    "\n",
    "\n",
    "\n",
    "<p><img src=\"https://assets.datacamp.com/production/project_1197/img/google_play_store.png\" alt=\"Google Play logo\"></p>\n",
    "\n",
    "**Descriptions:** \n",
    "\n",
    "<p>Mobile apps are everywhere. They are easy to create and can be very lucrative from the business standpoint. Specifically, Android is expanding as an operating system and has captured more than 74% of the total market<sup><a href=\"https://www.statista.com/statistics/272698/global-market-share-held-by-mobile-operating-systems-since-2009\">[1]</a></sup>. </p>\n",
    "<p>The Google Play Store apps data has enormous potential to facilitate data-driven decisions and insights for businesses. In this notebook, we will analyze the Android app market by comparing ~10k apps in Google Play across different categories. We will also use the user reviews to draw a qualitative comparision between the apps.</p>\n",
    "\n",
    "**Apps dataset columns descriptions:**\n",
    "\n",
    "This file contains all the details of the apps on Google Play. There are 9 features that describe a given app.\n",
    "<ul>\n",
    "    <li><b>App:</b> Name of the app</li>\n",
    "    <li><b>Category:</b> Category of the app. Some examples are: ART_AND_DESIGN, FINANCE, COMICS, BEAUTY etc.</li>\n",
    "    <li><b>Rating:</b> The current average rating (out of 5) of the app on Google Play</li>\n",
    "    <li><b>Reviews:</b> Number of user reviews given on the app</li>\n",
    "    <li><b>Size:</b> Size of the app in MB (megabytes)</li>\n",
    "    <li><b>Installs:</b> Number of times the app was downloaded from Google Play</li>\n",
    "    <li><b>Type:</b> Whether the app is paid or free</li>\n",
    "    <li><b>Price:</b> Price of the app in US$</li>\n",
    "    <li><b>Last Updated:</b> Date on which the app was last updated on Google Play</li>\n",
    "</ul> \n",
    "\n",
    "**User_reviews dataset columns descriptions:**\n",
    "\n",
    "\n",
    "contains 100 reviews for each app, most helpful first. The text in each review has been pre-processed and attributed with three new features: Sentiment (Positive, Negative or Neutral), Sentiment Polarity and Sentiment Subjectivity.\n",
    "\n",
    "<ul>\n",
    "   <li><b>App:</b> Name of the app on which the user review was provided. Matches the `App` column of the `apps.csv` file</li>\n",
    "    <li><b>Review:</b> The pre-processed user review text</li>\n",
    "    <li><b>Sentiment Category:</b> Sentiment category of the user review - Positive, Negative or Neutral</li>\n",
    "    <li><b>Sentiment Score:</b> Sentiment score of the user review. It lies between [-1,1]. A higher score denotes a more positive sentiment.</li>\n",
    "</ul> "
   ]
  },
  {
   "cell_type": "markdown",
   "metadata": {},
   "source": [
    "<a id='Quest'></a>\n",
    "## **Questions:**\n",
    "\n",
    "\n",
    "**1. Which app type has the most average rating? (Free or paid apps)**\n",
    "\n",
    "\n",
    "**2. Which app type has the most number of apps? (Free or paid apps)**\n",
    "\n",
    "\n",
    "**3. Which category has the most average price?**\n",
    "\n",
    "\n",
    "**4. Which category has the most average rating?**\n",
    "\n",
    "\n",
    "**5. Which category has the most number of apps?**\n",
    "\n",
    "\n",
    "**6. What are the top 5 positive sentiment apps?**\n",
    "\n",
    "\n",
    "**7. What are the top 5 negative sentiment apps?**\n"
   ]
  },
  {
   "cell_type": "markdown",
   "metadata": {},
   "source": [
    "### importing libraries that will be used to investigate Dataset"
   ]
  },
  {
   "cell_type": "code",
   "execution_count": 1,
   "metadata": {},
   "outputs": [],
   "source": [
    "import pandas as pd \n",
    "import numpy as np\n",
    "import matplotlib.pyplot as plt\n",
    "%matplotlib inline\n",
    "import seaborn as sns\n",
    "import datetime\n",
    "sns.set_style(\"whitegrid\")\n",
    "from statsmodels.distributions.empirical_distribution import ECDF"
   ]
  },
  {
   "cell_type": "markdown",
   "metadata": {},
   "source": [
    "<a id='wrangling'></a>\n",
    "## Data Wrangling\n",
    "\n",
    " **This is a three step process:**\n",
    "\n",
    "*  Gathering the data from Dataset and investegate it trying to understand more details about it. \n",
    "\n",
    "\n",
    "*  Assessing data to identify any issues with data types, structure, or quality.\n",
    "\n",
    "\n",
    "*  Cleaning data by changing data types, replacing values, removing unnecessary data and modifying Dataset for easy and fast analysis.\n"
   ]
  },
  {
   "cell_type": "markdown",
   "metadata": {},
   "source": [
    "### Gathering Data"
   ]
  },
  {
   "cell_type": "code",
   "execution_count": 2,
   "metadata": {},
   "outputs": [],
   "source": [
    "# loading CSV files into 2 Dataframes  //apps and reviews//\n",
    "\n",
    "apps = pd.read_csv(\"apps.csv\")\n",
    "reviews = pd.read_csv(\"user_reviews.csv\")"
   ]
  },
  {
   "cell_type": "code",
   "execution_count": 3,
   "metadata": {},
   "outputs": [
    {
     "data": {
      "text/html": [
       "<div>\n",
       "<style scoped>\n",
       "    .dataframe tbody tr th:only-of-type {\n",
       "        vertical-align: middle;\n",
       "    }\n",
       "\n",
       "    .dataframe tbody tr th {\n",
       "        vertical-align: top;\n",
       "    }\n",
       "\n",
       "    .dataframe thead th {\n",
       "        text-align: right;\n",
       "    }\n",
       "</style>\n",
       "<table border=\"1\" class=\"dataframe\">\n",
       "  <thead>\n",
       "    <tr style=\"text-align: right;\">\n",
       "      <th></th>\n",
       "      <th>App</th>\n",
       "      <th>Category</th>\n",
       "      <th>Rating</th>\n",
       "      <th>Reviews</th>\n",
       "      <th>Size</th>\n",
       "      <th>Installs</th>\n",
       "      <th>Type</th>\n",
       "      <th>Price</th>\n",
       "      <th>Last Updated</th>\n",
       "    </tr>\n",
       "  </thead>\n",
       "  <tbody>\n",
       "    <tr>\n",
       "      <th>0</th>\n",
       "      <td>Photo Editor &amp; Candy Camera &amp; Grid &amp; ScrapBook</td>\n",
       "      <td>ART_AND_DESIGN</td>\n",
       "      <td>4.1</td>\n",
       "      <td>159</td>\n",
       "      <td>19.0</td>\n",
       "      <td>10,000+</td>\n",
       "      <td>Free</td>\n",
       "      <td>0.0</td>\n",
       "      <td>January 7, 2018</td>\n",
       "    </tr>\n",
       "    <tr>\n",
       "      <th>1</th>\n",
       "      <td>Coloring book moana</td>\n",
       "      <td>ART_AND_DESIGN</td>\n",
       "      <td>3.9</td>\n",
       "      <td>967</td>\n",
       "      <td>14.0</td>\n",
       "      <td>500,000+</td>\n",
       "      <td>Free</td>\n",
       "      <td>0.0</td>\n",
       "      <td>January 15, 2018</td>\n",
       "    </tr>\n",
       "    <tr>\n",
       "      <th>2</th>\n",
       "      <td>U Launcher Lite – FREE Live Cool Themes, Hide ...</td>\n",
       "      <td>ART_AND_DESIGN</td>\n",
       "      <td>4.7</td>\n",
       "      <td>87510</td>\n",
       "      <td>8.7</td>\n",
       "      <td>5,000,000+</td>\n",
       "      <td>Free</td>\n",
       "      <td>0.0</td>\n",
       "      <td>August 1, 2018</td>\n",
       "    </tr>\n",
       "    <tr>\n",
       "      <th>3</th>\n",
       "      <td>Sketch - Draw &amp; Paint</td>\n",
       "      <td>ART_AND_DESIGN</td>\n",
       "      <td>4.5</td>\n",
       "      <td>215644</td>\n",
       "      <td>25.0</td>\n",
       "      <td>50,000,000+</td>\n",
       "      <td>Free</td>\n",
       "      <td>0.0</td>\n",
       "      <td>June 8, 2018</td>\n",
       "    </tr>\n",
       "    <tr>\n",
       "      <th>4</th>\n",
       "      <td>Pixel Draw - Number Art Coloring Book</td>\n",
       "      <td>ART_AND_DESIGN</td>\n",
       "      <td>4.3</td>\n",
       "      <td>967</td>\n",
       "      <td>2.8</td>\n",
       "      <td>100,000+</td>\n",
       "      <td>Free</td>\n",
       "      <td>0.0</td>\n",
       "      <td>June 20, 2018</td>\n",
       "    </tr>\n",
       "  </tbody>\n",
       "</table>\n",
       "</div>"
      ],
      "text/plain": [
       "                                                 App        Category  Rating  \\\n",
       "0     Photo Editor & Candy Camera & Grid & ScrapBook  ART_AND_DESIGN     4.1   \n",
       "1                                Coloring book moana  ART_AND_DESIGN     3.9   \n",
       "2  U Launcher Lite – FREE Live Cool Themes, Hide ...  ART_AND_DESIGN     4.7   \n",
       "3                              Sketch - Draw & Paint  ART_AND_DESIGN     4.5   \n",
       "4              Pixel Draw - Number Art Coloring Book  ART_AND_DESIGN     4.3   \n",
       "\n",
       "   Reviews  Size     Installs  Type  Price      Last Updated  \n",
       "0      159  19.0      10,000+  Free    0.0   January 7, 2018  \n",
       "1      967  14.0     500,000+  Free    0.0  January 15, 2018  \n",
       "2    87510   8.7   5,000,000+  Free    0.0    August 1, 2018  \n",
       "3   215644  25.0  50,000,000+  Free    0.0      June 8, 2018  \n",
       "4      967   2.8     100,000+  Free    0.0     June 20, 2018  "
      ]
     },
     "execution_count": 3,
     "metadata": {},
     "output_type": "execute_result"
    }
   ],
   "source": [
    "#checking 5 rows sample from Dataframes\n",
    "\n",
    "apps.head()"
   ]
  },
  {
   "cell_type": "code",
   "execution_count": 4,
   "metadata": {},
   "outputs": [
    {
     "data": {
      "text/html": [
       "<div>\n",
       "<style scoped>\n",
       "    .dataframe tbody tr th:only-of-type {\n",
       "        vertical-align: middle;\n",
       "    }\n",
       "\n",
       "    .dataframe tbody tr th {\n",
       "        vertical-align: top;\n",
       "    }\n",
       "\n",
       "    .dataframe thead th {\n",
       "        text-align: right;\n",
       "    }\n",
       "</style>\n",
       "<table border=\"1\" class=\"dataframe\">\n",
       "  <thead>\n",
       "    <tr style=\"text-align: right;\">\n",
       "      <th></th>\n",
       "      <th>App</th>\n",
       "      <th>Review</th>\n",
       "      <th>Sentiment Category</th>\n",
       "      <th>Sentiment Score</th>\n",
       "    </tr>\n",
       "  </thead>\n",
       "  <tbody>\n",
       "    <tr>\n",
       "      <th>0</th>\n",
       "      <td>10 Best Foods for You</td>\n",
       "      <td>I like eat delicious food. That's I'm cooking ...</td>\n",
       "      <td>Positive</td>\n",
       "      <td>1.00</td>\n",
       "    </tr>\n",
       "    <tr>\n",
       "      <th>1</th>\n",
       "      <td>10 Best Foods for You</td>\n",
       "      <td>This help eating healthy exercise regular basis</td>\n",
       "      <td>Positive</td>\n",
       "      <td>0.25</td>\n",
       "    </tr>\n",
       "    <tr>\n",
       "      <th>2</th>\n",
       "      <td>10 Best Foods for You</td>\n",
       "      <td>NaN</td>\n",
       "      <td>NaN</td>\n",
       "      <td>NaN</td>\n",
       "    </tr>\n",
       "    <tr>\n",
       "      <th>3</th>\n",
       "      <td>10 Best Foods for You</td>\n",
       "      <td>Works great especially going grocery store</td>\n",
       "      <td>Positive</td>\n",
       "      <td>0.40</td>\n",
       "    </tr>\n",
       "    <tr>\n",
       "      <th>4</th>\n",
       "      <td>10 Best Foods for You</td>\n",
       "      <td>Best idea us</td>\n",
       "      <td>Positive</td>\n",
       "      <td>1.00</td>\n",
       "    </tr>\n",
       "  </tbody>\n",
       "</table>\n",
       "</div>"
      ],
      "text/plain": [
       "                     App                                             Review  \\\n",
       "0  10 Best Foods for You  I like eat delicious food. That's I'm cooking ...   \n",
       "1  10 Best Foods for You    This help eating healthy exercise regular basis   \n",
       "2  10 Best Foods for You                                                NaN   \n",
       "3  10 Best Foods for You         Works great especially going grocery store   \n",
       "4  10 Best Foods for You                                       Best idea us   \n",
       "\n",
       "  Sentiment Category  Sentiment Score  \n",
       "0           Positive             1.00  \n",
       "1           Positive             0.25  \n",
       "2                NaN              NaN  \n",
       "3           Positive             0.40  \n",
       "4           Positive             1.00  "
      ]
     },
     "execution_count": 4,
     "metadata": {},
     "output_type": "execute_result"
    }
   ],
   "source": [
    "reviews.head()"
   ]
  },
  {
   "cell_type": "markdown",
   "metadata": {},
   "source": [
    "### Assessing Data"
   ]
  },
  {
   "cell_type": "code",
   "execution_count": 5,
   "metadata": {},
   "outputs": [
    {
     "name": "stdout",
     "output_type": "stream",
     "text": [
      "<class 'pandas.core.frame.DataFrame'>\n",
      "RangeIndex: 9659 entries, 0 to 9658\n",
      "Data columns (total 9 columns):\n",
      " #   Column        Non-Null Count  Dtype  \n",
      "---  ------        --------------  -----  \n",
      " 0   App           9659 non-null   object \n",
      " 1   Category      9659 non-null   object \n",
      " 2   Rating        8196 non-null   float64\n",
      " 3   Reviews       9659 non-null   int64  \n",
      " 4   Size          8432 non-null   float64\n",
      " 5   Installs      9659 non-null   object \n",
      " 6   Type          9659 non-null   object \n",
      " 7   Price         9659 non-null   float64\n",
      " 8   Last Updated  9659 non-null   object \n",
      "dtypes: float64(3), int64(1), object(5)\n",
      "memory usage: 679.3+ KB\n"
     ]
    }
   ],
   "source": [
    "#checking Dataframe basic informations (columns names, number of values, data types ......)\n",
    "\n",
    "apps.info()"
   ]
  },
  {
   "cell_type": "code",
   "execution_count": 6,
   "metadata": {},
   "outputs": [
    {
     "name": "stdout",
     "output_type": "stream",
     "text": [
      "<class 'pandas.core.frame.DataFrame'>\n",
      "RangeIndex: 64295 entries, 0 to 64294\n",
      "Data columns (total 4 columns):\n",
      " #   Column              Non-Null Count  Dtype  \n",
      "---  ------              --------------  -----  \n",
      " 0   App                 64295 non-null  object \n",
      " 1   Review              37427 non-null  object \n",
      " 2   Sentiment Category  37432 non-null  object \n",
      " 3   Sentiment Score     37432 non-null  float64\n",
      "dtypes: float64(1), object(3)\n",
      "memory usage: 2.0+ MB\n"
     ]
    }
   ],
   "source": [
    "reviews.info()"
   ]
  },
  {
   "cell_type": "code",
   "execution_count": 7,
   "metadata": {},
   "outputs": [
    {
     "data": {
      "text/plain": [
       "(9659, 9)"
      ]
     },
     "execution_count": 7,
     "metadata": {},
     "output_type": "execute_result"
    }
   ],
   "source": [
    "#checking Dataframe shape (number of rows and columns)\n",
    "\n",
    "apps.shape"
   ]
  },
  {
   "cell_type": "code",
   "execution_count": 8,
   "metadata": {},
   "outputs": [
    {
     "data": {
      "text/plain": [
       "(64295, 4)"
      ]
     },
     "execution_count": 8,
     "metadata": {},
     "output_type": "execute_result"
    }
   ],
   "source": [
    "reviews.shape"
   ]
  },
  {
   "cell_type": "code",
   "execution_count": 9,
   "metadata": {},
   "outputs": [
    {
     "data": {
      "text/html": [
       "<div>\n",
       "<style scoped>\n",
       "    .dataframe tbody tr th:only-of-type {\n",
       "        vertical-align: middle;\n",
       "    }\n",
       "\n",
       "    .dataframe tbody tr th {\n",
       "        vertical-align: top;\n",
       "    }\n",
       "\n",
       "    .dataframe thead th {\n",
       "        text-align: right;\n",
       "    }\n",
       "</style>\n",
       "<table border=\"1\" class=\"dataframe\">\n",
       "  <thead>\n",
       "    <tr style=\"text-align: right;\">\n",
       "      <th></th>\n",
       "      <th>Rating</th>\n",
       "      <th>Reviews</th>\n",
       "      <th>Size</th>\n",
       "      <th>Price</th>\n",
       "    </tr>\n",
       "  </thead>\n",
       "  <tbody>\n",
       "    <tr>\n",
       "      <th>count</th>\n",
       "      <td>8196.000000</td>\n",
       "      <td>9.659000e+03</td>\n",
       "      <td>8432.000000</td>\n",
       "      <td>9659.000000</td>\n",
       "    </tr>\n",
       "    <tr>\n",
       "      <th>mean</th>\n",
       "      <td>4.173243</td>\n",
       "      <td>2.165926e+05</td>\n",
       "      <td>20.395327</td>\n",
       "      <td>1.099299</td>\n",
       "    </tr>\n",
       "    <tr>\n",
       "      <th>std</th>\n",
       "      <td>0.536625</td>\n",
       "      <td>1.831320e+06</td>\n",
       "      <td>21.827509</td>\n",
       "      <td>16.852152</td>\n",
       "    </tr>\n",
       "    <tr>\n",
       "      <th>min</th>\n",
       "      <td>1.000000</td>\n",
       "      <td>0.000000e+00</td>\n",
       "      <td>0.000000</td>\n",
       "      <td>0.000000</td>\n",
       "    </tr>\n",
       "    <tr>\n",
       "      <th>25%</th>\n",
       "      <td>4.000000</td>\n",
       "      <td>2.500000e+01</td>\n",
       "      <td>4.600000</td>\n",
       "      <td>0.000000</td>\n",
       "    </tr>\n",
       "    <tr>\n",
       "      <th>50%</th>\n",
       "      <td>4.300000</td>\n",
       "      <td>9.670000e+02</td>\n",
       "      <td>12.000000</td>\n",
       "      <td>0.000000</td>\n",
       "    </tr>\n",
       "    <tr>\n",
       "      <th>75%</th>\n",
       "      <td>4.500000</td>\n",
       "      <td>2.940100e+04</td>\n",
       "      <td>28.000000</td>\n",
       "      <td>0.000000</td>\n",
       "    </tr>\n",
       "    <tr>\n",
       "      <th>max</th>\n",
       "      <td>5.000000</td>\n",
       "      <td>7.815831e+07</td>\n",
       "      <td>100.000000</td>\n",
       "      <td>400.000000</td>\n",
       "    </tr>\n",
       "  </tbody>\n",
       "</table>\n",
       "</div>"
      ],
      "text/plain": [
       "            Rating       Reviews         Size        Price\n",
       "count  8196.000000  9.659000e+03  8432.000000  9659.000000\n",
       "mean      4.173243  2.165926e+05    20.395327     1.099299\n",
       "std       0.536625  1.831320e+06    21.827509    16.852152\n",
       "min       1.000000  0.000000e+00     0.000000     0.000000\n",
       "25%       4.000000  2.500000e+01     4.600000     0.000000\n",
       "50%       4.300000  9.670000e+02    12.000000     0.000000\n",
       "75%       4.500000  2.940100e+04    28.000000     0.000000\n",
       "max       5.000000  7.815831e+07   100.000000   400.000000"
      ]
     },
     "execution_count": 9,
     "metadata": {},
     "output_type": "execute_result"
    }
   ],
   "source": [
    "#checking more information and descriptive statistics (Quantitative variables)\n",
    "\n",
    "apps.describe()"
   ]
  },
  {
   "cell_type": "code",
   "execution_count": 10,
   "metadata": {},
   "outputs": [
    {
     "data": {
      "text/html": [
       "<div>\n",
       "<style scoped>\n",
       "    .dataframe tbody tr th:only-of-type {\n",
       "        vertical-align: middle;\n",
       "    }\n",
       "\n",
       "    .dataframe tbody tr th {\n",
       "        vertical-align: top;\n",
       "    }\n",
       "\n",
       "    .dataframe thead th {\n",
       "        text-align: right;\n",
       "    }\n",
       "</style>\n",
       "<table border=\"1\" class=\"dataframe\">\n",
       "  <thead>\n",
       "    <tr style=\"text-align: right;\">\n",
       "      <th></th>\n",
       "      <th>Sentiment Score</th>\n",
       "    </tr>\n",
       "  </thead>\n",
       "  <tbody>\n",
       "    <tr>\n",
       "      <th>count</th>\n",
       "      <td>37432.000000</td>\n",
       "    </tr>\n",
       "    <tr>\n",
       "      <th>mean</th>\n",
       "      <td>0.182146</td>\n",
       "    </tr>\n",
       "    <tr>\n",
       "      <th>std</th>\n",
       "      <td>0.351301</td>\n",
       "    </tr>\n",
       "    <tr>\n",
       "      <th>min</th>\n",
       "      <td>-1.000000</td>\n",
       "    </tr>\n",
       "    <tr>\n",
       "      <th>25%</th>\n",
       "      <td>0.000000</td>\n",
       "    </tr>\n",
       "    <tr>\n",
       "      <th>50%</th>\n",
       "      <td>0.150000</td>\n",
       "    </tr>\n",
       "    <tr>\n",
       "      <th>75%</th>\n",
       "      <td>0.400000</td>\n",
       "    </tr>\n",
       "    <tr>\n",
       "      <th>max</th>\n",
       "      <td>1.000000</td>\n",
       "    </tr>\n",
       "  </tbody>\n",
       "</table>\n",
       "</div>"
      ],
      "text/plain": [
       "       Sentiment Score\n",
       "count     37432.000000\n",
       "mean          0.182146\n",
       "std           0.351301\n",
       "min          -1.000000\n",
       "25%           0.000000\n",
       "50%           0.150000\n",
       "75%           0.400000\n",
       "max           1.000000"
      ]
     },
     "execution_count": 10,
     "metadata": {},
     "output_type": "execute_result"
    }
   ],
   "source": [
    "reviews.describe()"
   ]
  },
  {
   "cell_type": "code",
   "execution_count": 11,
   "metadata": {},
   "outputs": [
    {
     "data": {
      "text/html": [
       "<div>\n",
       "<style scoped>\n",
       "    .dataframe tbody tr th:only-of-type {\n",
       "        vertical-align: middle;\n",
       "    }\n",
       "\n",
       "    .dataframe tbody tr th {\n",
       "        vertical-align: top;\n",
       "    }\n",
       "\n",
       "    .dataframe thead th {\n",
       "        text-align: right;\n",
       "    }\n",
       "</style>\n",
       "<table border=\"1\" class=\"dataframe\">\n",
       "  <thead>\n",
       "    <tr style=\"text-align: right;\">\n",
       "      <th></th>\n",
       "      <th>App</th>\n",
       "      <th>Category</th>\n",
       "      <th>Installs</th>\n",
       "      <th>Type</th>\n",
       "      <th>Last Updated</th>\n",
       "    </tr>\n",
       "  </thead>\n",
       "  <tbody>\n",
       "    <tr>\n",
       "      <th>count</th>\n",
       "      <td>9659</td>\n",
       "      <td>9659</td>\n",
       "      <td>9659</td>\n",
       "      <td>9659</td>\n",
       "      <td>9659</td>\n",
       "    </tr>\n",
       "    <tr>\n",
       "      <th>unique</th>\n",
       "      <td>9659</td>\n",
       "      <td>33</td>\n",
       "      <td>21</td>\n",
       "      <td>2</td>\n",
       "      <td>1377</td>\n",
       "    </tr>\n",
       "    <tr>\n",
       "      <th>top</th>\n",
       "      <td>Photo Editor &amp; Candy Camera &amp; Grid &amp; ScrapBook</td>\n",
       "      <td>FAMILY</td>\n",
       "      <td>1,000,000+</td>\n",
       "      <td>Free</td>\n",
       "      <td>August 3, 2018</td>\n",
       "    </tr>\n",
       "    <tr>\n",
       "      <th>freq</th>\n",
       "      <td>1</td>\n",
       "      <td>1832</td>\n",
       "      <td>1417</td>\n",
       "      <td>8903</td>\n",
       "      <td>252</td>\n",
       "    </tr>\n",
       "  </tbody>\n",
       "</table>\n",
       "</div>"
      ],
      "text/plain": [
       "                                                   App Category    Installs  \\\n",
       "count                                             9659     9659        9659   \n",
       "unique                                            9659       33          21   \n",
       "top     Photo Editor & Candy Camera & Grid & ScrapBook   FAMILY  1,000,000+   \n",
       "freq                                                 1     1832        1417   \n",
       "\n",
       "        Type    Last Updated  \n",
       "count   9659            9659  \n",
       "unique     2            1377  \n",
       "top     Free  August 3, 2018  \n",
       "freq    8903             252  "
      ]
     },
     "execution_count": 11,
     "metadata": {},
     "output_type": "execute_result"
    }
   ],
   "source": [
    "#checking more information and descriptive statistics (Categorical variables)\n",
    "\n",
    "apps.describe(include=\"O\")"
   ]
  },
  {
   "cell_type": "code",
   "execution_count": 12,
   "metadata": {},
   "outputs": [
    {
     "data": {
      "text/html": [
       "<div>\n",
       "<style scoped>\n",
       "    .dataframe tbody tr th:only-of-type {\n",
       "        vertical-align: middle;\n",
       "    }\n",
       "\n",
       "    .dataframe tbody tr th {\n",
       "        vertical-align: top;\n",
       "    }\n",
       "\n",
       "    .dataframe thead th {\n",
       "        text-align: right;\n",
       "    }\n",
       "</style>\n",
       "<table border=\"1\" class=\"dataframe\">\n",
       "  <thead>\n",
       "    <tr style=\"text-align: right;\">\n",
       "      <th></th>\n",
       "      <th>App</th>\n",
       "      <th>Review</th>\n",
       "      <th>Sentiment Category</th>\n",
       "    </tr>\n",
       "  </thead>\n",
       "  <tbody>\n",
       "    <tr>\n",
       "      <th>count</th>\n",
       "      <td>64295</td>\n",
       "      <td>37427</td>\n",
       "      <td>37432</td>\n",
       "    </tr>\n",
       "    <tr>\n",
       "      <th>unique</th>\n",
       "      <td>1074</td>\n",
       "      <td>27994</td>\n",
       "      <td>3</td>\n",
       "    </tr>\n",
       "    <tr>\n",
       "      <th>top</th>\n",
       "      <td>Angry Birds Classic</td>\n",
       "      <td>Good</td>\n",
       "      <td>Positive</td>\n",
       "    </tr>\n",
       "    <tr>\n",
       "      <th>freq</th>\n",
       "      <td>320</td>\n",
       "      <td>247</td>\n",
       "      <td>23998</td>\n",
       "    </tr>\n",
       "  </tbody>\n",
       "</table>\n",
       "</div>"
      ],
      "text/plain": [
       "                        App Review Sentiment Category\n",
       "count                 64295  37427              37432\n",
       "unique                 1074  27994                  3\n",
       "top     Angry Birds Classic   Good           Positive\n",
       "freq                    320    247              23998"
      ]
     },
     "execution_count": 12,
     "metadata": {},
     "output_type": "execute_result"
    }
   ],
   "source": [
    "reviews.describe(include=\"O\")"
   ]
  },
  {
   "cell_type": "code",
   "execution_count": 13,
   "metadata": {},
   "outputs": [
    {
     "data": {
      "text/plain": [
       "App                0\n",
       "Category           0\n",
       "Rating          1463\n",
       "Reviews            0\n",
       "Size            1227\n",
       "Installs           0\n",
       "Type               0\n",
       "Price              0\n",
       "Last Updated       0\n",
       "dtype: int64"
      ]
     },
     "execution_count": 13,
     "metadata": {},
     "output_type": "execute_result"
    }
   ],
   "source": [
    "# checking for NaN values patients\n",
    "\n",
    "apps.isnull().sum()"
   ]
  },
  {
   "cell_type": "code",
   "execution_count": 14,
   "metadata": {},
   "outputs": [
    {
     "data": {
      "text/plain": [
       "App                       0\n",
       "Review                26868\n",
       "Sentiment Category    26863\n",
       "Sentiment Score       26863\n",
       "dtype: int64"
      ]
     },
     "execution_count": 14,
     "metadata": {},
     "output_type": "execute_result"
    }
   ],
   "source": [
    "reviews.isnull().sum()"
   ]
  },
  {
   "cell_type": "code",
   "execution_count": 15,
   "metadata": {},
   "outputs": [
    {
     "data": {
      "text/plain": [
       "0"
      ]
     },
     "execution_count": 15,
     "metadata": {},
     "output_type": "execute_result"
    }
   ],
   "source": [
    "#checking for duplicated rows \n",
    "\n",
    "apps.duplicated().sum()"
   ]
  },
  {
   "cell_type": "code",
   "execution_count": 16,
   "metadata": {},
   "outputs": [
    {
     "data": {
      "text/plain": [
       "33616"
      ]
     },
     "execution_count": 16,
     "metadata": {},
     "output_type": "execute_result"
    }
   ],
   "source": [
    "# checking for duplicated with subset \n",
    "\n",
    "reviews.duplicated().sum()"
   ]
  },
  {
   "cell_type": "code",
   "execution_count": 17,
   "metadata": {},
   "outputs": [
    {
     "data": {
      "text/plain": [
       "App             9659\n",
       "Category          33\n",
       "Rating            39\n",
       "Reviews         5330\n",
       "Size             191\n",
       "Installs          21\n",
       "Type               2\n",
       "Price             92\n",
       "Last Updated    1377\n",
       "dtype: int64"
      ]
     },
     "execution_count": 17,
     "metadata": {},
     "output_type": "execute_result"
    }
   ],
   "source": [
    "#checking number of unique values \n",
    "\n",
    "apps.nunique()"
   ]
  },
  {
   "cell_type": "code",
   "execution_count": 18,
   "metadata": {},
   "outputs": [
    {
     "data": {
      "text/plain": [
       "App                    1074\n",
       "Review                27994\n",
       "Sentiment Category        3\n",
       "Sentiment Score        5363\n",
       "dtype: int64"
      ]
     },
     "execution_count": 18,
     "metadata": {},
     "output_type": "execute_result"
    }
   ],
   "source": [
    "reviews.nunique()"
   ]
  },
  {
   "cell_type": "markdown",
   "metadata": {},
   "source": [
    "##  Cleaning Data\n",
    "\n",
    "### <font color='blue'>Missing Data</font>\n",
    "\n",
    "1. Replace Nans with 0 in apps dataset Rating column. \n",
    "2. Drop Nans from reviews dataset.\n",
    "\n",
    "\n",
    "### <font color='blue'>Quality issues</font>\n",
    "\n",
    "1. Drop duplicated values from reviews dataset.\n",
    "2. Strip \"+\" and \",\"  signs from apps dataset installs column.\n",
    "3. Change installs column data type into int.\n",
    "4. Change price column data type into float."
   ]
  },
  {
   "cell_type": "code",
   "execution_count": 19,
   "metadata": {},
   "outputs": [],
   "source": [
    "# make copy of origenal dataframes to clean them\n",
    "\n",
    "apps_clean = apps.copy()\n",
    "reviews_clean = reviews.copy()"
   ]
  },
  {
   "cell_type": "markdown",
   "metadata": {},
   "source": [
    "### <font color='blue'>Fixing Missing Data issues</font>"
   ]
  },
  {
   "cell_type": "markdown",
   "metadata": {},
   "source": [
    "#### 1. Replace Nans with 0 in apps dataset Rating column."
   ]
  },
  {
   "cell_type": "markdown",
   "metadata": {},
   "source": [
    "##### Code"
   ]
  },
  {
   "cell_type": "code",
   "execution_count": 20,
   "metadata": {},
   "outputs": [],
   "source": [
    "apps_clean.Rating = apps_clean.Rating.fillna(0)"
   ]
  },
  {
   "cell_type": "markdown",
   "metadata": {},
   "source": [
    "##### Test"
   ]
  },
  {
   "cell_type": "code",
   "execution_count": 21,
   "metadata": {},
   "outputs": [
    {
     "data": {
      "text/plain": [
       "0"
      ]
     },
     "execution_count": 21,
     "metadata": {},
     "output_type": "execute_result"
    }
   ],
   "source": [
    "# Confirm changes\n",
    "\n",
    "apps_clean.Rating.isnull().sum()"
   ]
  },
  {
   "cell_type": "markdown",
   "metadata": {},
   "source": [
    "#### 2. Drop Nans from reviews dataset."
   ]
  },
  {
   "cell_type": "markdown",
   "metadata": {},
   "source": [
    "##### Code"
   ]
  },
  {
   "cell_type": "code",
   "execution_count": 22,
   "metadata": {},
   "outputs": [],
   "source": [
    "reviews_clean.dropna(axis=\"rows\", inplace=True)"
   ]
  },
  {
   "cell_type": "markdown",
   "metadata": {},
   "source": [
    "##### Test"
   ]
  },
  {
   "cell_type": "code",
   "execution_count": 23,
   "metadata": {},
   "outputs": [
    {
     "data": {
      "text/plain": [
       "App                   0\n",
       "Review                0\n",
       "Sentiment Category    0\n",
       "Sentiment Score       0\n",
       "dtype: int64"
      ]
     },
     "execution_count": 23,
     "metadata": {},
     "output_type": "execute_result"
    }
   ],
   "source": [
    "# Confirm changes\n",
    "\n",
    "reviews_clean.isnull().sum()\n"
   ]
  },
  {
   "cell_type": "markdown",
   "metadata": {},
   "source": [
    "### <font color='blue'>Fixing Quality issues</font>"
   ]
  },
  {
   "cell_type": "markdown",
   "metadata": {},
   "source": [
    "#### 1. Drop duplicated values from reviews dataset."
   ]
  },
  {
   "cell_type": "markdown",
   "metadata": {},
   "source": [
    "##### Code"
   ]
  },
  {
   "cell_type": "code",
   "execution_count": 24,
   "metadata": {},
   "outputs": [],
   "source": [
    "reviews_clean = reviews_clean.drop_duplicates()"
   ]
  },
  {
   "cell_type": "markdown",
   "metadata": {},
   "source": [
    "##### Test"
   ]
  },
  {
   "cell_type": "code",
   "execution_count": 25,
   "metadata": {},
   "outputs": [
    {
     "data": {
      "text/plain": [
       "0"
      ]
     },
     "execution_count": 25,
     "metadata": {},
     "output_type": "execute_result"
    }
   ],
   "source": [
    "# Confirm changes\n",
    "\n",
    "reviews_clean.duplicated().sum()"
   ]
  },
  {
   "cell_type": "markdown",
   "metadata": {},
   "source": [
    "#### 2. Strip \"+\" and \",\"  signs from apps dataset installs column."
   ]
  },
  {
   "cell_type": "markdown",
   "metadata": {},
   "source": [
    "##### Code"
   ]
  },
  {
   "cell_type": "code",
   "execution_count": 26,
   "metadata": {},
   "outputs": [],
   "source": [
    "apps_clean.Installs = apps_clean.Installs.str.replace(\",\",\"\").str.strip(\"+\")"
   ]
  },
  {
   "cell_type": "markdown",
   "metadata": {},
   "source": [
    "##### Test"
   ]
  },
  {
   "cell_type": "code",
   "execution_count": 27,
   "metadata": {},
   "outputs": [
    {
     "data": {
      "text/plain": [
       "0"
      ]
     },
     "execution_count": 27,
     "metadata": {},
     "output_type": "execute_result"
    }
   ],
   "source": [
    "# Confirm changes\n",
    "\n",
    "apps_clean.Installs.str.contains(\",\").sum()"
   ]
  },
  {
   "cell_type": "code",
   "execution_count": 28,
   "metadata": {},
   "outputs": [
    {
     "data": {
      "text/plain": [
       "8486    10000000\n",
       "2914    10000000\n",
       "3011     5000000\n",
       "1238       50000\n",
       "7844      500000\n",
       "Name: Installs, dtype: object"
      ]
     },
     "execution_count": 28,
     "metadata": {},
     "output_type": "execute_result"
    }
   ],
   "source": [
    "apps_clean.Installs.sample(5)"
   ]
  },
  {
   "cell_type": "markdown",
   "metadata": {},
   "source": [
    "#### 3. Change installs column data type into int."
   ]
  },
  {
   "cell_type": "markdown",
   "metadata": {},
   "source": [
    "##### Code"
   ]
  },
  {
   "cell_type": "code",
   "execution_count": 29,
   "metadata": {},
   "outputs": [],
   "source": [
    "apps_clean.Installs = apps_clean.Installs.astype(\"int\")"
   ]
  },
  {
   "cell_type": "markdown",
   "metadata": {},
   "source": [
    "##### Test"
   ]
  },
  {
   "cell_type": "code",
   "execution_count": 30,
   "metadata": {},
   "outputs": [
    {
     "data": {
      "text/plain": [
       "dtype('int64')"
      ]
     },
     "execution_count": 30,
     "metadata": {},
     "output_type": "execute_result"
    }
   ],
   "source": [
    "apps_clean.Installs.dtype"
   ]
  },
  {
   "cell_type": "markdown",
   "metadata": {},
   "source": [
    "#### 4. Change price column data type into float."
   ]
  },
  {
   "cell_type": "markdown",
   "metadata": {},
   "source": [
    "##### Code"
   ]
  },
  {
   "cell_type": "code",
   "execution_count": 31,
   "metadata": {},
   "outputs": [],
   "source": [
    "apps_clean.Price = apps_clean.Price.astype(\"float\")"
   ]
  },
  {
   "cell_type": "markdown",
   "metadata": {},
   "source": [
    "##### Test"
   ]
  },
  {
   "cell_type": "code",
   "execution_count": 32,
   "metadata": {},
   "outputs": [
    {
     "data": {
      "text/plain": [
       "dtype('float64')"
      ]
     },
     "execution_count": 32,
     "metadata": {},
     "output_type": "execute_result"
    }
   ],
   "source": [
    "# Confirm changes\n",
    "\n",
    "apps_clean.Price.dtype"
   ]
  },
  {
   "cell_type": "markdown",
   "metadata": {},
   "source": [
    "**Now we have clean and tidy datasets to explore**"
   ]
  },
  {
   "cell_type": "markdown",
   "metadata": {},
   "source": [
    "<a id='eda'></a>\n",
    "## Exploratory Data Analysis\n",
    "\n",
    "> Now I'm going to explore this data and try to find patterns in it, compute statistics and visualize the relationships\n",
    "to answer the questions and detect the characteristics that affect patients attending to their hospital appointment\n"
   ]
  },
  {
   "cell_type": "code",
   "execution_count": 33,
   "metadata": {},
   "outputs": [
    {
     "data": {
      "image/png": "[encoded data removed]",
      "text/plain": [
       "<Figure size 1296x360 with 3 Axes>"
      ]
     },
     "metadata": {},
     "output_type": "display_data"
    }
   ],
   "source": [
    "# Check apps Rating, reviews and installs ECDF for paid and free apps\n",
    "\n",
    "\n",
    "plt.rcParams[\"figure.figsize\"] = [18, 5]\n",
    "fig, ax = plt.subplots(1,3)\n",
    "\n",
    "\n",
    "sns.ecdfplot(x=\"Rating\",\n",
    "             data=apps_clean,\n",
    "             hue=\"Type\",\n",
    "             palette=\"deep\",\n",
    "            ax=ax[0])\n",
    "\n",
    "ax[0].set_xlabel(\"Apps Rating\", fontsize=15, color=\"k\")\n",
    "ax[0].set_ylabel(\"ECDF\", fontsize=13, color=\"k\")\n",
    "ax[0].set_title(\"Apps Rating ECDF Plot\", fontsize=16, color=\"k\", pad=20)\n",
    "ax[0].tick_params(labelsize=12, color=\"k\")\n",
    "\n",
    "\n",
    "sns.ecdfplot(x=\"Reviews\",\n",
    "             data=apps_clean,\n",
    "             hue=\"Type\",\n",
    "             palette=\"deep\",\n",
    "            ax=ax[1])\n",
    "\n",
    "ax[1].set_xlabel(\"Apps Reviews\", fontsize=15, color=\"k\")\n",
    "ax[1].set_ylabel(\"ECDF\", fontsize=13, color=\"k\")\n",
    "ax[1].set_title(\"Apps Rating ECDF Plot\", fontsize=16, color=\"k\", pad=20)\n",
    "ax[1].tick_params(labelsize=12, color=\"k\")\n",
    "\n",
    "sns.ecdfplot(x=\"Installs\",\n",
    "             data=apps_clean,\n",
    "             hue=\"Type\",\n",
    "             palette=\"deep\",\n",
    "            ax=ax[2])\n",
    "\n",
    "\n",
    "ax[2].set_xlabel(\"Apps Installs\", fontsize=15, color=\"k\")\n",
    "ax[2].set_ylabel(\"ECDF\", fontsize=13, color=\"k\")\n",
    "ax[2].set_title(\"Apps Rating ECDF Plot\", fontsize=16, color=\"k\", pad=20)\n",
    "ax[2].tick_params(labelsize=12, color=\"k\");"
   ]
  },
  {
   "cell_type": "code",
   "execution_count": 34,
   "metadata": {},
   "outputs": [
    {
     "data": {
      "image/png": "[encoded data removed]",
      "text/plain": [
       "<Figure size 576x360 with 1 Axes>"
      ]
     },
     "metadata": {},
     "output_type": "display_data"
    }
   ],
   "source": [
    "# Check the central tendency and 5 number summary of apps Rating\n",
    "\n",
    "plt.rcParams[\"figure.figsize\"] = [8, 5]\n",
    "\n",
    "sns.boxplot(y=\"Rating\",\n",
    "            x = \"Type\",\n",
    "             data=apps_clean,\n",
    "             palette=\"deep\",\n",
    "           width=0.6)\n",
    "\n",
    "plt.xlabel(\"Apps Type\", fontsize=15, color=\"k\")\n",
    "plt.ylabel(\"Apps Rating\", fontsize=13, color=\"k\")\n",
    "plt.title(\"Apps Rating BoxPlot\", fontsize=16, color=\"k\", pad=20)\n",
    "plt.xticks(fontsize=12, color=\"k\");"
   ]
  },
  {
   "cell_type": "markdown",
   "metadata": {},
   "source": [
    "**From previous visualisations we can see that:**\n",
    "\n",
    "**1. More than 60% of paid apps have better rating than free apps.**\n",
    "\n",
    "**2. Approximate 95% of free apps and paid apps have the same number of views.**\n",
    "\n",
    "**3. Approximate 85% of free apps and paid apps have the same number of installs.****\n",
    "\n",
    "**4.Paid apps average rating is larger than free apps average rating**"
   ]
  },
  {
   "cell_type": "markdown",
   "metadata": {},
   "source": [
    "### Research Question 1\n",
    "> ####  Which app type has the most average rating? (Free or paid apps).\n"
   ]
  },
  {
   "cell_type": "code",
   "execution_count": 35,
   "metadata": {},
   "outputs": [
    {
     "data": {
      "text/html": [
       "<div>\n",
       "<style scoped>\n",
       "    .dataframe tbody tr th:only-of-type {\n",
       "        vertical-align: middle;\n",
       "    }\n",
       "\n",
       "    .dataframe tbody tr th {\n",
       "        vertical-align: top;\n",
       "    }\n",
       "\n",
       "    .dataframe thead th {\n",
       "        text-align: right;\n",
       "    }\n",
       "</style>\n",
       "<table border=\"1\" class=\"dataframe\">\n",
       "  <thead>\n",
       "    <tr style=\"text-align: right;\">\n",
       "      <th></th>\n",
       "      <th>App</th>\n",
       "      <th>Category</th>\n",
       "      <th>Rating</th>\n",
       "      <th>Reviews</th>\n",
       "      <th>Size</th>\n",
       "      <th>Installs</th>\n",
       "      <th>Type</th>\n",
       "      <th>Price</th>\n",
       "      <th>Last Updated</th>\n",
       "    </tr>\n",
       "  </thead>\n",
       "  <tbody>\n",
       "    <tr>\n",
       "      <th>0</th>\n",
       "      <td>Photo Editor &amp; Candy Camera &amp; Grid &amp; ScrapBook</td>\n",
       "      <td>ART_AND_DESIGN</td>\n",
       "      <td>4.1</td>\n",
       "      <td>159</td>\n",
       "      <td>19.0</td>\n",
       "      <td>10000</td>\n",
       "      <td>Free</td>\n",
       "      <td>0.0</td>\n",
       "      <td>January 7, 2018</td>\n",
       "    </tr>\n",
       "    <tr>\n",
       "      <th>1</th>\n",
       "      <td>Coloring book moana</td>\n",
       "      <td>ART_AND_DESIGN</td>\n",
       "      <td>3.9</td>\n",
       "      <td>967</td>\n",
       "      <td>14.0</td>\n",
       "      <td>500000</td>\n",
       "      <td>Free</td>\n",
       "      <td>0.0</td>\n",
       "      <td>January 15, 2018</td>\n",
       "    </tr>\n",
       "    <tr>\n",
       "      <th>2</th>\n",
       "      <td>U Launcher Lite – FREE Live Cool Themes, Hide ...</td>\n",
       "      <td>ART_AND_DESIGN</td>\n",
       "      <td>4.7</td>\n",
       "      <td>87510</td>\n",
       "      <td>8.7</td>\n",
       "      <td>5000000</td>\n",
       "      <td>Free</td>\n",
       "      <td>0.0</td>\n",
       "      <td>August 1, 2018</td>\n",
       "    </tr>\n",
       "    <tr>\n",
       "      <th>3</th>\n",
       "      <td>Sketch - Draw &amp; Paint</td>\n",
       "      <td>ART_AND_DESIGN</td>\n",
       "      <td>4.5</td>\n",
       "      <td>215644</td>\n",
       "      <td>25.0</td>\n",
       "      <td>50000000</td>\n",
       "      <td>Free</td>\n",
       "      <td>0.0</td>\n",
       "      <td>June 8, 2018</td>\n",
       "    </tr>\n",
       "    <tr>\n",
       "      <th>4</th>\n",
       "      <td>Pixel Draw - Number Art Coloring Book</td>\n",
       "      <td>ART_AND_DESIGN</td>\n",
       "      <td>4.3</td>\n",
       "      <td>967</td>\n",
       "      <td>2.8</td>\n",
       "      <td>100000</td>\n",
       "      <td>Free</td>\n",
       "      <td>0.0</td>\n",
       "      <td>June 20, 2018</td>\n",
       "    </tr>\n",
       "  </tbody>\n",
       "</table>\n",
       "</div>"
      ],
      "text/plain": [
       "                                                 App        Category  Rating  \\\n",
       "0     Photo Editor & Candy Camera & Grid & ScrapBook  ART_AND_DESIGN     4.1   \n",
       "1                                Coloring book moana  ART_AND_DESIGN     3.9   \n",
       "2  U Launcher Lite – FREE Live Cool Themes, Hide ...  ART_AND_DESIGN     4.7   \n",
       "3                              Sketch - Draw & Paint  ART_AND_DESIGN     4.5   \n",
       "4              Pixel Draw - Number Art Coloring Book  ART_AND_DESIGN     4.3   \n",
       "\n",
       "   Reviews  Size  Installs  Type  Price      Last Updated  \n",
       "0      159  19.0     10000  Free    0.0   January 7, 2018  \n",
       "1      967  14.0    500000  Free    0.0  January 15, 2018  \n",
       "2    87510   8.7   5000000  Free    0.0    August 1, 2018  \n",
       "3   215644  25.0  50000000  Free    0.0      June 8, 2018  \n",
       "4      967   2.8    100000  Free    0.0     June 20, 2018  "
      ]
     },
     "execution_count": 35,
     "metadata": {},
     "output_type": "execute_result"
    }
   ],
   "source": [
    "apps_clean.head()"
   ]
  },
  {
   "cell_type": "code",
   "execution_count": 103,
   "metadata": {},
   "outputs": [
    {
     "data": {
      "image/png": "[encoded data removed]",
      "text/plain": [
       "<Figure size 432x360 with 1 Axes>"
      ]
     },
     "metadata": {},
     "output_type": "display_data"
    }
   ],
   "source": [
    "# Apps Average Rating Barplot\n",
    "\n",
    "\n",
    "apps_clean.groupby(\"Type\")[\"Rating\"].mean().plot(kind=\"bar\",\n",
    "                                                 rot = 0,\n",
    "                                                 width = 0.35,\n",
    "                                                 color=[\"navy\", \"darkorange\"],\n",
    "                                                 alpha = 0.9,\n",
    "                                                 fontsize = 12,\n",
    "                                                 figsize=(6,5)\n",
    "                                                 )\n",
    "\n",
    "plt.xlabel(\"App Type\", fontsize=15, color=\"k\")\n",
    "plt.ylabel(\"App Average Rating\", fontsize=13, color=\"k\")\n",
    "plt.title(\"Apps Average Rating For Each Type\", fontsize=16, color=\"k\", pad=20)\n",
    "plt.xticks(fontsize=12, color=\"k\");"
   ]
  },
  {
   "cell_type": "markdown",
   "metadata": {},
   "source": [
    "### Answer 1\n",
    "**From above visualisation we can conclude that the average apps rating is approximate the same for both Free and Paid apps.**\n",
    "     \n",
    "     - Free apps average rating is 3.55. \n",
    "     - Paid apps average rating is 3.40."
   ]
  },
  {
   "cell_type": "markdown",
   "metadata": {},
   "source": [
    "### Research Question 2\n",
    "> #### Which app type has the most number of apps? (Free or paid apps)."
   ]
  },
  {
   "cell_type": "code",
   "execution_count": 101,
   "metadata": {},
   "outputs": [
    {
     "data": {
      "image/png": "[encoded data removed]",
      "text/plain": [
       "<Figure size 432x360 with 1 Axes>"
      ]
     },
     "metadata": {},
     "output_type": "display_data"
    }
   ],
   "source": [
    "# Apps count for each type paid and free\n",
    "\n",
    "\n",
    "apps_clean.groupby(\"Type\")[\"Rating\"].count().plot(kind=\"bar\",\n",
    "                                                 rot = 0,\n",
    "                                                 width = 0.35,\n",
    "                                                 color=[\"darkcyan\", \"darkgoldenrod\"],\n",
    "                                                 alpha = 0.9,\n",
    "                                                 fontsize = 12,\n",
    "                                                 figsize=(6,5)\n",
    "                                                 )\n",
    "\n",
    "plt.xlabel(\"App Type\", fontsize=15, color=\"k\")\n",
    "plt.ylabel(\"Apps count\", fontsize=13, color=\"k\")\n",
    "plt.title(\"Apps Count For Each Type\", fontsize=16, color=\"k\", pad=20)\n",
    "plt.xticks(fontsize=12, color=\"k\");"
   ]
  },
  {
   "cell_type": "markdown",
   "metadata": {},
   "source": [
    "### Answer 2\n",
    "\n",
    "**From above visualisation we can conclude that the free apps count is bigger than paid apps count.**\n",
    "     \n",
    "     - Free apps count is 8903. \n",
    "     - Paid apps xount is 756."
   ]
  },
  {
   "cell_type": "markdown",
   "metadata": {},
   "source": [
    "### Research Question 3\n",
    "\n",
    "> #### Which category has the most average price?"
   ]
  },
  {
   "cell_type": "code",
   "execution_count": 100,
   "metadata": {},
   "outputs": [
    {
     "data": {
      "image/png": "[encoded data removed]",
      "text/plain": [
       "<Figure size 432x360 with 1 Axes>"
      ]
     },
     "metadata": {},
     "output_type": "display_data"
    }
   ],
   "source": [
    "# Apps average price for each category\n",
    "\n",
    "\n",
    "apps_clean.groupby(\"Category\")[\"Price\"].mean().sort_values(ascending=False)[:10].plot(kind=\"barh\",\n",
    "                                                                                     rot = 0,\n",
    "                                                                                     width = 0.35,\n",
    "                                                                                     color=[\"olivedrab\"],\n",
    "                                                                                     alpha = 0.9,\n",
    "                                                                                     fontsize = 12,\n",
    "                                                                                     figsize=(6,5)\n",
    "                                                                                     )\n",
    "\n",
    "plt.xlabel(\"App price average\", fontsize=15, color=\"k\")\n",
    "plt.ylabel(\"App Category\", fontsize=13, color=\"k\")\n",
    "plt.title(\"Apps Average Price Per Category\", fontsize=16, color=\"k\", pad=20)\n",
    "plt.xticks(fontsize=12, color=\"k\");"
   ]
  },
  {
   "cell_type": "markdown",
   "metadata": {},
   "source": [
    "### Answer 3\n",
    "\n",
    "**From above visualisation we can conclude that the Finance category has the most average apps price 8.41 US dollars and lifestyle category comes in the second place with 6.4 US dollars average apps price.**"
   ]
  },
  {
   "cell_type": "markdown",
   "metadata": {},
   "source": [
    "### Research Question 4\n",
    "\n",
    "> #### Which category has the most average rating?"
   ]
  },
  {
   "cell_type": "code",
   "execution_count": 98,
   "metadata": {},
   "outputs": [
    {
     "data": {
      "image/png": "[encoded data removed]",
      "text/plain": [
       "<Figure size 432x360 with 1 Axes>"
      ]
     },
     "metadata": {},
     "output_type": "display_data"
    }
   ],
   "source": [
    "# Apps average rating for each category\n",
    "\n",
    "\n",
    "apps_clean.groupby(\"Category\")[\"Rating\"].mean().sort_values(ascending=False)[:10].plot(kind=\"barh\",\n",
    "                                                                                     rot = 0,\n",
    "                                                                                     width = 0.35,\n",
    "                                                                                     color=[\"teal\"],\n",
    "                                                                                     alpha = 0.9,\n",
    "                                                                                     fontsize = 12,\n",
    "                                                                                     figsize=(6,5)\n",
    "                                                                                     )\n",
    "\n",
    "plt.xlabel(\"App Average Rating \", fontsize=15, color=\"k\")\n",
    "plt.ylabel(\"App Category\", fontsize=13, color=\"k\")\n",
    "plt.title(\"Apps Average Rating Per Category\", fontsize=16, color=\"k\", pad=20)\n",
    "plt.xticks(fontsize=12, color=\"k\");"
   ]
  },
  {
   "cell_type": "markdown",
   "metadata": {},
   "source": [
    "### Answer 4\n",
    "\n",
    "**From above visualisation we can conclude that the Education category has the most average apps rating with rate 4.33.**"
   ]
  },
  {
   "cell_type": "markdown",
   "metadata": {},
   "source": [
    "### Research Question 5\n",
    "\n",
    "> #### Which category has the most number of apps?"
   ]
  },
  {
   "cell_type": "code",
   "execution_count": 99,
   "metadata": {},
   "outputs": [
    {
     "data": {
      "image/png": "[encoded data removed]",
      "text/plain": [
       "<Figure size 432x360 with 1 Axes>"
      ]
     },
     "metadata": {},
     "output_type": "display_data"
    }
   ],
   "source": [
    "# Apps count for each category\n",
    "\n",
    "\n",
    "apps_clean.groupby(\"Category\")[\"Rating\"].count().sort_values(ascending=False)[:10].plot(kind=\"barh\",\n",
    "                                                                                     rot = 0,\n",
    "                                                                                     width = 0.35,\n",
    "                                                                                     color=[\"c\"],\n",
    "                                                                                     alpha = 0.9,\n",
    "                                                                                     fontsize = 12,\n",
    "                                                                                     figsize=(6,5)\n",
    "                                                                                     )\n",
    "\n",
    "plt.xlabel(\"Apps count\", fontsize=15, color=\"k\")\n",
    "plt.ylabel(\"App Category\", fontsize=13, color=\"k\")\n",
    "plt.title(\"Apps count Per Category\", fontsize=16, color=\"k\", pad=20)\n",
    "plt.xticks(fontsize=12, color=\"k\");"
   ]
  },
  {
   "cell_type": "markdown",
   "metadata": {},
   "source": [
    "### Answer 5\n",
    "\n",
    "**From above visualisation we can conclude that the Family category has the most count of apps with total 1832 apps and Games category comes in the second place with total 959 apps.**"
   ]
  },
  {
   "cell_type": "markdown",
   "metadata": {},
   "source": [
    "### Research Question 6\n",
    "\n",
    "> #### What is the top 5 apps in sentiment review total score?"
   ]
  },
  {
   "cell_type": "code",
   "execution_count": 68,
   "metadata": {},
   "outputs": [
    {
     "data": {
      "text/html": [
       "<div>\n",
       "<style scoped>\n",
       "    .dataframe tbody tr th:only-of-type {\n",
       "        vertical-align: middle;\n",
       "    }\n",
       "\n",
       "    .dataframe tbody tr th {\n",
       "        vertical-align: top;\n",
       "    }\n",
       "\n",
       "    .dataframe thead th {\n",
       "        text-align: right;\n",
       "    }\n",
       "</style>\n",
       "<table border=\"1\" class=\"dataframe\">\n",
       "  <thead>\n",
       "    <tr style=\"text-align: right;\">\n",
       "      <th></th>\n",
       "      <th>Sentiment Score</th>\n",
       "    </tr>\n",
       "    <tr>\n",
       "      <th>App</th>\n",
       "      <th></th>\n",
       "    </tr>\n",
       "  </thead>\n",
       "  <tbody>\n",
       "    <tr>\n",
       "      <th>10 Best Foods for You</th>\n",
       "      <td>44.261084</td>\n",
       "    </tr>\n",
       "    <tr>\n",
       "      <th>Calorie Counter - MyNetDiary</th>\n",
       "      <td>38.390907</td>\n",
       "    </tr>\n",
       "    <tr>\n",
       "      <th>Hairstyles step by step</th>\n",
       "      <td>38.143958</td>\n",
       "    </tr>\n",
       "    <tr>\n",
       "      <th>Fuelio: Gas log &amp; costs</th>\n",
       "      <td>37.796108</td>\n",
       "    </tr>\n",
       "    <tr>\n",
       "      <th>Family Locator - GPS Tracker</th>\n",
       "      <td>35.816469</td>\n",
       "    </tr>\n",
       "  </tbody>\n",
       "</table>\n",
       "</div>"
      ],
      "text/plain": [
       "                              Sentiment Score\n",
       "App                                          \n",
       "10 Best Foods for You               44.261084\n",
       "Calorie Counter - MyNetDiary        38.390907\n",
       "Hairstyles step by step             38.143958\n",
       "Fuelio: Gas log & costs             37.796108\n",
       "Family Locator - GPS Tracker        35.816469"
      ]
     },
     "execution_count": 68,
     "metadata": {},
     "output_type": "execute_result"
    }
   ],
   "source": [
    "best_5_apps = reviews_clean.groupby(\"App\").agg({\"Sentiment Score\": \"sum\"}).sort_values(by=\"Sentiment Score\", ascending=False)[:5]\n",
    "best_5_apps"
   ]
  },
  {
   "cell_type": "code",
   "execution_count": 93,
   "metadata": {},
   "outputs": [
    {
     "data": {
      "image/png": "[encoded data removed]",
      "text/plain": [
       "<Figure size 432x360 with 1 Axes>"
      ]
     },
     "metadata": {},
     "output_type": "display_data"
    }
   ],
   "source": [
    "best_5_apps.plot(kind=\"barh\",\n",
    "                 rot = 0,\n",
    "                 width = 0.35,\n",
    "                 color=[\"firebrick\"],\n",
    "                 alpha = 0.9,\n",
    "                 fontsize = 12,\n",
    "                 figsize=(6,5), legend=False\n",
    "                 )\n",
    "\n",
    "plt.xlabel(\"App Sentiment Total Score\", fontsize=15, color=\"k\")\n",
    "plt.ylabel(\"App Name\", fontsize=13, color=\"k\")\n",
    "plt.title(\"Top 5 Apps in Sentiment Total Score\", fontsize=16, color=\"k\", pad=20)\n",
    "plt.xticks(fontsize=12, color=\"k\");"
   ]
  },
  {
   "cell_type": "markdown",
   "metadata": {},
   "source": [
    "### Answer 6\n",
    "\n",
    "**From above visualisation we can conclude that the top 5 apps in sentiment review total score are:**\n",
    "     \n",
    "     - 10 Best Foods for You with 44.261084 score.\n",
    "     - Calorie Counter - MyNetDiary 38.390907 score.\n",
    "     - Hairstyles step by step with 38.143958 score.\n",
    "     - Fuelio: Gas log & costs with 37.796108 score.\n",
    "     - Family Locator - GPS Tracker with 35.816469 score."
   ]
  },
  {
   "cell_type": "markdown",
   "metadata": {},
   "source": [
    "### Research Question 7\n",
    "\n",
    "> #### What is the worst 5 apps in sentiment review total score?"
   ]
  },
  {
   "cell_type": "code",
   "execution_count": 81,
   "metadata": {},
   "outputs": [
    {
     "data": {
      "text/html": [
       "<div>\n",
       "<style scoped>\n",
       "    .dataframe tbody tr th:only-of-type {\n",
       "        vertical-align: middle;\n",
       "    }\n",
       "\n",
       "    .dataframe tbody tr th {\n",
       "        vertical-align: top;\n",
       "    }\n",
       "\n",
       "    .dataframe thead th {\n",
       "        text-align: right;\n",
       "    }\n",
       "</style>\n",
       "<table border=\"1\" class=\"dataframe\">\n",
       "  <thead>\n",
       "    <tr style=\"text-align: right;\">\n",
       "      <th></th>\n",
       "      <th>Sentiment Score</th>\n",
       "    </tr>\n",
       "    <tr>\n",
       "      <th>App</th>\n",
       "      <th></th>\n",
       "    </tr>\n",
       "  </thead>\n",
       "  <tbody>\n",
       "    <tr>\n",
       "      <th>Be A Legend: Soccer</th>\n",
       "      <td>-9.726559</td>\n",
       "    </tr>\n",
       "    <tr>\n",
       "      <th>Guns of Glory</th>\n",
       "      <td>-5.682417</td>\n",
       "    </tr>\n",
       "    <tr>\n",
       "      <th>BestCam Selfie-selfie, beauty camera, photo editor</th>\n",
       "      <td>-5.200595</td>\n",
       "    </tr>\n",
       "    <tr>\n",
       "      <th>Agar.io</th>\n",
       "      <td>-5.048642</td>\n",
       "    </tr>\n",
       "    <tr>\n",
       "      <th>Cooking Fever</th>\n",
       "      <td>-4.880092</td>\n",
       "    </tr>\n",
       "  </tbody>\n",
       "</table>\n",
       "</div>"
      ],
      "text/plain": [
       "                                                    Sentiment Score\n",
       "App                                                                \n",
       "Be A Legend: Soccer                                       -9.726559\n",
       "Guns of Glory                                             -5.682417\n",
       "BestCam Selfie-selfie, beauty camera, photo editor        -5.200595\n",
       "Agar.io                                                   -5.048642\n",
       "Cooking Fever                                             -4.880092"
      ]
     },
     "execution_count": 81,
     "metadata": {},
     "output_type": "execute_result"
    }
   ],
   "source": [
    "worst_5_apps = reviews_clean.groupby(\"App\").agg({\"Sentiment Score\": \"sum\"}).sort_values(by=\"Sentiment Score\", ascending=True)[:5]\n",
    "worst_5_apps"
   ]
  },
  {
   "cell_type": "code",
   "execution_count": 92,
   "metadata": {},
   "outputs": [
    {
     "data": {
      "image/png": "[encoded data removed]",
      "text/plain": [
       "<Figure size 432x360 with 1 Axes>"
      ]
     },
     "metadata": {},
     "output_type": "display_data"
    }
   ],
   "source": [
    "worst_5_apps.plot(kind=\"barh\",\n",
    "                 rot = 0,\n",
    "                 width = 0.35,\n",
    "                 color=[\"orangered\"],\n",
    "                 alpha = 0.9,\n",
    "                 fontsize = 12,\n",
    "                 figsize=(6,5), legend=False\n",
    "                 )\n",
    "\n",
    "plt.xlabel(\"App Sentiment Total Score\", fontsize=15, color=\"k\")\n",
    "plt.ylabel(\"App Name\", fontsize=13, color=\"k\")\n",
    "plt.title(\"Worst 5 Apps in Sentiment Total Score\", fontsize=16, color=\"k\", pad=20)\n",
    "plt.xticks(fontsize=12, color=\"k\");"
   ]
  },
  {
   "cell_type": "markdown",
   "metadata": {},
   "source": [
    "### Answer 7\n",
    "\n",
    "\n",
    "**From above visualisation we can conclude that the worst 5 apps in sentiment review total score are:**\n",
    "     \n",
    "     - Be A Legend: Soccer with -9.726559 score.\n",
    "     - Guns of Glory with -5.682417 score.\n",
    "     - BestCam Selfie-selfie, beauty camera, photo editor with -5.200595 score.\n",
    "     - Agar.io with -5.048642 score.\n",
    "     - Cooking Feverwith -4.880092 score."
   ]
  },
  {
   "cell_type": "markdown",
   "metadata": {},
   "source": [
    "<a id='conclusions'></a>\n",
    "## Conclusions\n",
    "\n",
    "\n",
    "\n",
    "**1. More than 60% of paid apps have better rating than free apps.**\n",
    "\n",
    "\n",
    "**2. Approximate 95% of free apps and paid apps have the same number of views.**\n",
    "\n",
    "\n",
    "**3. Approximate 85% of free apps and paid apps have the same number of installs.**\n",
    "\n",
    "\n",
    "**4. Paid apps average rating is larger than free apps average rating**\n",
    "\n",
    "\n",
    "\n",
    "**5. The average apps rating is approximate the same for both Free and Paid apps:**\n",
    "\n",
    "     - Free apps average rating is 3.55. \n",
    "     - Paid apps average rating is 3.40.\n",
    "     \n",
    "\n",
    "**6. The free apps count is bigger than paid apps count:**\n",
    "\n",
    "     - Free apps count is 8903. \n",
    "     - Paid apps xount is 756.\n",
    "     \n",
    "**7. The Finance category has the most average apps price 8.41 US dollars and lifestyle category comes in the second place with 6.4 US dollars average apps price.**\n",
    "\n",
    "\n",
    "**8. The Education category has the most average apps rating with rate 4.33.**\n",
    "\n",
    "\n",
    "**9. The Family category has the most count of apps with total 1832 apps and Games category comes in the second place with total 959 apps.**\n",
    "     \n",
    "\n",
    "**10. the top 5 apps in sentiment review total score are:**\n",
    "\n",
    "     - 10 Best Foods for You with 44.261084 score.\n",
    "     - Calorie Counter - MyNetDiary 38.390907 score.\n",
    "     - Hairstyles step by step with 38.143958 score.\n",
    "     - Fuelio: Gas log & costs with 37.796108 score.\n",
    "     - Family Locator - GPS Tracker with 35.816469 score.\n",
    "     \n",
    "**11. The worst 5 apps in sentiment review total score are:**\n",
    "\n",
    "     - Be A Legend: Soccer with -9.726559 score.\n",
    "     - Guns of Glory with -5.682417 score.\n",
    "     - BestCam Selfie-selfie, beauty camera, photo editor with -5.200595 score.\n",
    "     - Agar.io with -5.048642 score.\n",
    "     - Cooking Feverwith -4.880092 score.\n"
   ]
  },
  {
   "cell_type": "code",
   "execution_count": null,
   "metadata": {},
   "outputs": [],
   "source": []
  }
 ],
 "metadata": {
  "kernelspec": {
   "display_name": "Python 3 (ipykernel)",
   "language": "python",
   "name": "python3"
  },
  "language_info": {
   "codemirror_mode": {
    "name": "ipython",
    "version": 3
   },
   "file_extension": ".py",
   "mimetype": "text/x-python",
   "name": "python",
   "nbconvert_exporter": "python",
   "pygments_lexer": "ipython3",
   "version": "3.9.7"
  }
 },
 "nbformat": 4,
 "nbformat_minor": 2
}
