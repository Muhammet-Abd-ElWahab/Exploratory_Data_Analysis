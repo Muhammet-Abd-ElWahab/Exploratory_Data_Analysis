{
 "cells": [
  {
   "cell_type": "markdown",
   "metadata": {},
   "source": [
    "# Project: Hotels Scores and Sold Nights.\n",
    "\n",
    "## Table of Contents\n",
    "<ul>\n",
    "<li><a href=\"#intro\">Introduction</a></li>\n",
    "<li><a href=\"#Quest\">Questions</a></li>\n",
    "<li><a href=\"#wrangling\">Data Wrangling</a></li>\n",
    "<li><a href=\"#eda\">Exploratory Data Analysis</a></li>\n",
    "<li><a href=\"#conclusions\">Conclusions</a></li>\n",
    "</ul>"
   ]
  },
  {
   "cell_type": "markdown",
   "metadata": {},
   "source": [
    "<a id='intro'></a>\n",
    "## Introduction\n",
    "\n",
    "\n",
    "\n",
    "\n",
    "> **Descriptions:** This dataset has information about 99 different hotels and the main target is to gather hotels info using \"rapid API\" and make EDA to get insights from data and answer the questions.\n",
    "\n",
    " **Dataset columns descriptions:**\n",
    " \n",
    "- **Hotel ID**: Hotel Identification. \n",
    "- **Hotel Name**. \n",
    "- **Country**: Country Name. \n",
    "- **Score**: Evaluate the key features, amenities and quality of the services provided by a hotel. \n",
    "- **Night Sold**: The number of rooms sold in a specified time period. \n",
    "- **Theme**: Coastal, Nature, Contemporary, Palace, Safari or Island."
   ]
  },
  {
   "cell_type": "markdown",
   "metadata": {},
   "source": [
    "<a id='Quest'></a>\n",
    "## **Questions:**\n",
    "\n",
    "\n",
    "* 1 - Which Country has the highest average hotel score? (top 10)\n",
    "* 2 - Which Country has the most average sold nights? (top 10)\n",
    "* 3 - Which Country has the most total sold nights? (top 10)\n",
    "* 4 - Which Theme has the highest average hotel score?  \n",
    "* 5 - Which Theme has the most average sold nights? \n",
    "* 6 - Which Theme has the most total sold nights?\n",
    "* 7 - Is there any correlation between hotel score and sold nights?"
   ]
  },
  {
   "cell_type": "markdown",
   "metadata": {},
   "source": [
    "### importing libraries that will be used to investigate Dataset"
   ]
  },
  {
   "cell_type": "code",
   "execution_count": 1,
   "metadata": {},
   "outputs": [],
   "source": [
    "import pandas as pd \n",
    "import numpy as np\n",
    "import matplotlib.pyplot as plt\n",
    "%matplotlib inline\n",
    "import seaborn as sns\n",
    "import datetime\n",
    "import time\n",
    "sns.set_style(\"whitegrid\")\n",
    "import requests"
   ]
  },
  {
   "cell_type": "markdown",
   "metadata": {},
   "source": [
    "<a id='wrangling'></a>\n",
    "## Data Wrangling\n",
    "\n",
    " **This is a three step process:**\n",
    "\n",
    "*  Gathering the data from Dataset and investegate it trying to understand more details about it. \n",
    "\n",
    "\n",
    "*  Assessing data to identify any issues with data types, structure, or quality.\n",
    "\n",
    "\n",
    "*  Cleaning data by changing data types, replacing values, removing unnecessary data and modifying Dataset for easy and fast analysis.\n"
   ]
  },
  {
   "cell_type": "markdown",
   "metadata": {},
   "source": [
    "### Gathering Data"
   ]
  },
  {
   "cell_type": "code",
   "execution_count": 2,
   "metadata": {},
   "outputs": [],
   "source": [
    "# loading CSV files in to 3 Dataframes  //names and data //\n",
    "\n",
    "names = pd.read_csv(\"HotelNames.csv\", encoding=\"latin-1\")\n",
    "data = pd.read_csv(\"HotelsData.csv\", encoding=\"latin-1\")"
   ]
  },
  {
   "cell_type": "code",
   "execution_count": 3,
   "metadata": {},
   "outputs": [
    {
     "data": {
      "text/html": [
       "<div>\n",
       "<style scoped>\n",
       "    .dataframe tbody tr th:only-of-type {\n",
       "        vertical-align: middle;\n",
       "    }\n",
       "\n",
       "    .dataframe tbody tr th {\n",
       "        vertical-align: top;\n",
       "    }\n",
       "\n",
       "    .dataframe thead th {\n",
       "        text-align: right;\n",
       "    }\n",
       "</style>\n",
       "<table border=\"1\" class=\"dataframe\">\n",
       "  <thead>\n",
       "    <tr style=\"text-align: right;\">\n",
       "      <th></th>\n",
       "      <th>Hotel Name</th>\n",
       "    </tr>\n",
       "  </thead>\n",
       "  <tbody>\n",
       "    <tr>\n",
       "      <th>0</th>\n",
       "      <td>Mahali Mzuri</td>\n",
       "    </tr>\n",
       "    <tr>\n",
       "      <th>1</th>\n",
       "      <td>Nayara Tented Group</td>\n",
       "    </tr>\n",
       "    <tr>\n",
       "      <th>2</th>\n",
       "      <td>The Opposite House</td>\n",
       "    </tr>\n",
       "    <tr>\n",
       "      <th>3</th>\n",
       "      <td>Capella Bangkok</td>\n",
       "    </tr>\n",
       "    <tr>\n",
       "      <th>4</th>\n",
       "      <td>Capella Ubud</td>\n",
       "    </tr>\n",
       "  </tbody>\n",
       "</table>\n",
       "</div>"
      ],
      "text/plain": [
       "            Hotel Name\n",
       "0         Mahali Mzuri\n",
       "1  Nayara Tented Group\n",
       "2   The Opposite House\n",
       "3      Capella Bangkok\n",
       "4         Capella Ubud"
      ]
     },
     "execution_count": 3,
     "metadata": {},
     "output_type": "execute_result"
    }
   ],
   "source": [
    "#checking 5 rows sample from Dataframes\n",
    "\n",
    "names.head()"
   ]
  },
  {
   "cell_type": "code",
   "execution_count": 4,
   "metadata": {},
   "outputs": [
    {
     "data": {
      "text/html": [
       "<div>\n",
       "<style scoped>\n",
       "    .dataframe tbody tr th:only-of-type {\n",
       "        vertical-align: middle;\n",
       "    }\n",
       "\n",
       "    .dataframe tbody tr th {\n",
       "        vertical-align: top;\n",
       "    }\n",
       "\n",
       "    .dataframe thead th {\n",
       "        text-align: right;\n",
       "    }\n",
       "</style>\n",
       "<table border=\"1\" class=\"dataframe\">\n",
       "  <thead>\n",
       "    <tr style=\"text-align: right;\">\n",
       "      <th></th>\n",
       "      <th>Hotel ID</th>\n",
       "      <th>Score</th>\n",
       "      <th>Night Sold</th>\n",
       "      <th>Theme</th>\n",
       "    </tr>\n",
       "  </thead>\n",
       "  <tbody>\n",
       "    <tr>\n",
       "      <th>0</th>\n",
       "      <td>51515565</td>\n",
       "      <td>63%</td>\n",
       "      <td>12</td>\n",
       "      <td>Safari</td>\n",
       "    </tr>\n",
       "    <tr>\n",
       "      <th>1</th>\n",
       "      <td>226817781</td>\n",
       "      <td>24%</td>\n",
       "      <td>29</td>\n",
       "      <td>Nature</td>\n",
       "    </tr>\n",
       "    <tr>\n",
       "      <th>2</th>\n",
       "      <td>13728501</td>\n",
       "      <td>14%</td>\n",
       "      <td>99</td>\n",
       "      <td>Contemporary</td>\n",
       "    </tr>\n",
       "    <tr>\n",
       "      <th>3</th>\n",
       "      <td>242822709</td>\n",
       "      <td>13%</td>\n",
       "      <td>101</td>\n",
       "      <td>Contemporary</td>\n",
       "    </tr>\n",
       "    <tr>\n",
       "      <th>4</th>\n",
       "      <td>177854889</td>\n",
       "      <td>62%</td>\n",
       "      <td>23</td>\n",
       "      <td>Nature</td>\n",
       "    </tr>\n",
       "  </tbody>\n",
       "</table>\n",
       "</div>"
      ],
      "text/plain": [
       "    Hotel ID Score  Night Sold          Theme\n",
       "0   51515565   63%          12         Safari\n",
       "1  226817781   24%          29         Nature\n",
       "2   13728501   14%          99  Contemporary \n",
       "3  242822709   13%         101  Contemporary \n",
       "4  177854889   62%          23         Nature"
      ]
     },
     "execution_count": 4,
     "metadata": {},
     "output_type": "execute_result"
    }
   ],
   "source": [
    "data.head()"
   ]
  },
  {
   "cell_type": "code",
   "execution_count": 83,
   "metadata": {},
   "outputs": [],
   "source": [
    "def get_hotels_info(df, col):\n",
    "    lst = []\n",
    "    method = 'GET'\n",
    "    url = 'https://hotel-price-aggregator.p.rapidapi.com/search'\n",
    "    headers = {\n",
    "    'X-RapidAPI-Key': '44efed8eebmsh321f81812bbffe1p17fb17jsn8744b93a9989',\n",
    "    'X-RapidAPI-Host': 'hotel-price-aggregator.p.rapidapi.com'\n",
    "  }\n",
    "\n",
    "    for i in df[col]:\n",
    "        params= {\"q\": i}\n",
    "        r = requests.get(url = url, params = params, headers= headers)\n",
    "        response = r.json()\n",
    "        try:\n",
    "            lst.append(response[0])\n",
    "        except:\n",
    "            lst.append(response)\n",
    "            \n",
    "        time.sleep(3)\n",
    "        \n",
    "    return lst"
   ]
  },
  {
   "cell_type": "code",
   "execution_count": 84,
   "metadata": {},
   "outputs": [
    {
     "name": "stdout",
     "output_type": "stream",
     "text": [
      "CPU times: user 3.55 s, sys: 222 ms, total: 3.77 s\n",
      "Wall time: 9min 25s\n"
     ]
    }
   ],
   "source": [
    "%%time\n",
    "\n",
    "hotel_info = get_hotels_info(names, \"Hotel Name\")"
   ]
  },
  {
   "cell_type": "code",
   "execution_count": 85,
   "metadata": {},
   "outputs": [
    {
     "data": {
      "text/plain": [
       "[{'name': 'Mahali Mzuri, Maasai Mara National Reserve, Kenya',\n",
       "  'shortName': 'Mahali Mzuri',\n",
       "  'address': {'city': 'Maasai Mara National Reserve',\n",
       "   'country': 'Kenya',\n",
       "   'address': 'Olare Motorogi Conservancy'},\n",
       "  'coordenates': '-1.273746,35.22279',\n",
       "  'hotelId': '51515565'},\n",
       " {'name': 'Nayara Tented Camp, La Fortuna, Costa Rica',\n",
       "  'shortName': 'Nayara Tented Camp',\n",
       "  'address': {'city': 'La Fortuna',\n",
       "   'country': 'Costa Rica',\n",
       "   'address': 'La Palma 500 Mtr Northwest'},\n",
       "  'coordenates': '10.504969,-84.68901',\n",
       "  'hotelId': '226817781'},\n",
       " {'name': 'The Opposite House, Beijing, China',\n",
       "  'shortName': 'The Opposite House',\n",
       "  'address': {'city': 'Beijing',\n",
       "   'country': 'China',\n",
       "   'address': 'Building 1, No.11 Sanlitun Road, Chaoyang district'},\n",
       "  'coordenates': '39.93775,116.45483',\n",
       "  'hotelId': '13728501'},\n",
       " {'name': 'Capella Bangkok, Bangkok, Thailand',\n",
       "  'shortName': 'Capella Bangkok',\n",
       "  'address': {'city': 'Bangkok',\n",
       "   'country': 'Thailand',\n",
       "   'address': '300/2 Charoenkrung Road, Khwaeng Yannawa, Khet Sathorn'},\n",
       "  'coordenates': '13.713078,100.51073',\n",
       "  'hotelId': '242822709'},\n",
       " {'name': 'Capella Ubud, Bali, Tegalalang, Indonesia',\n",
       "  'shortName': 'Capella Ubud, Bali',\n",
       "  'address': {'city': 'Tegalalang',\n",
       "   'country': 'Indonesia',\n",
       "   'address': 'Jl. Raya Dalem'},\n",
       "  'coordenates': '-8.44787,115.2746',\n",
       "  'hotelId': '177854889'},\n",
       " {'name': 'Grace Hotel Santorini, Auberge Resorts Collection, Imerovigli, South Aegean, Greece',\n",
       "  'shortName': 'Grace Hotel Santorini, Auberge Resorts Collection',\n",
       "  'address': {'city': 'Imerovigli', 'country': 'Greece'},\n",
       "  'coordenates': '36.43266,25.421421',\n",
       "  'hotelId': '13063245'},\n",
       " {'name': 'Kamalame Cay, Andros, Bahamas',\n",
       "  'shortName': 'Kamalame Cay',\n",
       "  'address': {'city': 'Andros',\n",
       "   'country': 'Bahamas',\n",
       "   'address': 'Staniard Creek'},\n",
       "  'coordenates': '24.846062,-77.894806',\n",
       "  'hotelId': '1791705'},\n",
       " {'name': 'The Oberoi Udaivilas, Udaipur, Udaipur, India',\n",
       "  'shortName': 'The Oberoi Udaivilas, Udaipur',\n",
       "  'address': {'city': 'Udaipur',\n",
       "   'country': 'India',\n",
       "   'address': 'Haridasji Ki Magri, Mulla Talai'},\n",
       "  'coordenates': '24.576998,73.672424',\n",
       "  'hotelId': '3633453'},\n",
       " {'name': 'The Temple House, Chengdu, Sichuan, China',\n",
       "  'shortName': 'The Temple House',\n",
       "  'address': {'city': 'Chengdu',\n",
       "   'country': 'China',\n",
       "   'address': 'No.81 Bitieshi Street,'},\n",
       "  'coordenates': '30.651321,104.084526',\n",
       "  'hotelId': '86482077'},\n",
       " {'name': 'The Oberoi, New Delhi, New Delhi, India',\n",
       "  'shortName': 'The Oberoi, New Delhi',\n",
       "  'address': {'city': 'New Delhi',\n",
       "   'country': 'India',\n",
       "   'address': 'Dr. Zakir Hussain Marg'},\n",
       "  'coordenates': '28.596401,77.23975',\n",
       "  'hotelId': '3649353'},\n",
       " {'name': 'Hotel Paracas, a Luxury Collection Resort, Paracas, Paracas, Peru',\n",
       "  'shortName': 'Hotel Paracas, a Luxury Collection Resort, Paracas',\n",
       "  'address': {'city': 'Paracas',\n",
       "   'country': 'Peru',\n",
       "   'address': 'Av. Paracas S/N'},\n",
       "  'coordenates': '-13.835658,-76.25468',\n",
       "  'hotelId': '3823749'},\n",
       " {'name': 'Taj Holiday Village Resort & Spa, Goa, Sinquerim, Goa, India',\n",
       "  'shortName': 'Taj Holiday Village Resort & Spa, Goa',\n",
       "  'address': {'city': 'Sinquerim', 'country': 'India'},\n",
       "  'coordenates': '15.499615,73.76925',\n",
       "  'hotelId': '3656781'},\n",
       " {'name': 'Savute Elephant Lodge, A Belmond Safari, Botswana, Chobe National Park, Botswana',\n",
       "  'shortName': 'Savute Elephant Lodge, A Belmond Safari, Botswana',\n",
       "  'address': {'city': 'Chobe National Park',\n",
       "   'country': 'Botswana',\n",
       "   'address': 'Savute Channel'},\n",
       "  'coordenates': '-18.570078,24.054588',\n",
       "  'hotelId': '5737725'},\n",
       " {'name': 'The Oberoi Vanyavilas Wildlife Resort, Sawai Madhopur, India',\n",
       "  'shortName': 'The Oberoi Vanyavilas Wildlife Resort',\n",
       "  'address': {'city': 'Sawai Madhopur',\n",
       "   'country': 'India',\n",
       "   'address': 'Ranthambhore Road'},\n",
       "  'coordenates': '26.023886,76.388245',\n",
       "  'hotelId': '3633441'},\n",
       " {'name': 'Mandarin Oriental, Milan, Milan, Lombardy, Italy',\n",
       "  'shortName': 'Mandarin Oriental, Milan',\n",
       "  'address': {'city': 'Milan',\n",
       "   'country': 'Italy',\n",
       "   'address': 'Via Andegari 9'},\n",
       "  'coordenates': '45.469387,9.191085',\n",
       "  'hotelId': '92849133'},\n",
       " {'name': 'La Reserve Paris - Hotel and Spa, Paris, Ile-de-France, France',\n",
       "  'shortName': 'La Reserve Paris - Hotel and Spa',\n",
       "  'address': {'city': 'Paris',\n",
       "   'country': 'France',\n",
       "   'address': '42 avenue Gabriel'},\n",
       "  'coordenates': '48.869713,2.313373',\n",
       "  'hotelId': '5965965'},\n",
       " {'name': 'Nobu Ryokan Malibu, Malibu, California',\n",
       "  'shortName': 'Nobu Ryokan Malibu',\n",
       "  'address': {'city': 'Malibu',\n",
       "   'country': 'California',\n",
       "   'address': '22752 Pacific Coast Highway'},\n",
       "  'coordenates': '34.039062,-118.6711',\n",
       "  'hotelId': '152901237'},\n",
       " {'name': 'Soneva Fushi, Kunfunadhoo, Maldives',\n",
       "  'shortName': 'Soneva Fushi',\n",
       "  'address': {'city': 'Kunfunadhoo', 'country': 'Maldives'},\n",
       "  'coordenates': '5.111679,73.07863',\n",
       "  'hotelId': '3622365'},\n",
       " {'name': 'Shangri-La The Shard, London, London, England',\n",
       "  'shortName': 'Shangri-La The Shard, London',\n",
       "  'address': {'city': 'London',\n",
       "   'country': 'England',\n",
       "   'address': '31 St Thomas Street'},\n",
       "  'coordenates': '51.504257,-0.086855',\n",
       "  'hotelId': '77815809'},\n",
       " {'name': 'Alila Manggis, Manggis, Indonesia',\n",
       "  'shortName': 'Alila Manggis',\n",
       "  'address': {'city': 'Manggis',\n",
       "   'country': 'Indonesia',\n",
       "   'address': 'Jl. Raya Buitan'},\n",
       "  'coordenates': '-8.5002,115.53799',\n",
       "  'hotelId': '3618525'},\n",
       " {'name': 'andBeyond Phinda Vlei Lodge, Phinda Private Game Reserve, South Africa',\n",
       "  'shortName': 'andBeyond Phinda Vlei Lodge',\n",
       "  'address': {'city': 'Phinda Private Game Reserve',\n",
       "   'country': 'South Africa'},\n",
       "  'coordenates': '-27.780146,32.352917',\n",
       "  'hotelId': '5670909'},\n",
       " {'name': 'B&B Il Balcone sul Lago, Brunate, Lake Como, Italy',\n",
       "  'shortName': 'B&B Il Balcone sul Lago',\n",
       "  'address': {'city': 'Brunate',\n",
       "   'country': 'Italy',\n",
       "   'address': 'Via Pissarottino 26'},\n",
       "  'coordenates': '45.825516,9.096549',\n",
       "  'hotelId': '48062361'},\n",
       " {'name': 'Manoir Hovey, North Hatley, Quebec, Canada',\n",
       "  'shortName': 'Manoir Hovey',\n",
       "  'address': {'city': 'North Hatley',\n",
       "   'country': 'Quebec',\n",
       "   'address': '575 Rue Hovey'},\n",
       "  'coordenates': '45.26467,-71.9947',\n",
       "  'hotelId': '2198193'},\n",
       " {'name': 'Canaves Oia Epitome, Oia, South Aegean, Greece',\n",
       "  'shortName': 'Canaves Oia Epitome',\n",
       "  'address': {'city': 'Oia', 'country': 'Greece', 'address': 'Main Street'},\n",
       "  'coordenates': '36.46371,25.37118',\n",
       "  'hotelId': '158736609'},\n",
       " {'name': 'Four Seasons Hotel Istanbul at Sultanahmet, Istanbul, Turkey',\n",
       "  'shortName': 'Four Seasons Hotel Istanbul at Sultanahmet',\n",
       "  'address': {'city': 'Istanbul',\n",
       "   'country': 'Turkey',\n",
       "   'address': 'Teyfikhane Sok No 1 Sultanahmet'},\n",
       "  'coordenates': '41.00654,28.980116',\n",
       "  'hotelId': '3534717'},\n",
       " {'name': 'The Peninsula Manila, Makati, Philippines',\n",
       "  'shortName': 'The Peninsula Manila',\n",
       "  'address': {'city': 'Makati',\n",
       "   'country': 'Philippines',\n",
       "   'address': 'Ayala Avenue'},\n",
       "  'coordenates': '14.554929,121.02547',\n",
       "  'hotelId': '3629493'},\n",
       " {'name': 'Hotel Il Pellicano, Porto Ercole, Tuscany, Italy',\n",
       "  'shortName': 'Hotel Il Pellicano',\n",
       "  'address': {'city': 'Porto Ercole',\n",
       "   'country': 'Italy',\n",
       "   'address': 'Localita Sbarcatello'},\n",
       "  'coordenates': '42.373695,11.187602',\n",
       "  'hotelId': '2796573'},\n",
       " {'name': 'Hotel Fasano Boa Vista, Porto Feliz, State of Sao Paulo, Brazil',\n",
       "  'shortName': 'Hotel Fasano Boa Vista',\n",
       "  'address': {'city': 'Porto Feliz',\n",
       "   'country': 'Brazil',\n",
       "   'address': 'Rodovia Castello Branco Km 102,5 s/n'},\n",
       "  'coordenates': '-23.34987,-47.555374',\n",
       "  'hotelId': '29384853'},\n",
       " {'name': 'Halekulani Okinawa, Onna-son, Okinawa Prefecture, Japan',\n",
       "  'shortName': 'Halekulani Okinawa',\n",
       "  'address': {'city': 'Onna-son',\n",
       "   'country': 'Japan',\n",
       "   'address': '1967-1 Nakama'},\n",
       "  'coordenates': '26.526575,127.9233',\n",
       "  'hotelId': '206772585'},\n",
       " {'name': 'The Lake House On Canandaigua Preferred L.v.x. Collection, Canandaigua, New York',\n",
       "  'shortName': 'The Lake House On Canandaigua Preferred L.v.x. Collection',\n",
       "  'address': {'city': 'Canandaigua',\n",
       "   'country': 'New York',\n",
       "   'address': '770 S Main St'},\n",
       "  'coordenates': '42.874546,-77.27478',\n",
       "  'hotelId': '213947193'},\n",
       " {'name': 'Hyatt Regency Amritsar, Amritsar, India',\n",
       "  'shortName': 'Hyatt Regency Amritsar',\n",
       "  'address': {'city': 'Amritsar', 'country': 'India', 'address': 'G T Road'},\n",
       "  'coordenates': '31.619259,74.90892',\n",
       "  'hotelId': '14187705'},\n",
       " {'name': 'The Leela Palace Udaipur, Udaipur, India',\n",
       "  'shortName': 'The Leela Palace Udaipur',\n",
       "  'address': {'city': 'Udaipur',\n",
       "   'country': 'India',\n",
       "   'address': 'Lake Pichola'},\n",
       "  'coordenates': '24.578016,73.677155',\n",
       "  'hotelId': '17282817'},\n",
       " {'name': 'Nayara Gardens, La Fortuna de San Carlos, Costa Rica',\n",
       "  'shortName': 'Nayara Gardens',\n",
       "  'address': {'city': 'La Fortuna de San Carlos',\n",
       "   'country': 'Costa Rica',\n",
       "   'address': '702 Road 21007'},\n",
       "  'coordenates': '10.503161,-84.687744',\n",
       "  'hotelId': '10397805'},\n",
       " {'name': 'Pickering House Inn, Wolfeboro, New Hampshire',\n",
       "  'shortName': 'Pickering House Inn',\n",
       "  'address': {'city': 'Wolfeboro',\n",
       "   'country': 'New Hampshire',\n",
       "   'address': '116 S Main St'},\n",
       "  'coordenates': '43.584614,-71.20888',\n",
       "  'hotelId': '177422073'},\n",
       " {'name': 'Rancho Valencia Resort & Spa, Rancho Santa Fe, California',\n",
       "  'shortName': 'Rancho Valencia Resort & Spa',\n",
       "  'address': {'city': 'Rancho Santa Fe',\n",
       "   'country': 'California',\n",
       "   'address': '5921 Valencia Cir'},\n",
       "  'coordenates': '32.991196,-117.18623',\n",
       "  'hotelId': '951669'},\n",
       " {'name': 'NIHI Sumba, Sumba, Indonesia',\n",
       "  'shortName': 'NIHI Sumba',\n",
       "  'address': {'city': 'Sumba',\n",
       "   'country': 'Indonesia',\n",
       "   'address': 'Desa Hobawawi'},\n",
       "  'coordenates': '-9.778738,119.37508',\n",
       "  'hotelId': '5837889'},\n",
       " {'name': 'The Oberoi Mumbai, Mumbai, India',\n",
       "  'shortName': 'The Oberoi Mumbai',\n",
       "  'address': {'city': 'Mumbai',\n",
       "   'country': 'India',\n",
       "   'address': 'Nariman Point'},\n",
       "  'coordenates': '18.926977,72.82045',\n",
       "  'hotelId': '3649461'},\n",
       " {'name': 'Tierra Atacama Hotel & Spa, San Pedro de Atacama, Chile',\n",
       "  'shortName': 'Tierra Atacama Hotel & Spa',\n",
       "  'address': {'city': 'San Pedro de Atacama',\n",
       "   'country': 'Chile',\n",
       "   'address': 'Camino Sequitor S/N, Ayllu de Yaye'},\n",
       "  'coordenates': '-22.923191,-68.2076',\n",
       "  'hotelId': '10643829'},\n",
       " {'name': 'Viceroy Riviera Maya, Playa del Carmen, Quintana Roo, Mexico',\n",
       "  'shortName': 'Viceroy Riviera Maya',\n",
       "  'address': {'city': 'Playa del Carmen',\n",
       "   'country': 'Mexico',\n",
       "   'address': 'Playa Xcalacoco Frac 7'},\n",
       "  'coordenates': '20.665073,-87.03318',\n",
       "  'hotelId': '2976693'},\n",
       " {'name': 'The St. Regis Istanbul, Istanbul, Turkey',\n",
       "  'shortName': 'The St. Regis Istanbul',\n",
       "  'address': {'city': 'Istanbul',\n",
       "   'country': 'Turkey',\n",
       "   'address': 'Mim Kemal Oke Cad No 35, Nisantasi'},\n",
       "  'coordenates': '41.047657,28.992722',\n",
       "  'hotelId': '88743357'},\n",
       " {'name': 'Katikies Mykonos, Agios Ioannis Diakoftis, South Aegean, Greece',\n",
       "  'shortName': 'Katikies Mykonos',\n",
       "  'address': {'city': 'Agios Ioannis Diakoftis', 'country': 'Greece'},\n",
       "  'coordenates': '37.424,25.308216',\n",
       "  'hotelId': '153953601'},\n",
       " {'name': 'The Lanesborough, London, England',\n",
       "  'shortName': 'The Lanesborough',\n",
       "  'address': {'city': 'London',\n",
       "   'country': 'England',\n",
       "   'address': 'Hyde Park Corner Lanesborough Place'},\n",
       "  'coordenates': '51.502636,-0.152688',\n",
       "  'hotelId': '2253861'},\n",
       " {'name': 'Mandarin Oriental, Bangkok, Bangkok, Thailand',\n",
       "  'shortName': 'Mandarin Oriental, Bangkok',\n",
       "  'address': {'city': 'Bangkok',\n",
       "   'country': 'Thailand',\n",
       "   'address': '48 Oriental Avenue'},\n",
       "  'coordenates': '13.723831,100.513954',\n",
       "  'hotelId': '3615693'},\n",
       " {'name': 'The Roundtree, Amagansett, Amagansett, New York',\n",
       "  'shortName': 'The Roundtree, Amagansett',\n",
       "  'address': {'city': 'Amagansett',\n",
       "   'country': 'New York',\n",
       "   'address': '273 Main St'},\n",
       "  'coordenates': '40.977093,-72.14056',\n",
       "  'hotelId': '1460973'},\n",
       " {'name': 'Mashpi Lodge, Pacto, Ecuador',\n",
       "  'shortName': 'Mashpi Lodge',\n",
       "  'address': {'city': 'Pacto',\n",
       "   'country': 'Ecuador',\n",
       "   'address': 'Reserva Privada Mashpi'},\n",
       "  'coordenates': '0.166005,-78.87826',\n",
       "  'hotelId': '40380969'},\n",
       " {'name': 'Angama Mara, Maasai Mara National Reserve, Kenya',\n",
       "  'shortName': 'Angama Mara',\n",
       "  'address': {'city': 'Maasai Mara National Reserve',\n",
       "   'country': 'Kenya',\n",
       "   'address': 'Mara Triangle'},\n",
       "  'coordenates': '-1.274395,34.970856',\n",
       "  'hotelId': '101111061'},\n",
       " {'name': 'Raffles Istanbul, Istanbul, Turkey',\n",
       "  'shortName': 'Raffles Istanbul',\n",
       "  'address': {'city': 'Istanbul',\n",
       "   'country': 'Turkey',\n",
       "   'address': 'Zorlu Center'},\n",
       "  'coordenates': '41.06655,29.018047',\n",
       "  'hotelId': '81379017'},\n",
       " {'name': 'Grand Hotel Excelsior Vittoria, Sorrento, Campania, Italy',\n",
       "  'shortName': 'Grand Hotel Excelsior Vittoria',\n",
       "  'address': {'city': 'Sorrento',\n",
       "   'country': 'Italy',\n",
       "   'address': 'Piazza Tasso, 34'},\n",
       "  'coordenates': '40.628345,14.375541',\n",
       "  'hotelId': '2746269'},\n",
       " {'name': 'SUMAQ Machu Picchu Hotel, Aguas Calientes, Peru',\n",
       "  'shortName': 'SUMAQ Machu Picchu Hotel',\n",
       "  'address': {'city': 'Aguas Calientes',\n",
       "   'country': 'Peru',\n",
       "   'address': 'Av. Hermanos Ayar Mz 1 Lote 3'},\n",
       "  'coordenates': '-13.154487,-72.52818',\n",
       "  'hotelId': '7911117'},\n",
       " {'name': 'Las Ventanas Al Paraiso, A Rosewood Resort, San Jose del Cabo, Baja California Sur, Mexico',\n",
       "  'shortName': 'Las Ventanas Al Paraiso, A Rosewood Resort',\n",
       "  'address': {'city': 'San Jose del Cabo',\n",
       "   'country': 'Mexico',\n",
       "   'address': 'KM 19.5 Ctra. Transpeninsular'},\n",
       "  'coordenates': '22.979557,-109.77015',\n",
       "  'hotelId': '3244437'},\n",
       " {'name': 'The Oberoi Rajvilas, Jaipur, India',\n",
       "  'shortName': 'The Oberoi Rajvilas',\n",
       "  'address': {'city': 'Jaipur', 'country': 'India', 'address': 'Goner Road'},\n",
       "  'coordenates': '26.876553,75.88417',\n",
       "  'hotelId': '3633465'},\n",
       " {'name': 'Viceroy Chicago, Chicago, Illinois',\n",
       "  'shortName': 'Viceroy Chicago',\n",
       "  'address': {'city': 'Chicago',\n",
       "   'country': 'Illinois',\n",
       "   'address': '1118 N State Street'},\n",
       "  'coordenates': '41.90249,-87.62869',\n",
       "  'hotelId': '150579453'},\n",
       " {'name': 'Singita Boulders Lodge, Singita Private Game Reserve, South Africa',\n",
       "  'shortName': 'Singita Boulders Lodge',\n",
       "  'address': {'city': 'Singita Private Game Reserve',\n",
       "   'country': 'South Africa',\n",
       "   'address': 'Singita Sabi Sand'},\n",
       "  'coordenates': '-24.786243,31.429024',\n",
       "  'hotelId': '5661993'},\n",
       " {'name': 'Four Seasons Hotel Bangkok at Chao Phraya River, Bangkok, Thailand',\n",
       "  'shortName': 'Four Seasons Hotel Bangkok at Chao Phraya River',\n",
       "  'address': {'city': 'Bangkok',\n",
       "   'country': 'Thailand',\n",
       "   'address': '300/1 Charoen Krung Rd, Khwaeng Yan Nawa, Khet Sathon'},\n",
       "  'coordenates': '13.712023,100.51002',\n",
       "  'hotelId': '236748705'},\n",
       " {'name': 'The Goring, London, England',\n",
       "  'shortName': 'The Goring',\n",
       "  'address': {'city': 'London',\n",
       "   'country': 'England',\n",
       "   'address': '15 Beeston Place'},\n",
       "  'coordenates': '51.497448,-0.145687',\n",
       "  'hotelId': '2572953'},\n",
       " {'name': 'The Lodge & Spa at Brush Creek Ranch, Saratoga, Wyoming',\n",
       "  'shortName': 'The Lodge & Spa at Brush Creek Ranch',\n",
       "  'address': {'city': 'Saratoga',\n",
       "   'country': 'Wyoming',\n",
       "   'address': '66 Brush Creek Ranch Rd'},\n",
       "  'coordenates': '41.3309,-106.60632',\n",
       "  'hotelId': '25642821'},\n",
       " {'name': 'Taj Palace, New Delhi, New Delhi, India',\n",
       "  'shortName': 'Taj Palace, New Delhi',\n",
       "  'address': {'city': 'New Delhi',\n",
       "   'country': 'India',\n",
       "   'address': '2 Taj Palace, New Delhi Sardar Patel Marg'},\n",
       "  'coordenates': '28.595366,77.17075',\n",
       "  'hotelId': '3624933'},\n",
       " {'name': 'The St. Regis Florence, Florence, Tuscany, Italy',\n",
       "  'shortName': 'The St. Regis Florence',\n",
       "  'address': {'city': 'Florence',\n",
       "   'country': 'Italy',\n",
       "   'address': 'Piazza Ognissanti 1'},\n",
       "  'coordenates': '43.772297,11.24454',\n",
       "  'hotelId': '2292669'},\n",
       " {'name': 'Mandarin Oriental, Paris, Paris, Ile-de-France, France',\n",
       "  'shortName': 'Mandarin Oriental, Paris',\n",
       "  'address': {'city': 'Paris',\n",
       "   'country': 'France',\n",
       "   'address': '251 rue Saint-Honore'},\n",
       "  'coordenates': '48.866802,2.327193',\n",
       "  'hotelId': '24501777'},\n",
       " {'name': 'Matetsi Victoria Falls, Victoria Falls, Zimbabwe',\n",
       "  'shortName': 'Matetsi Victoria Falls',\n",
       "  'address': {'city': 'Victoria Falls',\n",
       "   'country': 'Zimbabwe',\n",
       "   'address': 'Matetsi Private Game Reserve'},\n",
       "  'coordenates': '-17.865435,25.501024',\n",
       "  'hotelId': '3663573'},\n",
       " {'name': 'Round Hill Hotel and Villas, Hopewell, Jamaica',\n",
       "  'shortName': 'Round Hill Hotel and Villas',\n",
       "  'address': {'city': 'Hopewell',\n",
       "   'country': 'Jamaica',\n",
       "   'address': 'John Pringle Drive'},\n",
       "  'coordenates': '18.458681,-78.011406',\n",
       "  'hotelId': '1768713'},\n",
       " {'name': 'Khwai River Lodge, A Belmond Safari, Botswana, Moremi Game Reserve, Botswana',\n",
       "  'shortName': 'Khwai River Lodge, A Belmond Safari, Botswana',\n",
       "  'address': {'city': 'Moremi Game Reserve', 'country': 'Botswana'},\n",
       "  'coordenates': '-19.148542,23.800123',\n",
       "  'hotelId': '5729313'},\n",
       " {'name': 'Soneva Jani, Medhufaru, Maldives',\n",
       "  'shortName': 'Soneva Jani',\n",
       "  'address': {'city': 'Medhufaru', 'country': 'Maldives'},\n",
       "  'coordenates': '5.725939,73.41193',\n",
       "  'hotelId': '126210681'},\n",
       " {'name': 'The Oberoi Amarvilas, Agra, India',\n",
       "  'shortName': 'The Oberoi Amarvilas',\n",
       "  'address': {'city': 'Agra', 'country': 'India', 'address': 'Taj East Gate'},\n",
       "  'coordenates': '27.168137,78.04875',\n",
       "  'hotelId': '3624477'},\n",
       " {'name': 'Inn of the Five Graces, Santa Fe, New Mexico',\n",
       "  'shortName': 'Inn of the Five Graces',\n",
       "  'address': {'city': 'Santa Fe',\n",
       "   'country': 'New Mexico',\n",
       "   'address': '150 E de Vargas St'},\n",
       "  'coordenates': '35.683815,-105.93851',\n",
       "  'hotelId': '3708825'},\n",
       " {'name': 'Zadun, A Ritz-Carlton Reserve, San Jose del Cabo, Baja California Sur, Mexico',\n",
       "  'shortName': 'Zadun, A Ritz-Carlton Reserve',\n",
       "  'address': {'city': 'San Jose del Cabo',\n",
       "   'country': 'Mexico',\n",
       "   'address': 'Boulevard Mar de Cortez'},\n",
       "  'coordenates': '23.069447,-109.6477',\n",
       "  'hotelId': '213397281'},\n",
       " {'name': 'Mfuwe Lodge - The Bushcamp Company, South Luangwa National Park, Zambia',\n",
       "  'shortName': 'Mfuwe Lodge - The Bushcamp Company',\n",
       "  'address': {'city': 'South Luangwa National Park',\n",
       "   'country': 'Zambia',\n",
       "   'address': 'The Bushcamp Company'},\n",
       "  'coordenates': '-13.079113,31.79057',\n",
       "  'hotelId': '7797357'},\n",
       " {'name': 'InterContinental Bora Bora Resort Thalasso Spa, an IHG Hotel, Bora Bora, French Polynesia',\n",
       "  'shortName': 'InterContinental Bora Bora Resort Thalasso Spa, an IHG Hotel',\n",
       "  'address': {'city': 'Bora Bora',\n",
       "   'country': 'French Polynesia',\n",
       "   'address': 'Motu Piti Aau'},\n",
       "  'coordenates': '-16.5052,-151.70145',\n",
       "  'hotelId': '7152429'},\n",
       " {'name': 'Banyan Tree Cabo Marques, Acapulco, Guerrero, Mexico',\n",
       "  'shortName': 'Banyan Tree Cabo Marques',\n",
       "  'address': {'city': 'Acapulco',\n",
       "   'country': 'Mexico',\n",
       "   'address': 'Boulevard Cabo Marques Lote 1'},\n",
       "  'coordenates': '16.795399,-99.85609',\n",
       "  'hotelId': '20184045'},\n",
       " {'name': 'andBeyond Ngala Safari Lodge, Ngala Private Game Reserve, South Africa',\n",
       "  'shortName': 'andBeyond Ngala Safari Lodge',\n",
       "  'address': {'city': 'Ngala Private Game Reserve', 'country': 'South Africa'},\n",
       "  'coordenates': '-24.381674,31.322102',\n",
       "  'hotelId': '17280093'},\n",
       " {'name': 'Sasaab, Samburu National Reserve, Kenya',\n",
       "  'shortName': 'Sasaab',\n",
       "  'address': {'city': 'Samburu National Reserve', 'country': 'Kenya'},\n",
       "  'coordenates': '0.631893,37.350067',\n",
       "  'hotelId': '17838285'},\n",
       " {'name': 'The Sukhothai Bangkok, Bangkok, Thailand',\n",
       "  'shortName': 'The Sukhothai Bangkok',\n",
       "  'address': {'city': 'Bangkok',\n",
       "   'country': 'Thailand',\n",
       "   'address': '13 / 3 South Sathorn Road'},\n",
       "  'coordenates': '13.723333,100.54096',\n",
       "  'hotelId': '3632001'},\n",
       " {'name': 'The Oberoi Grand, Kolkata (Calcutta), India',\n",
       "  'shortName': 'The Oberoi Grand',\n",
       "  'address': {'city': 'Kolkata (Calcutta)',\n",
       "   'country': 'India',\n",
       "   'address': '15 Jawaharlal Neharu Road'},\n",
       "  'coordenates': '22.561783,88.35166',\n",
       "  'hotelId': '3625053'},\n",
       " {'name': 'Hotel Plaza Athenee, Paris, Ile-de-France, France',\n",
       "  'shortName': 'Hotel Plaza Athenee',\n",
       "  'address': {'city': 'Paris',\n",
       "   'country': 'France',\n",
       "   'address': '25 Avenue Montaigne'},\n",
       "  'coordenates': '48.866283,2.304262',\n",
       "  'hotelId': '2263521'},\n",
       " {'name': 'Mahekal Beach Resort, Playa del Carmen, Quintana Roo, Mexico',\n",
       "  'shortName': 'Mahekal Beach Resort',\n",
       "  'address': {'city': 'Playa del Carmen',\n",
       "   'country': 'Mexico',\n",
       "   'address': 'Calle 38, Entre Avenida 5A y Zona Federal Maritima'},\n",
       "  'coordenates': '20.63371,-87.063065',\n",
       "  'hotelId': '1880997'},\n",
       " {'name': 'The Fullerton Hotel Singapore, Singapore, Singapore',\n",
       "  'shortName': 'The Fullerton Hotel Singapore',\n",
       "  'address': {'city': 'Singapore',\n",
       "   'country': 'Singapore',\n",
       "   'address': '1 Fullerton Square'},\n",
       "  'coordenates': '1.286357,103.853065',\n",
       "  'hotelId': '3672837'},\n",
       " {'name': 'Jade Mountain Resort, Soufriere, St. Lucia',\n",
       "  'shortName': 'Jade Mountain Resort',\n",
       "  'address': {'city': 'Soufriere',\n",
       "   'country': 'St. Lucia',\n",
       "   'address': '100 Anse Chastanet Road'},\n",
       "  'coordenates': '13.864569,-61.07566',\n",
       "  'hotelId': '7479249'},\n",
       " {'name': 'Casa Chameleon Hotel At Las Catalinas, Las Catalinas, Costa Rica',\n",
       "  'shortName': 'Casa Chameleon Hotel At Las Catalinas',\n",
       "  'address': {'city': 'Las Catalinas',\n",
       "   'country': 'Costa Rica',\n",
       "   'address': 'Playa Danta'},\n",
       "  'coordenates': '10.478665,-85.78235',\n",
       "  'hotelId': '144767253'},\n",
       " {'name': \"Hotel Crillon Le Brave, Crillon-le-Brave, Provence-Alpes-Cote d'Azur, France\",\n",
       "  'shortName': 'Hotel Crillon Le Brave',\n",
       "  'address': {'city': 'Crillon-le-Brave',\n",
       "   'country': 'France',\n",
       "   'address': \"Place de l'Eglise\"},\n",
       "  'coordenates': '44.118855,5.143738',\n",
       "  'hotelId': '2962533'},\n",
       " {'name': 'Le Bristol Paris, Paris, Ile-de-France, France',\n",
       "  'shortName': 'Le Bristol Paris',\n",
       "  'address': {'city': 'Paris',\n",
       "   'country': 'France',\n",
       "   'address': '112 rue du Faubourg Saint Honore'},\n",
       "  'coordenates': '48.871925,2.314961',\n",
       "  'hotelId': '2263509'},\n",
       " {'name': 'Mandapa, a Ritz-Carlton Reserve, Kedewatan, Indonesia',\n",
       "  'shortName': 'Mandapa, a Ritz-Carlton Reserve',\n",
       "  'address': {'city': 'Kedewatan',\n",
       "   'country': 'Indonesia',\n",
       "   'address': 'Jl. Kedewatan, Banjar Kedewatan'},\n",
       "  'coordenates': '-8.485463,115.24543',\n",
       "  'hotelId': '99526749'},\n",
       " {'name': 'Six Senses Laamu, Olhuveli Island, Maldives',\n",
       "  'shortName': 'Six Senses Laamu',\n",
       "  'address': {'city': 'Olhuveli Island', 'country': 'Maldives'},\n",
       "  'coordenates': '1.816763,73.405624',\n",
       "  'hotelId': '24543537'},\n",
       " {'name': 'Waldorf Astoria Maldives Ithaafushi, Ithaafushi Island, Maldives',\n",
       "  'shortName': 'Waldorf Astoria Maldives Ithaafushi',\n",
       "  'address': {'city': 'Ithaafushi Island', 'country': 'Maldives'},\n",
       "  'coordenates': '4.013715,73.38303',\n",
       "  'hotelId': '187418169'},\n",
       " {'name': 'Wickaninnish Inn, Tofino, British Columbia, Canada',\n",
       "  'shortName': 'Wickaninnish Inn',\n",
       "  'address': {'city': 'Tofino',\n",
       "   'country': 'British Columbia',\n",
       "   'address': '500 Osprey Lane at Chesterman Beach'},\n",
       "  'coordenates': '49.122902,-125.90167',\n",
       "  'hotelId': '2224437'},\n",
       " {'name': 'Penha Longa Resort, Linho, Portugal',\n",
       "  'shortName': 'Penha Longa Resort',\n",
       "  'address': {'city': 'Linho',\n",
       "   'country': 'Portugal',\n",
       "   'address': 'Estrada da Lagoa Azul'},\n",
       "  'coordenates': '38.760857,-9.397563',\n",
       "  'hotelId': '2776557'},\n",
       " {'name': 'The St. Regis Bora Bora Resort, Bora Bora, French Polynesia',\n",
       "  'shortName': 'The St. Regis Bora Bora Resort',\n",
       "  'address': {'city': 'Bora Bora',\n",
       "   'country': 'French Polynesia',\n",
       "   'address': \"Motu Ome'E Bp 506\"},\n",
       "  'coordenates': '-16.486374,-151.6989',\n",
       "  'hotelId': '7174125'},\n",
       " {'name': 'Lion Sands River Lodge, Sabi Sand Game Reserve, South Africa',\n",
       "  'shortName': 'Lion Sands River Lodge',\n",
       "  'address': {'city': 'Sabi Sand Game Reserve', 'country': 'South Africa'},\n",
       "  'coordenates': '-24.927933,31.524908',\n",
       "  'hotelId': '7143501'},\n",
       " {'name': 'Rambagh Palace, Jaipur, India',\n",
       "  'shortName': 'Rambagh Palace',\n",
       "  'address': {'city': 'Jaipur',\n",
       "   'country': 'India',\n",
       "   'address': 'Bhawani Singh Road'},\n",
       "  'coordenates': '26.898067,75.80809',\n",
       "  'hotelId': '3624645'},\n",
       " {'name': 'The Oyster Box, Umhlanga Rocks, South Africa',\n",
       "  'shortName': 'The Oyster Box',\n",
       "  'address': {'city': 'Umhlanga Rocks',\n",
       "   'country': 'South Africa',\n",
       "   'address': '2 Lighthouse Road'},\n",
       "  'coordenates': '-29.728392,31.087467',\n",
       "  'hotelId': '6903177'},\n",
       " {'name': 'The Stafford London, London, England',\n",
       "  'shortName': 'The Stafford London',\n",
       "  'address': {'city': 'London',\n",
       "   'country': 'England',\n",
       "   'address': \"16-18 St. James's Place\"},\n",
       "  'coordenates': '51.506,-0.139896',\n",
       "  'hotelId': '2249601'},\n",
       " {'name': 'Tambo del Inka, a Luxury Collection Resort & Spa, Valle Sagrado, Urubamba, Peru',\n",
       "  'shortName': 'Tambo del Inka, a Luxury Collection Resort & Spa, Valle Sagrado',\n",
       "  'address': {'city': 'Urubamba',\n",
       "   'country': 'Peru',\n",
       "   'address': 'Avenida Ferrocarril S/N'},\n",
       "  'coordenates': '-13.310082,-72.1176',\n",
       "  'hotelId': '7180617'},\n",
       " {'name': 'Cap Maison Resort & Spa, Cap Estate, St. Lucia',\n",
       "  'shortName': 'Cap Maison Resort & Spa',\n",
       "  'address': {'city': 'Cap Estate',\n",
       "   'country': 'St. Lucia',\n",
       "   'address': 'Smugglers Cove Dr'},\n",
       "  'coordenates': '14.099793,-60.950832',\n",
       "  'hotelId': '13091757'},\n",
       " {'name': 'Tensing Pen Resort, Negril, Jamaica',\n",
       "  'shortName': 'Tensing Pen Resort',\n",
       "  'address': {'city': 'Negril',\n",
       "   'country': 'Jamaica',\n",
       "   'address': 'West End Road'},\n",
       "  'coordenates': '18.25622,-78.365326',\n",
       "  'hotelId': '1804989'},\n",
       " {'name': 'Hotel Le Toiny, Toiny, St. Barthelemy',\n",
       "  'shortName': 'Hotel Le Toiny',\n",
       "  'address': {'city': 'Toiny',\n",
       "   'country': 'St. Barthelemy',\n",
       "   'address': 'Anse De Toiny'},\n",
       "  'coordenates': '17.899813,-62.797737',\n",
       "  'hotelId': '1796493'},\n",
       " {'name': 'Rosewood Mayakoba, Playa del Carmen, Quintana Roo, Mexico',\n",
       "  'shortName': 'Rosewood Mayakoba',\n",
       "  'address': {'city': 'Playa del Carmen',\n",
       "   'country': 'Mexico',\n",
       "   'address': 'Ctra. Federal Cancun'},\n",
       "  'coordenates': '20.690386,-87.02307',\n",
       "  'hotelId': '9052341'},\n",
       " {'name': 'Canaves Oia Boutique Hotel, Oia, South Aegean, Greece',\n",
       "  'shortName': 'Canaves Oia Boutique Hotel',\n",
       "  'address': {'city': 'Oia', 'country': 'Greece', 'address': 'Main Street'},\n",
       "  'coordenates': '36.462082,25.384983',\n",
       "  'hotelId': '2745621'},\n",
       " {'name': 'Montage Los Cabos, Cabo San Lucas, Baja California Sur, Mexico',\n",
       "  'shortName': 'Montage Los Cabos',\n",
       "  'address': {'city': 'Cabo San Lucas',\n",
       "   'country': 'Mexico',\n",
       "   'address': 'Carretera Transpeninsular Km. 12. 5'},\n",
       "  'coordenates': '22.930096,-109.816414',\n",
       "  'hotelId': '159534069'},\n",
       " {'name': \"Badrutt's Palace Hotel St.Moritz, St. Moritz, Engadin St. Moritz, Switzerland\",\n",
       "  'shortName': \"Badrutt's Palace Hotel St.Moritz\",\n",
       "  'address': {'city': 'St. Moritz',\n",
       "   'country': 'Switzerland',\n",
       "   'address': 'Serlas, Via 27'},\n",
       "  'coordenates': '46.497456,9.841246',\n",
       "  'hotelId': '2473317'},\n",
       " {'name': 'Finca Cortesin Hotel Golf & Spa, Casares, Costa del Sol, Spain',\n",
       "  'shortName': 'Finca Cortesin Hotel Golf & Spa',\n",
       "  'address': {'city': 'Casares',\n",
       "   'country': 'Spain',\n",
       "   'address': 'Carretera de Casares, s/n'},\n",
       "  'coordenates': '36.397408,-5.225077',\n",
       "  'hotelId': '13030341'}]"
      ]
     },
     "execution_count": 85,
     "metadata": {},
     "output_type": "execute_result"
    }
   ],
   "source": [
    "hotel_info"
   ]
  },
  {
   "cell_type": "code",
   "execution_count": 86,
   "metadata": {},
   "outputs": [
    {
     "data": {
      "text/plain": [
       "99"
      ]
     },
     "execution_count": 86,
     "metadata": {},
     "output_type": "execute_result"
    }
   ],
   "source": [
    "len(hotel_info)"
   ]
  },
  {
   "cell_type": "code",
   "execution_count": 88,
   "metadata": {},
   "outputs": [],
   "source": [
    "country = []\n",
    "hotelid = []\n",
    "for i in hotel_info:\n",
    "    country.append(i[\"address\"][\"country\"])\n",
    "    hotelid.append(i[\"hotelId\"])"
   ]
  },
  {
   "cell_type": "code",
   "execution_count": 100,
   "metadata": {},
   "outputs": [
    {
     "data": {
      "text/html": [
       "<div>\n",
       "<style scoped>\n",
       "    .dataframe tbody tr th:only-of-type {\n",
       "        vertical-align: middle;\n",
       "    }\n",
       "\n",
       "    .dataframe tbody tr th {\n",
       "        vertical-align: top;\n",
       "    }\n",
       "\n",
       "    .dataframe thead th {\n",
       "        text-align: right;\n",
       "    }\n",
       "</style>\n",
       "<table border=\"1\" class=\"dataframe\">\n",
       "  <thead>\n",
       "    <tr style=\"text-align: right;\">\n",
       "      <th></th>\n",
       "      <th>Hotel Name</th>\n",
       "      <th>Country</th>\n",
       "      <th>Hotel ID</th>\n",
       "    </tr>\n",
       "  </thead>\n",
       "  <tbody>\n",
       "    <tr>\n",
       "      <th>0</th>\n",
       "      <td>Mahali Mzuri</td>\n",
       "      <td>Kenya</td>\n",
       "      <td>51515565</td>\n",
       "    </tr>\n",
       "    <tr>\n",
       "      <th>1</th>\n",
       "      <td>Nayara Tented Group</td>\n",
       "      <td>Costa Rica</td>\n",
       "      <td>226817781</td>\n",
       "    </tr>\n",
       "    <tr>\n",
       "      <th>2</th>\n",
       "      <td>The Opposite House</td>\n",
       "      <td>China</td>\n",
       "      <td>13728501</td>\n",
       "    </tr>\n",
       "    <tr>\n",
       "      <th>3</th>\n",
       "      <td>Capella Bangkok</td>\n",
       "      <td>Thailand</td>\n",
       "      <td>242822709</td>\n",
       "    </tr>\n",
       "    <tr>\n",
       "      <th>4</th>\n",
       "      <td>Capella Ubud</td>\n",
       "      <td>Indonesia</td>\n",
       "      <td>177854889</td>\n",
       "    </tr>\n",
       "  </tbody>\n",
       "</table>\n",
       "</div>"
      ],
      "text/plain": [
       "            Hotel Name     Country   Hotel ID\n",
       "0         Mahali Mzuri       Kenya   51515565\n",
       "1  Nayara Tented Group  Costa Rica  226817781\n",
       "2   The Opposite House       China   13728501\n",
       "3      Capella Bangkok    Thailand  242822709\n",
       "4         Capella Ubud   Indonesia  177854889"
      ]
     },
     "execution_count": 100,
     "metadata": {},
     "output_type": "execute_result"
    }
   ],
   "source": [
    "names[\"Hotel ID\"] = hotelid\n",
    "names[\"Country\"] = country\n",
    "names.head()"
   ]
  },
  {
   "cell_type": "markdown",
   "metadata": {},
   "source": [
    "### Assessing Data"
   ]
  },
  {
   "cell_type": "code",
   "execution_count": 6,
   "metadata": {},
   "outputs": [
    {
     "name": "stdout",
     "output_type": "stream",
     "text": [
      "<class 'pandas.core.frame.DataFrame'>\n",
      "RangeIndex: 99 entries, 0 to 98\n",
      "Data columns (total 3 columns):\n",
      " #   Column      Non-Null Count  Dtype \n",
      "---  ------      --------------  ----- \n",
      " 0   Hotel Name  99 non-null     object\n",
      " 1   Country     99 non-null     object\n",
      " 2   Hotel ID    99 non-null     int64 \n",
      "dtypes: int64(1), object(2)\n",
      "memory usage: 2.4+ KB\n"
     ]
    }
   ],
   "source": [
    "#checking Dataframe basic informations (columns names, number of values, data types ......)\n",
    "\n",
    "names.info()"
   ]
  },
  {
   "cell_type": "code",
   "execution_count": 7,
   "metadata": {},
   "outputs": [
    {
     "name": "stdout",
     "output_type": "stream",
     "text": [
      "<class 'pandas.core.frame.DataFrame'>\n",
      "RangeIndex: 99 entries, 0 to 98\n",
      "Data columns (total 4 columns):\n",
      " #   Column      Non-Null Count  Dtype \n",
      "---  ------      --------------  ----- \n",
      " 0   Hotel ID    99 non-null     int64 \n",
      " 1   Score       99 non-null     object\n",
      " 2   Night Sold  99 non-null     int64 \n",
      " 3   Theme       99 non-null     object\n",
      "dtypes: int64(2), object(2)\n",
      "memory usage: 3.2+ KB\n"
     ]
    }
   ],
   "source": [
    "data.info()"
   ]
  },
  {
   "cell_type": "code",
   "execution_count": 8,
   "metadata": {},
   "outputs": [
    {
     "data": {
      "text/plain": [
       "(99, 3)"
      ]
     },
     "execution_count": 8,
     "metadata": {},
     "output_type": "execute_result"
    }
   ],
   "source": [
    "#checking Dataframe shape (number of rows and columns)\n",
    "\n",
    "names.shape"
   ]
  },
  {
   "cell_type": "code",
   "execution_count": 9,
   "metadata": {},
   "outputs": [
    {
     "data": {
      "text/plain": [
       "(99, 4)"
      ]
     },
     "execution_count": 9,
     "metadata": {},
     "output_type": "execute_result"
    }
   ],
   "source": [
    "data.shape"
   ]
  },
  {
   "cell_type": "code",
   "execution_count": 10,
   "metadata": {},
   "outputs": [
    {
     "data": {
      "text/html": [
       "<div>\n",
       "<style scoped>\n",
       "    .dataframe tbody tr th:only-of-type {\n",
       "        vertical-align: middle;\n",
       "    }\n",
       "\n",
       "    .dataframe tbody tr th {\n",
       "        vertical-align: top;\n",
       "    }\n",
       "\n",
       "    .dataframe thead th {\n",
       "        text-align: right;\n",
       "    }\n",
       "</style>\n",
       "<table border=\"1\" class=\"dataframe\">\n",
       "  <thead>\n",
       "    <tr style=\"text-align: right;\">\n",
       "      <th></th>\n",
       "      <th>Hotel ID</th>\n",
       "    </tr>\n",
       "  </thead>\n",
       "  <tbody>\n",
       "    <tr>\n",
       "      <th>count</th>\n",
       "      <td>9.900000e+01</td>\n",
       "    </tr>\n",
       "    <tr>\n",
       "      <th>mean</th>\n",
       "      <td>4.232649e+07</td>\n",
       "    </tr>\n",
       "    <tr>\n",
       "      <th>std</th>\n",
       "      <td>6.763819e+07</td>\n",
       "    </tr>\n",
       "    <tr>\n",
       "      <th>min</th>\n",
       "      <td>9.516690e+05</td>\n",
       "    </tr>\n",
       "    <tr>\n",
       "      <th>25%</th>\n",
       "      <td>3.617109e+06</td>\n",
       "    </tr>\n",
       "    <tr>\n",
       "      <th>50%</th>\n",
       "      <td>6.903177e+06</td>\n",
       "    </tr>\n",
       "    <tr>\n",
       "      <th>75%</th>\n",
       "      <td>4.422166e+07</td>\n",
       "    </tr>\n",
       "    <tr>\n",
       "      <th>max</th>\n",
       "      <td>2.428227e+08</td>\n",
       "    </tr>\n",
       "  </tbody>\n",
       "</table>\n",
       "</div>"
      ],
      "text/plain": [
       "           Hotel ID\n",
       "count  9.900000e+01\n",
       "mean   4.232649e+07\n",
       "std    6.763819e+07\n",
       "min    9.516690e+05\n",
       "25%    3.617109e+06\n",
       "50%    6.903177e+06\n",
       "75%    4.422166e+07\n",
       "max    2.428227e+08"
      ]
     },
     "execution_count": 10,
     "metadata": {},
     "output_type": "execute_result"
    }
   ],
   "source": [
    "#checking more information and descriptive statistics\n",
    "\n",
    "names.describe()"
   ]
  },
  {
   "cell_type": "code",
   "execution_count": 11,
   "metadata": {},
   "outputs": [
    {
     "data": {
      "text/html": [
       "<div>\n",
       "<style scoped>\n",
       "    .dataframe tbody tr th:only-of-type {\n",
       "        vertical-align: middle;\n",
       "    }\n",
       "\n",
       "    .dataframe tbody tr th {\n",
       "        vertical-align: top;\n",
       "    }\n",
       "\n",
       "    .dataframe thead th {\n",
       "        text-align: right;\n",
       "    }\n",
       "</style>\n",
       "<table border=\"1\" class=\"dataframe\">\n",
       "  <thead>\n",
       "    <tr style=\"text-align: right;\">\n",
       "      <th></th>\n",
       "      <th>Hotel ID</th>\n",
       "      <th>Night Sold</th>\n",
       "    </tr>\n",
       "  </thead>\n",
       "  <tbody>\n",
       "    <tr>\n",
       "      <th>count</th>\n",
       "      <td>9.900000e+01</td>\n",
       "      <td>99.000000</td>\n",
       "    </tr>\n",
       "    <tr>\n",
       "      <th>mean</th>\n",
       "      <td>4.232649e+07</td>\n",
       "      <td>96.010101</td>\n",
       "    </tr>\n",
       "    <tr>\n",
       "      <th>std</th>\n",
       "      <td>6.763819e+07</td>\n",
       "      <td>95.728836</td>\n",
       "    </tr>\n",
       "    <tr>\n",
       "      <th>min</th>\n",
       "      <td>9.516690e+05</td>\n",
       "      <td>4.000000</td>\n",
       "    </tr>\n",
       "    <tr>\n",
       "      <th>25%</th>\n",
       "      <td>3.617109e+06</td>\n",
       "      <td>26.500000</td>\n",
       "    </tr>\n",
       "    <tr>\n",
       "      <th>50%</th>\n",
       "      <td>6.903177e+06</td>\n",
       "      <td>67.000000</td>\n",
       "    </tr>\n",
       "    <tr>\n",
       "      <th>75%</th>\n",
       "      <td>4.422166e+07</td>\n",
       "      <td>123.000000</td>\n",
       "    </tr>\n",
       "    <tr>\n",
       "      <th>max</th>\n",
       "      <td>2.428227e+08</td>\n",
       "      <td>469.000000</td>\n",
       "    </tr>\n",
       "  </tbody>\n",
       "</table>\n",
       "</div>"
      ],
      "text/plain": [
       "           Hotel ID  Night Sold\n",
       "count  9.900000e+01   99.000000\n",
       "mean   4.232649e+07   96.010101\n",
       "std    6.763819e+07   95.728836\n",
       "min    9.516690e+05    4.000000\n",
       "25%    3.617109e+06   26.500000\n",
       "50%    6.903177e+06   67.000000\n",
       "75%    4.422166e+07  123.000000\n",
       "max    2.428227e+08  469.000000"
      ]
     },
     "execution_count": 11,
     "metadata": {},
     "output_type": "execute_result"
    }
   ],
   "source": [
    "data.describe()"
   ]
  },
  {
   "cell_type": "code",
   "execution_count": 12,
   "metadata": {},
   "outputs": [
    {
     "data": {
      "text/plain": [
       "Hotel Name    0\n",
       "Country       0\n",
       "Hotel ID      0\n",
       "dtype: int64"
      ]
     },
     "execution_count": 12,
     "metadata": {},
     "output_type": "execute_result"
    }
   ],
   "source": [
    "# checking for NaN values patients\n",
    "\n",
    "names.isnull().sum()"
   ]
  },
  {
   "cell_type": "code",
   "execution_count": 13,
   "metadata": {},
   "outputs": [
    {
     "data": {
      "text/plain": [
       "Hotel ID      0\n",
       "Score         0\n",
       "Night Sold    0\n",
       "Theme         0\n",
       "dtype: int64"
      ]
     },
     "execution_count": 13,
     "metadata": {},
     "output_type": "execute_result"
    }
   ],
   "source": [
    "#checking for duplicated rows \n",
    "\n",
    "data.isnull().sum()"
   ]
  },
  {
   "cell_type": "code",
   "execution_count": 14,
   "metadata": {},
   "outputs": [
    {
     "data": {
      "text/plain": [
       "0"
      ]
     },
     "execution_count": 14,
     "metadata": {},
     "output_type": "execute_result"
    }
   ],
   "source": [
    "# checking for duplicated with subset \n",
    "\n",
    "names.duplicated().sum()"
   ]
  },
  {
   "cell_type": "code",
   "execution_count": 15,
   "metadata": {},
   "outputs": [
    {
     "data": {
      "text/plain": [
       "0"
      ]
     },
     "execution_count": 15,
     "metadata": {},
     "output_type": "execute_result"
    }
   ],
   "source": [
    "data.duplicated().sum()"
   ]
  },
  {
   "cell_type": "code",
   "execution_count": 16,
   "metadata": {},
   "outputs": [
    {
     "data": {
      "text/plain": [
       "Hotel Name    99\n",
       "Country       40\n",
       "Hotel ID      99\n",
       "dtype: int64"
      ]
     },
     "execution_count": 16,
     "metadata": {},
     "output_type": "execute_result"
    }
   ],
   "source": [
    "#checking number of unique values\n",
    "\n",
    "names.nunique()"
   ]
  },
  {
   "cell_type": "code",
   "execution_count": 17,
   "metadata": {},
   "outputs": [
    {
     "data": {
      "text/plain": [
       "Hotel ID      99\n",
       "Score         65\n",
       "Night Sold    80\n",
       "Theme          6\n",
       "dtype: int64"
      ]
     },
     "execution_count": 17,
     "metadata": {},
     "output_type": "execute_result"
    }
   ],
   "source": [
    "data.nunique()"
   ]
  },
  {
   "cell_type": "code",
   "execution_count": 18,
   "metadata": {},
   "outputs": [
    {
     "data": {
      "text/plain": [
       "India               12\n",
       "Mexico               7\n",
       "South Africa         5\n",
       "Italy                5\n",
       "France               5\n",
       "England              4\n",
       "Maldives             4\n",
       "Thailand             4\n",
       "Indonesia            4\n",
       "Greece               4\n",
       "Costa Rica           3\n",
       "Turkey               3\n",
       "Kenya                3\n",
       "Peru                 3\n",
       "California           2\n",
       "Jamaica              2\n",
       "Botswana             2\n",
       "New York             2\n",
       "St. Lucia            2\n",
       "China                2\n",
       "French Polynesia     2\n",
       "St. Barthelemy       1\n",
       "Portugal             1\n",
       "British Columbia     1\n",
       "Switzerland          1\n",
       "Singapore            1\n",
       "Zambia               1\n",
       "New Mexico           1\n",
       "Japan                1\n",
       "Zimbabwe             1\n",
       "Wyoming              1\n",
       "Illinois             1\n",
       "Ecuador              1\n",
       "Chile                1\n",
       "New Hampshire        1\n",
       "Brazil               1\n",
       "Philippines          1\n",
       "Quebec               1\n",
       "Bahamas              1\n",
       "Spain                1\n",
       "Name: Country, dtype: int64"
      ]
     },
     "execution_count": 18,
     "metadata": {},
     "output_type": "execute_result"
    }
   ],
   "source": [
    "names.Country.value_counts()"
   ]
  },
  {
   "cell_type": "markdown",
   "metadata": {},
   "source": [
    "##  Cleaning Data\n",
    "\n",
    " \n",
    "1. Merge names and data dataframes.\n",
    "2. Remove space from columns names to make it easy to use.\n",
    "3. Sort datafame columns.\n",
    "4. Replace cities with contries.\n",
    "5. Remove % sign from score column and change column data type into integer."
   ]
  },
  {
   "cell_type": "code",
   "execution_count": 19,
   "metadata": {},
   "outputs": [],
   "source": [
    "# make copy of origenal dataframes to clean them\n",
    "\n",
    "names_clean = names.copy()\n",
    "data_clean = data.copy()"
   ]
  },
  {
   "cell_type": "markdown",
   "metadata": {},
   "source": [
    "#### 1. Merge names and data dataframes"
   ]
  },
  {
   "cell_type": "markdown",
   "metadata": {},
   "source": [
    "##### Code"
   ]
  },
  {
   "cell_type": "code",
   "execution_count": 20,
   "metadata": {},
   "outputs": [],
   "source": [
    "# Merge dataframes\n",
    "\n",
    "hotels = names_clean.merge(data_clean, how=\"inner\", on=\"Hotel ID\")"
   ]
  },
  {
   "cell_type": "markdown",
   "metadata": {},
   "source": [
    "##### Test"
   ]
  },
  {
   "cell_type": "code",
   "execution_count": 21,
   "metadata": {},
   "outputs": [
    {
     "data": {
      "text/html": [
       "<div>\n",
       "<style scoped>\n",
       "    .dataframe tbody tr th:only-of-type {\n",
       "        vertical-align: middle;\n",
       "    }\n",
       "\n",
       "    .dataframe tbody tr th {\n",
       "        vertical-align: top;\n",
       "    }\n",
       "\n",
       "    .dataframe thead th {\n",
       "        text-align: right;\n",
       "    }\n",
       "</style>\n",
       "<table border=\"1\" class=\"dataframe\">\n",
       "  <thead>\n",
       "    <tr style=\"text-align: right;\">\n",
       "      <th></th>\n",
       "      <th>Hotel Name</th>\n",
       "      <th>Country</th>\n",
       "      <th>Hotel ID</th>\n",
       "      <th>Score</th>\n",
       "      <th>Night Sold</th>\n",
       "      <th>Theme</th>\n",
       "    </tr>\n",
       "  </thead>\n",
       "  <tbody>\n",
       "    <tr>\n",
       "      <th>0</th>\n",
       "      <td>Mahali Mzuri</td>\n",
       "      <td>Kenya</td>\n",
       "      <td>51515565</td>\n",
       "      <td>63%</td>\n",
       "      <td>12</td>\n",
       "      <td>Safari</td>\n",
       "    </tr>\n",
       "    <tr>\n",
       "      <th>1</th>\n",
       "      <td>Nayara Tented Group</td>\n",
       "      <td>Costa Rica</td>\n",
       "      <td>226817781</td>\n",
       "      <td>24%</td>\n",
       "      <td>29</td>\n",
       "      <td>Nature</td>\n",
       "    </tr>\n",
       "    <tr>\n",
       "      <th>2</th>\n",
       "      <td>The Opposite House</td>\n",
       "      <td>China</td>\n",
       "      <td>13728501</td>\n",
       "      <td>14%</td>\n",
       "      <td>99</td>\n",
       "      <td>Contemporary</td>\n",
       "    </tr>\n",
       "    <tr>\n",
       "      <th>3</th>\n",
       "      <td>Capella Bangkok</td>\n",
       "      <td>Thailand</td>\n",
       "      <td>242822709</td>\n",
       "      <td>13%</td>\n",
       "      <td>101</td>\n",
       "      <td>Contemporary</td>\n",
       "    </tr>\n",
       "    <tr>\n",
       "      <th>4</th>\n",
       "      <td>Capella Ubud</td>\n",
       "      <td>Indonesia</td>\n",
       "      <td>177854889</td>\n",
       "      <td>62%</td>\n",
       "      <td>23</td>\n",
       "      <td>Nature</td>\n",
       "    </tr>\n",
       "  </tbody>\n",
       "</table>\n",
       "</div>"
      ],
      "text/plain": [
       "            Hotel Name     Country   Hotel ID Score  Night Sold          Theme\n",
       "0         Mahali Mzuri       Kenya   51515565   63%          12         Safari\n",
       "1  Nayara Tented Group  Costa Rica  226817781   24%          29         Nature\n",
       "2   The Opposite House       China   13728501   14%          99  Contemporary \n",
       "3      Capella Bangkok    Thailand  242822709   13%         101  Contemporary \n",
       "4         Capella Ubud   Indonesia  177854889   62%          23         Nature"
      ]
     },
     "execution_count": 21,
     "metadata": {},
     "output_type": "execute_result"
    }
   ],
   "source": [
    "#confirm changes\n",
    "\n",
    "hotels.head()"
   ]
  },
  {
   "cell_type": "code",
   "execution_count": 22,
   "metadata": {},
   "outputs": [
    {
     "data": {
      "text/plain": [
       "(99, 6)"
      ]
     },
     "execution_count": 22,
     "metadata": {},
     "output_type": "execute_result"
    }
   ],
   "source": [
    "hotels.shape"
   ]
  },
  {
   "cell_type": "markdown",
   "metadata": {},
   "source": [
    "#### 2. Remove space from columns names to make it easy to use."
   ]
  },
  {
   "cell_type": "markdown",
   "metadata": {},
   "source": [
    "##### Code"
   ]
  },
  {
   "cell_type": "code",
   "execution_count": 23,
   "metadata": {},
   "outputs": [],
   "source": [
    "# Rename columns \n",
    "\n",
    "hotels.columns = hotels.columns.str.replace(\" \", \"_\")"
   ]
  },
  {
   "cell_type": "markdown",
   "metadata": {},
   "source": [
    "##### Test"
   ]
  },
  {
   "cell_type": "code",
   "execution_count": 24,
   "metadata": {},
   "outputs": [
    {
     "data": {
      "text/plain": [
       "Index(['Hotel_Name', 'Country', 'Hotel_ID', 'Score', 'Night_Sold', 'Theme'], dtype='object')"
      ]
     },
     "execution_count": 24,
     "metadata": {},
     "output_type": "execute_result"
    }
   ],
   "source": [
    "#confirm changes\n",
    "\n",
    "hotels.columns"
   ]
  },
  {
   "cell_type": "markdown",
   "metadata": {},
   "source": [
    "#### 3. Sort datafame columns."
   ]
  },
  {
   "cell_type": "code",
   "execution_count": 25,
   "metadata": {},
   "outputs": [],
   "source": [
    "hotels = hotels[[\"Hotel_ID\",\"Hotel_Name\", \"Country\", \"Theme\", \"Night_Sold\", \"Score\" ]]"
   ]
  },
  {
   "cell_type": "code",
   "execution_count": 26,
   "metadata": {},
   "outputs": [
    {
     "data": {
      "text/html": [
       "<div>\n",
       "<style scoped>\n",
       "    .dataframe tbody tr th:only-of-type {\n",
       "        vertical-align: middle;\n",
       "    }\n",
       "\n",
       "    .dataframe tbody tr th {\n",
       "        vertical-align: top;\n",
       "    }\n",
       "\n",
       "    .dataframe thead th {\n",
       "        text-align: right;\n",
       "    }\n",
       "</style>\n",
       "<table border=\"1\" class=\"dataframe\">\n",
       "  <thead>\n",
       "    <tr style=\"text-align: right;\">\n",
       "      <th></th>\n",
       "      <th>Hotel_ID</th>\n",
       "      <th>Hotel_Name</th>\n",
       "      <th>Country</th>\n",
       "      <th>Theme</th>\n",
       "      <th>Night_Sold</th>\n",
       "      <th>Score</th>\n",
       "    </tr>\n",
       "  </thead>\n",
       "  <tbody>\n",
       "    <tr>\n",
       "      <th>0</th>\n",
       "      <td>51515565</td>\n",
       "      <td>Mahali Mzuri</td>\n",
       "      <td>Kenya</td>\n",
       "      <td>Safari</td>\n",
       "      <td>12</td>\n",
       "      <td>63%</td>\n",
       "    </tr>\n",
       "    <tr>\n",
       "      <th>1</th>\n",
       "      <td>226817781</td>\n",
       "      <td>Nayara Tented Group</td>\n",
       "      <td>Costa Rica</td>\n",
       "      <td>Nature</td>\n",
       "      <td>29</td>\n",
       "      <td>24%</td>\n",
       "    </tr>\n",
       "    <tr>\n",
       "      <th>2</th>\n",
       "      <td>13728501</td>\n",
       "      <td>The Opposite House</td>\n",
       "      <td>China</td>\n",
       "      <td>Contemporary</td>\n",
       "      <td>99</td>\n",
       "      <td>14%</td>\n",
       "    </tr>\n",
       "    <tr>\n",
       "      <th>3</th>\n",
       "      <td>242822709</td>\n",
       "      <td>Capella Bangkok</td>\n",
       "      <td>Thailand</td>\n",
       "      <td>Contemporary</td>\n",
       "      <td>101</td>\n",
       "      <td>13%</td>\n",
       "    </tr>\n",
       "    <tr>\n",
       "      <th>4</th>\n",
       "      <td>177854889</td>\n",
       "      <td>Capella Ubud</td>\n",
       "      <td>Indonesia</td>\n",
       "      <td>Nature</td>\n",
       "      <td>23</td>\n",
       "      <td>62%</td>\n",
       "    </tr>\n",
       "  </tbody>\n",
       "</table>\n",
       "</div>"
      ],
      "text/plain": [
       "    Hotel_ID           Hotel_Name     Country          Theme  Night_Sold Score\n",
       "0   51515565         Mahali Mzuri       Kenya         Safari          12   63%\n",
       "1  226817781  Nayara Tented Group  Costa Rica         Nature          29   24%\n",
       "2   13728501   The Opposite House       China  Contemporary           99   14%\n",
       "3  242822709      Capella Bangkok    Thailand  Contemporary          101   13%\n",
       "4  177854889         Capella Ubud   Indonesia         Nature          23   62%"
      ]
     },
     "execution_count": 26,
     "metadata": {},
     "output_type": "execute_result"
    }
   ],
   "source": [
    "#confirm changes\n",
    "\n",
    "hotels.head()"
   ]
  },
  {
   "cell_type": "markdown",
   "metadata": {},
   "source": [
    "#### 4. Replace cities with contries."
   ]
  },
  {
   "cell_type": "code",
   "execution_count": 27,
   "metadata": {},
   "outputs": [],
   "source": [
    "contries = {\n",
    "    'Quebec':\"Canada\",\n",
    "    'British Columbia':\"Canada\",\n",
    "    \"Illinois\":\"USA\",\n",
    "    \"New Hampshire\":\"USA\",\n",
    "    \"California\":\"USA\",\n",
    "    \"New York\":\"USA\",\n",
    "    \"Wyoming\":\"USA\",\n",
    "    \"French Polynesia\":\"France\",\n",
    "    \"St. Barthelemy\":\"France\"\n",
    "    }      \n",
    "\n",
    "hotels.Country = hotels.Country.replace(contries) "
   ]
  },
  {
   "cell_type": "code",
   "execution_count": 28,
   "metadata": {},
   "outputs": [
    {
     "data": {
      "text/plain": [
       "India           12\n",
       "France           8\n",
       "USA              7\n",
       "Mexico           7\n",
       "South Africa     5\n",
       "Italy            5\n",
       "Thailand         4\n",
       "Indonesia        4\n",
       "Greece           4\n",
       "England          4\n",
       "Maldives         4\n",
       "Kenya            3\n",
       "Peru             3\n",
       "Turkey           3\n",
       "Costa Rica       3\n",
       "Jamaica          2\n",
       "St. Lucia        2\n",
       "Canada           2\n",
       "Botswana         2\n",
       "China            2\n",
       "Philippines      1\n",
       "Brazil           1\n",
       "Japan            1\n",
       "Chile            1\n",
       "Ecuador          1\n",
       "Zimbabwe         1\n",
       "Bahamas          1\n",
       "New Mexico       1\n",
       "Zambia           1\n",
       "Singapore        1\n",
       "Portugal         1\n",
       "Switzerland      1\n",
       "Spain            1\n",
       "Name: Country, dtype: int64"
      ]
     },
     "execution_count": 28,
     "metadata": {},
     "output_type": "execute_result"
    }
   ],
   "source": [
    "# Confirm changes \n",
    "\n",
    "hotels.Country.value_counts()"
   ]
  },
  {
   "cell_type": "markdown",
   "metadata": {},
   "source": [
    "#### 5. Remove % sign from score column and change column data type into integer."
   ]
  },
  {
   "cell_type": "code",
   "execution_count": 29,
   "metadata": {},
   "outputs": [],
   "source": [
    "hotels.Score = hotels.Score.str.replace(\"%\", \"\") \n",
    "hotels.Score = hotels.Score.astype(\"int\") "
   ]
  },
  {
   "cell_type": "code",
   "execution_count": 30,
   "metadata": {},
   "outputs": [
    {
     "data": {
      "text/html": [
       "<div>\n",
       "<style scoped>\n",
       "    .dataframe tbody tr th:only-of-type {\n",
       "        vertical-align: middle;\n",
       "    }\n",
       "\n",
       "    .dataframe tbody tr th {\n",
       "        vertical-align: top;\n",
       "    }\n",
       "\n",
       "    .dataframe thead th {\n",
       "        text-align: right;\n",
       "    }\n",
       "</style>\n",
       "<table border=\"1\" class=\"dataframe\">\n",
       "  <thead>\n",
       "    <tr style=\"text-align: right;\">\n",
       "      <th></th>\n",
       "      <th>Hotel_ID</th>\n",
       "      <th>Hotel_Name</th>\n",
       "      <th>Country</th>\n",
       "      <th>Theme</th>\n",
       "      <th>Night_Sold</th>\n",
       "      <th>Score</th>\n",
       "    </tr>\n",
       "  </thead>\n",
       "  <tbody>\n",
       "    <tr>\n",
       "      <th>0</th>\n",
       "      <td>51515565</td>\n",
       "      <td>Mahali Mzuri</td>\n",
       "      <td>Kenya</td>\n",
       "      <td>Safari</td>\n",
       "      <td>12</td>\n",
       "      <td>63</td>\n",
       "    </tr>\n",
       "    <tr>\n",
       "      <th>1</th>\n",
       "      <td>226817781</td>\n",
       "      <td>Nayara Tented Group</td>\n",
       "      <td>Costa Rica</td>\n",
       "      <td>Nature</td>\n",
       "      <td>29</td>\n",
       "      <td>24</td>\n",
       "    </tr>\n",
       "    <tr>\n",
       "      <th>2</th>\n",
       "      <td>13728501</td>\n",
       "      <td>The Opposite House</td>\n",
       "      <td>China</td>\n",
       "      <td>Contemporary</td>\n",
       "      <td>99</td>\n",
       "      <td>14</td>\n",
       "    </tr>\n",
       "    <tr>\n",
       "      <th>3</th>\n",
       "      <td>242822709</td>\n",
       "      <td>Capella Bangkok</td>\n",
       "      <td>Thailand</td>\n",
       "      <td>Contemporary</td>\n",
       "      <td>101</td>\n",
       "      <td>13</td>\n",
       "    </tr>\n",
       "    <tr>\n",
       "      <th>4</th>\n",
       "      <td>177854889</td>\n",
       "      <td>Capella Ubud</td>\n",
       "      <td>Indonesia</td>\n",
       "      <td>Nature</td>\n",
       "      <td>23</td>\n",
       "      <td>62</td>\n",
       "    </tr>\n",
       "  </tbody>\n",
       "</table>\n",
       "</div>"
      ],
      "text/plain": [
       "    Hotel_ID           Hotel_Name     Country          Theme  Night_Sold  \\\n",
       "0   51515565         Mahali Mzuri       Kenya         Safari          12   \n",
       "1  226817781  Nayara Tented Group  Costa Rica         Nature          29   \n",
       "2   13728501   The Opposite House       China  Contemporary           99   \n",
       "3  242822709      Capella Bangkok    Thailand  Contemporary          101   \n",
       "4  177854889         Capella Ubud   Indonesia         Nature          23   \n",
       "\n",
       "   Score  \n",
       "0     63  \n",
       "1     24  \n",
       "2     14  \n",
       "3     13  \n",
       "4     62  "
      ]
     },
     "execution_count": 30,
     "metadata": {},
     "output_type": "execute_result"
    }
   ],
   "source": [
    "# confirm changes \n",
    "\n",
    "hotels.head()"
   ]
  },
  {
   "cell_type": "code",
   "execution_count": 31,
   "metadata": {},
   "outputs": [
    {
     "data": {
      "text/plain": [
       "dtype('int64')"
      ]
     },
     "execution_count": 31,
     "metadata": {},
     "output_type": "execute_result"
    }
   ],
   "source": [
    "hotels.Score.dtype"
   ]
  },
  {
   "cell_type": "markdown",
   "metadata": {},
   "source": [
    "### Now Data is clean and tidy."
   ]
  },
  {
   "cell_type": "markdown",
   "metadata": {},
   "source": [
    "<a id='eda'></a>\n",
    "## Exploratory Data Analysis\n",
    "\n",
    "> Now I'm going to explore this data and try to find patterns in it, compute statistics and visualize the relationships\n",
    "to answer the questions and detect the characteristics that affect patients attending to their hospital appointment\n"
   ]
  },
  {
   "cell_type": "markdown",
   "metadata": {},
   "source": [
    "### check Night_Sold distribution and 5 number summary \n"
   ]
  },
  {
   "cell_type": "code",
   "execution_count": 222,
   "metadata": {},
   "outputs": [
    {
     "data": {
      "image/png": "[encoded data removed]",
      "text/plain": [
       "<Figure size 1080x288 with 3 Axes>"
      ]
     },
     "metadata": {},
     "output_type": "display_data"
    }
   ],
   "source": [
    "fig,ax = plt.subplots(1,3,figsize=(15,4))\n",
    "ax[0].hist(x=hotels.Night_Sold, bins=15)\n",
    "sns.boxplot(x=hotels.Night_Sold, ax=ax[2])\n",
    "sns.kdeplot(x=hotels.Night_Sold, ax=ax[1]);"
   ]
  },
  {
   "cell_type": "markdown",
   "metadata": {},
   "source": [
    "### check Hotel Score distribution and 5 number summary \n"
   ]
  },
  {
   "cell_type": "code",
   "execution_count": 224,
   "metadata": {},
   "outputs": [
    {
     "data": {
      "image/png": "[encoded data removed]",
      "text/plain": [
       "<Figure size 1080x288 with 3 Axes>"
      ]
     },
     "metadata": {},
     "output_type": "display_data"
    }
   ],
   "source": [
    "fig,ax = plt.subplots(1,3,figsize=(15,4))\n",
    "ax[0].hist(x=hotels.Score, bins=15)\n",
    "sns.boxplot(x=hotels.Score, ax=ax[2])\n",
    "sns.kdeplot(x=hotels.Score, ax=ax[1]);"
   ]
  },
  {
   "cell_type": "markdown",
   "metadata": {},
   "source": [
    "### Research Question 1\n",
    "> ####  Which Country has the highest average hotel score? (top 10)"
   ]
  },
  {
   "cell_type": "code",
   "execution_count": 36,
   "metadata": {},
   "outputs": [
    {
     "data": {
      "text/plain": [
       "Country\n",
       "Canada         98.0\n",
       "Zambia         98.0\n",
       "Ecuador        87.0\n",
       "Brazil         84.0\n",
       "Chile          76.0\n",
       "Philippines    75.0\n",
       "Japan          74.0\n",
       "Singapore      72.0\n",
       "New Mexico     72.0\n",
       "Kenya          64.0\n",
       "Name: Score, dtype: float64"
      ]
     },
     "execution_count": 36,
     "metadata": {},
     "output_type": "execute_result"
    }
   ],
   "source": [
    "# Top 10 countries with highest hotel score on avreage\n",
    "\n",
    "contry_avg_score = hotels.groupby(\"Country\").Score.mean().sort_values(ascending=False).iloc[:10]\n",
    "\n",
    "contry_avg_score"
   ]
  },
  {
   "cell_type": "code",
   "execution_count": 151,
   "metadata": {},
   "outputs": [
    {
     "data": {
      "image/png": "[encoded data removed]",
      "text/plain": [
       "<Figure size 720x360 with 1 Axes>"
      ]
     },
     "metadata": {},
     "output_type": "display_data"
    }
   ],
   "source": [
    "# Bar chart for Top 10 countries with highest hotel score on avreage\n",
    "\n",
    "\n",
    "c = sns.cubehelix_palette(13)[3:]\n",
    "contry_avg_score.sort_values(ascending=True).plot(kind=\"barh\",\n",
    "                                                 rot = 0,\n",
    "                                                 width = 0.7,\n",
    "                                                 alpha = 0.8,\n",
    "                                                 fontsize = 12,\n",
    "                                                 color=c,\n",
    "                                                 figsize=(10,5)\n",
    "                                                )\n",
    "y=contry_avg_score.sort_values(ascending=True)\n",
    "for i, v in enumerate(y):\n",
    "    plt.text(v - 8, i-0.15 , str(v)+'%', color='white', fontweight='bold')\n",
    "\n",
    "plt.xlabel(\"Hotel Score %\",fontsize=15, color=\"k\")\n",
    "plt.ylabel(\"Country\",fontsize=15, color=\"k\")\n",
    "plt.title(\"Top 10 Contries in Score AVG\", fontsize=18, color=\"k\", pad=20)\n",
    "plt.xticks( fontsize=13);"
   ]
  },
  {
   "cell_type": "markdown",
   "metadata": {},
   "source": [
    "### Answer 1\n",
    "\n",
    "**From above visualization we can conclude that:**\n",
    "\n",
    "   - The Top 10 countries with highest average hotel score are:\n",
    "       \n",
    "            - Canada         98 %\n",
    "            - Zambia         98 %\n",
    "            - Ecuador        87 %\n",
    "            - Brazil         84 %\n",
    "            - Chile          76 %\n",
    "            - Philippines    75 %\n",
    "            - Japan          74 %\n",
    "            - Singapore      72 %\n",
    "            - New Mexico     72 %\n",
    "            - Kenya          64 %"
   ]
  },
  {
   "cell_type": "markdown",
   "metadata": {},
   "source": [
    "### Research Question 2\n",
    "> #### Which Country has the most average sold nights? (top 10)"
   ]
  },
  {
   "cell_type": "code",
   "execution_count": 108,
   "metadata": {},
   "outputs": [
    {
     "data": {
      "text/plain": [
       "Country\n",
       "Philippines    469.000000\n",
       "Singapore      400.000000\n",
       "Japan          360.000000\n",
       "Thailand       235.250000\n",
       "India          165.416667\n",
       "Switzerland    157.000000\n",
       "China          120.500000\n",
       "England        117.750000\n",
       "Turkey         106.333333\n",
       "Mexico         104.428571\n",
       "Name: Night_Sold, dtype: float64"
      ]
     },
     "execution_count": 108,
     "metadata": {},
     "output_type": "execute_result"
    }
   ],
   "source": [
    "# Top 10 countries with highest average sold nights\n",
    "\n",
    "nights_sold_avg = hotels.groupby(\"Country\").Night_Sold.mean().sort_values(ascending=False).iloc[:10]\n",
    "\n",
    "nights_sold_avg"
   ]
  },
  {
   "cell_type": "code",
   "execution_count": 110,
   "metadata": {},
   "outputs": [
    {
     "data": {
      "image/png": "[encoded data removed]",
      "text/plain": [
       "<Figure size 720x360 with 1 Axes>"
      ]
     },
     "metadata": {},
     "output_type": "display_data"
    }
   ],
   "source": [
    "# Bar chart for Top 10 countries with highest average sold nights \n",
    "\n",
    "c = sns.color_palette(\"Blues\", 16)[6:]\n",
    "nights_sold_avg.sort_values(ascending=True).plot(kind=\"barh\",\n",
    "                                                 rot = 0,\n",
    "                                                 width = 0.7,\n",
    "                                                 alpha = 0.8,\n",
    "                                                 fontsize = 12,\n",
    "                                                 color=c,\n",
    "                                                 figsize=(10,5)\n",
    "                                                )\n",
    "\n",
    "y=nights_sold_avg.sort_values(ascending=True)\n",
    "y = [round(i) for i in y]\n",
    "for i, v in enumerate(y):\n",
    "    plt.text(v - 21, i-0.15 , str(v), color='white', fontweight='bold')\n",
    "\n",
    "plt.xlabel(\"Sold Nights AVG\",fontsize=15, color=\"k\")\n",
    "plt.ylabel(\"Country\",fontsize=15, color=\"k\")\n",
    "plt.title(\"Top 10 Contries in AVG Sold Nights\", fontsize=18, color=\"k\", pad=20)\n",
    "plt.xticks( fontsize=13);"
   ]
  },
  {
   "cell_type": "markdown",
   "metadata": {},
   "source": [
    "### Answer 2\n",
    "\n",
    "**From above visualization we can conclude that:**\n",
    "\n",
    "   - The  Top 10 countries with highest average sold nights are:\n",
    "\n",
    "            - Philippines    469\n",
    "            - Singapore      400\n",
    "            - Japan          360\n",
    "            - Thailand       235\n",
    "            - India          165\n",
    "            - Switzerland    157\n",
    "            - China          121\n",
    "            - England        118\n",
    "            - Turkey         106\n",
    "            - Mexico         104\n"
   ]
  },
  {
   "cell_type": "markdown",
   "metadata": {},
   "source": [
    "### Research Question 3\n",
    "> #### Which Country has the most total sold nights? (top 10)"
   ]
  },
  {
   "cell_type": "code",
   "execution_count": 85,
   "metadata": {},
   "outputs": [
    {
     "data": {
      "text/plain": [
       "Country\n",
       "India          1985\n",
       "Thailand        941\n",
       "France          749\n",
       "Mexico          731\n",
       "England         471\n",
       "Philippines     469\n",
       "USA             433\n",
       "Singapore       400\n",
       "Italy           369\n",
       "Japan           360\n",
       "Name: Night_Sold, dtype: int64"
      ]
     },
     "execution_count": 85,
     "metadata": {},
     "output_type": "execute_result"
    }
   ],
   "source": [
    "# Top 10 countries with highest total Night_Sold\n",
    "\n",
    "\n",
    "nights_sold_sum = hotels.groupby(\"Country\").Night_Sold.sum().sort_values(ascending=False).iloc[:10]\n",
    "\n",
    "nights_sold_sum"
   ]
  },
  {
   "cell_type": "code",
   "execution_count": 111,
   "metadata": {},
   "outputs": [
    {
     "data": {
      "image/png": "[encoded data removed]",
      "text/plain": [
       "<Figure size 720x360 with 1 Axes>"
      ]
     },
     "metadata": {},
     "output_type": "display_data"
    }
   ],
   "source": [
    "# Bar chart for Top 10 countries with highest total sold nights\n",
    "\n",
    "c=sns.light_palette(\"seagreen\",16)[6:]\n",
    "nights_sold_sum.sort_values(ascending=True).plot(kind=\"barh\",\n",
    "                                                 rot = 0,\n",
    "                                                 width = 0.7,\n",
    "                                                 alpha = 0.8,\n",
    "                                                 fontsize = 12,\n",
    "                                                 color=c,\n",
    "                                                 figsize=(10,5)\n",
    "                                                )\n",
    "y=nights_sold_sum.sort_values(ascending=True)\n",
    "for i, v in enumerate(y):\n",
    "    plt.text(v - 109, i-0.15 , str(v), color='white', fontweight='bold')\n",
    "\n",
    "plt.xlabel(\"Total Sold Nights\",fontsize=15, color=\"k\")\n",
    "plt.ylabel(\"Country\",fontsize=15, color=\"k\")\n",
    "plt.title(\"Top 10 Contries in Total Sold Nights\", fontsize=18, color=\"k\", pad=20)\n",
    "plt.xticks( fontsize=13);"
   ]
  },
  {
   "cell_type": "markdown",
   "metadata": {},
   "source": [
    "### Answer 3\n",
    "\n",
    "**From above visualization we can conclude that:**\n",
    "\n",
    "   - The  Top 10 countries with highest total sold nights are:\n",
    "\n",
    "            - India          1985\n",
    "            - Thailand        941\n",
    "            - France          749\n",
    "            - Mexico          731\n",
    "            - England         471\n",
    "            - Philippines     469\n",
    "            - USA             433\n",
    "            - Singapore       400\n",
    "            - Italy           369\n",
    "            - Japan           360\n"
   ]
  },
  {
   "cell_type": "markdown",
   "metadata": {},
   "source": [
    "### Research Question 4\n",
    "> #### Which Theme has the highest average hotel score?"
   ]
  },
  {
   "cell_type": "code",
   "execution_count": 112,
   "metadata": {},
   "outputs": [
    {
     "data": {
      "text/plain": [
       "Theme\n",
       "Contemporary     40.000000\n",
       "Nature           43.250000\n",
       "Palace           46.812500\n",
       "Coastal          51.814815\n",
       "Safari           52.545455\n",
       "Island           60.000000\n",
       "Name: Score, dtype: float64"
      ]
     },
     "execution_count": 112,
     "metadata": {},
     "output_type": "execute_result"
    }
   ],
   "source": [
    "# Top 10 Themes with highest avreage hotel score\n",
    "\n",
    "theme_avg_score = hotels.groupby(\"Theme\").Score.mean().sort_values(ascending=True)\n",
    "theme_avg_score"
   ]
  },
  {
   "cell_type": "code",
   "execution_count": 225,
   "metadata": {},
   "outputs": [
    {
     "data": {
      "image/png": "[encoded data removed]",
      "text/plain": [
       "<Figure size 648x360 with 1 Axes>"
      ]
     },
     "metadata": {},
     "output_type": "display_data"
    }
   ],
   "source": [
    "# Bar chart for Top 10 Themes with highest avreage hotel score\n",
    "\n",
    "\n",
    "c = sns.color_palette(\"Blues\", 9)[3:]\n",
    "theme_avg_score.sort_values(ascending=True).plot(kind=\"bar\",\n",
    "                                                 rot = 0,\n",
    "                                                 width = 0.6,\n",
    "                                                 alpha = 0.8,\n",
    "                                                 fontsize = 12,\n",
    "                                                 color=c,\n",
    "                                                 figsize=(9,5)\n",
    "                                                )\n",
    "y = theme_avg_score.sort_values(ascending=True)\n",
    "y = [round(i,2) for i in y]\n",
    "for i, v in enumerate(y):\n",
    "    plt.text( i ,v-4, str(v)+\"%\", color='white', fontweight='bold', ha='center' )\n",
    "    \n",
    "plt.ylabel(\"Hotel Score %\",fontsize=15, color=\"k\")\n",
    "plt.xlabel(\"Theme\",fontsize=15, color=\"k\")\n",
    "plt.title(\"AVG Hotel Score Per Theme\", fontsize=18, color=\"k\", pad=20)\n",
    "plt.xticks( fontsize=13);"
   ]
  },
  {
   "cell_type": "markdown",
   "metadata": {},
   "source": [
    "### Answer 4\n",
    "\n",
    "**From above visualization we can conclude that:**\n",
    "\n",
    "   - The average hotel score per theme:\n",
    "\n",
    "            - Island           60.00 %\n",
    "            - Safari           52.55 %\n",
    "            - Coastal          51.81 %\n",
    "            - Palace           46.81 %\n",
    "            - Nature           43.25 %\n",
    "            - Contemporary     40.00 %\n",
    "     "
   ]
  },
  {
   "cell_type": "markdown",
   "metadata": {},
   "source": [
    "### Research Question 5\n",
    "> #### Which Theme has the most average sold nights? "
   ]
  },
  {
   "cell_type": "code",
   "execution_count": 158,
   "metadata": {},
   "outputs": [
    {
     "data": {
      "text/plain": [
       "Theme\n",
       "Palace           172.625000\n",
       "Contemporary     157.444444\n",
       "Coastal           78.777778\n",
       "Island            71.428571\n",
       "Nature            56.750000\n",
       "Safari            13.363636\n",
       "Name: Night_Sold, dtype: float64"
      ]
     },
     "execution_count": 158,
     "metadata": {},
     "output_type": "execute_result"
    }
   ],
   "source": [
    "# highest Night_Sold on avreage per theme\n",
    "\n",
    "theme_nights_avg = hotels.groupby(\"Theme\").Night_Sold.mean().sort_values(ascending=False)\n",
    "\n",
    "theme_nights_avg"
   ]
  },
  {
   "cell_type": "code",
   "execution_count": 185,
   "metadata": {},
   "outputs": [
    {
     "data": {
      "image/png": "[encoded data removed]",
      "text/plain": [
       "<Figure size 720x360 with 1 Axes>"
      ]
     },
     "metadata": {},
     "output_type": "display_data"
    }
   ],
   "source": [
    "# Bar chart for highest Night_Sold on avreage per theme\n",
    "\n",
    "\n",
    "c = sns.cubehelix_palette(7)[1:]\n",
    "theme_nights_avg.sort_values(ascending=True).plot(kind=\"bar\",\n",
    "                                                 rot = 0,\n",
    "                                                 width = 0.7,\n",
    "                                                 alpha = 0.8,\n",
    "                                                 fontsize = 12,\n",
    "                                                 color=c,\n",
    "                                                 figsize=(10,5)\n",
    "                                                )\n",
    "y = theme_nights_avg.sort_values(ascending=True)\n",
    "y = [round(i) for i in y]\n",
    "for i, v in enumerate(y):\n",
    "    plt.text( i ,v-9, str(v), color='white', fontweight='bold', ha='center' )\n",
    "\n",
    "plt.ylabel(\"Sold Nights AVG\",fontsize=15, color=\"k\")\n",
    "plt.xlabel(\"Theme\",fontsize=15, color=\"k\")\n",
    "plt.title(\"AVG Sold Nights Per Themer\", fontsize=18, color=\"k\", pad=20)\n",
    "plt.xticks( fontsize=13);"
   ]
  },
  {
   "cell_type": "markdown",
   "metadata": {},
   "source": [
    "### Answer 5\n",
    "\n",
    "**From above visualization we can conclude that:**\n",
    "\n",
    "   - The average Sold nights per theme:\n",
    "\n",
    "            - Palace           173\n",
    "            - Contemporary     157\n",
    "            - Coastal           79\n",
    "            - Island            71\n",
    "            - Nature            57\n",
    "            - Safari            13\n"
   ]
  },
  {
   "cell_type": "markdown",
   "metadata": {},
   "source": [
    "### Research Question 6\n",
    "> #### Which Theme has the most total sold nights?"
   ]
  },
  {
   "cell_type": "code",
   "execution_count": 173,
   "metadata": {},
   "outputs": [
    {
     "data": {
      "text/plain": [
       "Theme\n",
       "Contemporary     2834\n",
       "Palace           2762\n",
       "Coastal          2127\n",
       "Nature           1135\n",
       "Island            500\n",
       "Safari            147\n",
       "Name: Night_Sold, dtype: int64"
      ]
     },
     "execution_count": 173,
     "metadata": {},
     "output_type": "execute_result"
    }
   ],
   "source": [
    "# highest total Night_Sold per theme\n",
    "\n",
    "\n",
    "theme_nights_sum = hotels.groupby(\"Theme\").Night_Sold.sum().sort_values(ascending=False)\n",
    "theme_nights_sum"
   ]
  },
  {
   "cell_type": "code",
   "execution_count": 184,
   "metadata": {},
   "outputs": [
    {
     "data": {
      "image/png": "[encoded data removed]",
      "text/plain": [
       "<Figure size 720x360 with 1 Axes>"
      ]
     },
     "metadata": {},
     "output_type": "display_data"
    }
   ],
   "source": [
    "# Bar chart for # highest total Night_Sold per theme\n",
    "\n",
    "\n",
    "c=sns.color_palette(\"YlOrBr\", 8)[2:]\n",
    "theme_nights_sum.sort_values(ascending=True).plot(kind=\"bar\",\n",
    "                                                 rot = 0,\n",
    "                                                 width = 0.7,\n",
    "                                                 alpha = 0.8,\n",
    "                                                 fontsize = 12,\n",
    "                                                 color=c,\n",
    "                                                 figsize=(10,5)\n",
    "                                                )\n",
    "\n",
    "y = theme_nights_sum.sort_values(ascending=True)\n",
    "for i, v in enumerate(y):\n",
    "    plt.text( i ,v-138, str(v), color='white', fontweight='bold', ha='center' )\n",
    "    \n",
    "    \n",
    "plt.ylabel(\"Total Sold Nights\",fontsize=15, color=\"k\")\n",
    "plt.xlabel(\"Theme\",fontsize=15, color=\"k\")\n",
    "plt.title(\"Total Sold Nights Per Theme\", fontsize=18, color=\"k\", pad=20)\n",
    "plt.xticks( fontsize=13);"
   ]
  },
  {
   "cell_type": "markdown",
   "metadata": {},
   "source": [
    "### Answer 6\n",
    "\n",
    "**From above visualization we can conclude that::**\n",
    "\n",
    "   - The total sold nights per themes:\n",
    "\n",
    "            - Contemporary     2834\n",
    "            - Palace           2762\n",
    "            - Coastal          2127\n",
    "            - Nature           1135\n",
    "            - Island            500\n",
    "            - Safari            147\n"
   ]
  },
  {
   "cell_type": "markdown",
   "metadata": {},
   "source": [
    "### Research Question 7\n",
    "> #### Is there any correlation between hotel score and sold nights?"
   ]
  },
  {
   "cell_type": "code",
   "execution_count": 194,
   "metadata": {},
   "outputs": [
    {
     "data": {
      "text/html": [
       "<div>\n",
       "<style scoped>\n",
       "    .dataframe tbody tr th:only-of-type {\n",
       "        vertical-align: middle;\n",
       "    }\n",
       "\n",
       "    .dataframe tbody tr th {\n",
       "        vertical-align: top;\n",
       "    }\n",
       "\n",
       "    .dataframe thead th {\n",
       "        text-align: right;\n",
       "    }\n",
       "</style>\n",
       "<table border=\"1\" class=\"dataframe\">\n",
       "  <thead>\n",
       "    <tr style=\"text-align: right;\">\n",
       "      <th></th>\n",
       "      <th>Hotel_ID</th>\n",
       "      <th>Night_Sold</th>\n",
       "      <th>Score</th>\n",
       "    </tr>\n",
       "  </thead>\n",
       "  <tbody>\n",
       "    <tr>\n",
       "      <th>Hotel_ID</th>\n",
       "      <td>1.000000</td>\n",
       "      <td>0.045509</td>\n",
       "      <td>-0.018765</td>\n",
       "    </tr>\n",
       "    <tr>\n",
       "      <th>Night_Sold</th>\n",
       "      <td>0.045509</td>\n",
       "      <td>1.000000</td>\n",
       "      <td>-0.036645</td>\n",
       "    </tr>\n",
       "    <tr>\n",
       "      <th>Score</th>\n",
       "      <td>-0.018765</td>\n",
       "      <td>-0.036645</td>\n",
       "      <td>1.000000</td>\n",
       "    </tr>\n",
       "  </tbody>\n",
       "</table>\n",
       "</div>"
      ],
      "text/plain": [
       "            Hotel_ID  Night_Sold     Score\n",
       "Hotel_ID    1.000000    0.045509 -0.018765\n",
       "Night_Sold  0.045509    1.000000 -0.036645\n",
       "Score      -0.018765   -0.036645  1.000000"
      ]
     },
     "execution_count": 194,
     "metadata": {},
     "output_type": "execute_result"
    }
   ],
   "source": [
    "# Check correlation \n",
    "\n",
    "hotels.corr()"
   ]
  },
  {
   "cell_type": "code",
   "execution_count": 195,
   "metadata": {},
   "outputs": [
    {
     "data": {
      "image/png": "[encoded data removed]",
      "text/plain": [
       "<Figure size 640x400 with 1 Axes>"
      ]
     },
     "metadata": {},
     "output_type": "display_data"
    }
   ],
   "source": [
    "#Scatter Plot for Hotel Score vs Sold Nights \n",
    "\n",
    "plt.figure(figsize=(8, 5), dpi=80)\n",
    "sns.regplot(data=hotels, x='Night_Sold' , y=\"Score\", color=\"orchid\")\n",
    "plt.xlabel(\"Sold Nights\",fontsize=15, color=\"k\")\n",
    "plt.ylabel(\"Hotel Score\",fontsize=15, color=\"k\")\n",
    "plt.title(\"Hotel Score vs Sold Nights Correlation\", fontsize=18, color=\"k\", pad=20)\n",
    "plt.xticks( fontsize=13);"
   ]
  },
  {
   "cell_type": "markdown",
   "metadata": {},
   "source": [
    "### Answer 7\n",
    "\n",
    "**From above visualization we can conclude that:**\n",
    "\n",
    "   - There is no Correlation between Hotel Score and Hotel Sold Nights."
   ]
  },
  {
   "cell_type": "markdown",
   "metadata": {},
   "source": [
    "<a id='conclusions'></a>\n",
    "## Conclusions\n",
    "\n",
    "> **1. Canada, Zambia and Ecuador are the top 3 countries with highest average hotel score.**\n",
    "\n",
    "       - Canada      98%\n",
    "       - Zambia      98%\n",
    "       - Ecuador     87%\n",
    "       - Brazil      84%\n",
    "       - Chile       76%\n",
    "       - Philippines 75%\n",
    "       - Japan       74%\n",
    "       - Singapore   72%\n",
    "       - New Mexico  72%\n",
    "       - Kenya       64%\n",
    "\n",
    "\n",
    "> **2. Island and Safari are the top Themes with highest average hotel score.**\n",
    "\n",
    "\n",
    "        - Island           60.00%\n",
    "        - Safari           52.55%\n",
    "        - Coastal          51.81%\n",
    "        - Palace           46.81%\n",
    "        - Nature           43.25%\n",
    "        - Contemporary     40.00%\n",
    "        \n",
    "\n",
    "> **3. Philippines, Singapore and Japan are the top 3 countries with with highest average sold nights.**\n",
    "\n",
    "\n",
    "       - Philippines    469 Nights\n",
    "       - Singapore      400\n",
    "       - Japan          360\n",
    "       - Thailand       235\n",
    "       - India          165\n",
    "       - Switzerland    157\n",
    "       - China          121\n",
    "       - England        118\n",
    "       - Turkey         106\n",
    "       - Mexico         104\n",
    "\n",
    "> **4. Palace and Contemporary are the top Themes with highest average Sold nights.**\n",
    "\n",
    "\n",
    "       - Palace            173 Nights\n",
    "       - Contemporary      157\n",
    "       - Coastal           79\n",
    "       - Island            71\n",
    "       - Nature            57\n",
    "       - Safari            13\n",
    "\n",
    "       \n",
    "> **5. India, Thailand and France are the top 3 countries with with highest total sold nights.**\n",
    "\n",
    "\n",
    "       - India           1985 Nights\n",
    "       - Thailand        941\n",
    "       - France          749\n",
    "       - Mexico          731\n",
    "       - England         471\n",
    "       - Philippines     469\n",
    "       - USA             433\n",
    "       - Singapore       400\n",
    "       - Italy           369\n",
    "       - Japan           360\n",
    "\n",
    "\n",
    "\n",
    "       \n",
    "> **6. Contemporary and Palace are the top Themes with highest total sold nights.**\n",
    "\n",
    "\n",
    "       - Contemporary     2834 Nights\n",
    "       - Palace           2762\n",
    "       - Coastal          2127\n",
    "       - Nature           1135\n",
    "       - Island            500\n",
    "       - Safari            147\n",
    "       \n",
    "\n",
    "> **7. There is no Correlation between Hotel Score and Hotel Sold Nights.**\n"
   ]
  }
 ],
 "metadata": {
  "kernelspec": {
   "display_name": "Python 3 (ipykernel)",
   "language": "python",
   "name": "python3"
  },
  "language_info": {
   "codemirror_mode": {
    "name": "ipython",
    "version": 3
   },
   "file_extension": ".py",
   "mimetype": "text/x-python",
   "name": "python",
   "nbconvert_exporter": "python",
   "pygments_lexer": "ipython3",
   "version": "3.9.7"
  }
 },
 "nbformat": 4,
 "nbformat_minor": 2
}
