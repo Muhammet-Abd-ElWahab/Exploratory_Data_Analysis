{
 "cells": [
  {
   "cell_type": "markdown",
   "metadata": {},
   "source": [
    "# Project: TMDB 5000 Movie Dataset Investegate\n",
    "\n",
    "## Table of Contents\n",
    "<ul>\n",
    "<li><a href=\"#intro\">Introduction</a></li>\n",
    "<li><a href=\"#wrangling\">Data Wrangling</a></li>\n",
    "<li><a href=\"#eda\">Exploratory Data Analysis</a></li>\n",
    "<li><a href=\"#conclusions\">Conclusions</a></li>\n",
    "</ul>"
   ]
  },
  {
   "cell_type": "markdown",
   "metadata": {},
   "source": [
    "<a id='intro'></a>\n",
    "## Introduction\n",
    "\n",
    "\n",
    "> **Descriptions:** This data set contains information about 10,000 movies collected from The Movie Database (TMDb), including user ratings and revenue.\n",
    "\n",
    "\n",
    " **columns descriptions:**\n",
    "\n",
    "- **id**: the unique identifier for each movie.\n",
    "- **imdb_id**: the unique identifier for each movie on IMDB website.\n",
    "- **popularity**:popularity for each movie.\n",
    "- **budget**: Movie budget.\n",
    "- **revenue**: Movie revenue.\n",
    "- **original_title**: Movie Title.\n",
    "- **cast**: Movie cast.\n",
    "- **homepage**: Movie webpage link.\n",
    "- **director**: Movie director.\n",
    "- **tagline**: Movie tagline.\n",
    "- **keywords**:Movie keywords.\n",
    "- **overview**: Movie overview.\n",
    "- **runtime**: Movie run times.\n",
    "- **genres**: Movie genres.\n",
    "- **production_companies**: Movie production \n",
    "- **release_date**: Movie release date (month/day/year). \n",
    "- **vote_count**: Movie vote count.\n",
    "- **vote_average**: Movie vote average.\n",
    "- **release_year**:Movie release year.\n",
    "- **budget_adj**: Movie budget of the associated movie in terms of 2010 dollars, accounting for inflation over time.\n",
    "- **revenue_adj**: Movie revenue of the associated movie in terms of 2010 dollars, accounting for inflation over time."
   ]
  },
  {
   "cell_type": "markdown",
   "metadata": {},
   "source": [
    "\n",
    "## **Questions:**\n",
    "\n",
    "* 1 - What's the most popular movies? (top 10)\n",
    "* 2 - What's the top rated movies considering both (vote_count) and (vote average)? (top 10)\n",
    "* 3 - Which movies have the highest runtime? (top 10)\n",
    "* 4 - Which year and which Month released highest number of movies?\n",
    "* 5 - Which genre has the highest movies release?\n",
    "* 6 - Which movie has the highest budget?\n",
    "* 7 - Which movie made the highest revenue?\n",
    "* 8 - Which movie made the highest profit?\n",
    "* 9 - which production company made highest profit and which one has the highest budget?\n",
    "* 10 - Is there a correlation between budget and profit?\n",
    "* 11 - Is there a correlation between popularity and profit?\n",
    "* 12 - Is there a correlation between runtime and profit?\n",
    "* 13 - Is there a correlation between vote_count and popularity?\n",
    "* 14 - Is there a correlation between vote_count and profit?"
   ]
  },
  {
   "cell_type": "markdown",
   "metadata": {},
   "source": [
    "### importing libraries that will be used to investigate Dataset"
   ]
  },
  {
   "cell_type": "code",
   "execution_count": 1,
   "metadata": {},
   "outputs": [],
   "source": [
    "import pandas as pd \n",
    "import numpy as np\n",
    "import matplotlib.pyplot as plt\n",
    "%matplotlib inline\n",
    "import seaborn as sns\n",
    "import datetime\n",
    "import time\n",
    "sns.set_style(\"darkgrid\")"
   ]
  },
  {
   "cell_type": "markdown",
   "metadata": {},
   "source": [
    "<a id='wrangling'></a>\n",
    "## Data Wrangling\n",
    "\n",
    " **This is a three step process:**\n",
    "\n",
    "*  Gathering the data from Dataset and investegate it trying to understand more details about it. \n",
    "\n",
    "\n",
    "*  Assessing data to identify any issues with data types, structure, or quality.\n",
    "\n",
    "\n",
    "*  Cleaning data by changing data types, replacing values, removing unnecessary data and modifying Dataset for easy and fast analysis.\n"
   ]
  },
  {
   "cell_type": "markdown",
   "metadata": {},
   "source": [
    "### Gathering Data"
   ]
  },
  {
   "cell_type": "code",
   "execution_count": 2,
   "metadata": {},
   "outputs": [],
   "source": [
    "# loading CSV files into Dataframe  //movies//\n",
    "\n",
    "movies = pd.read_csv(\"tmdb-movies.csv\")"
   ]
  },
  {
   "cell_type": "code",
   "execution_count": 3,
   "metadata": {},
   "outputs": [
    {
     "data": {
      "text/html": [
       "<div>\n",
       "<style scoped>\n",
       "    .dataframe tbody tr th:only-of-type {\n",
       "        vertical-align: middle;\n",
       "    }\n",
       "\n",
       "    .dataframe tbody tr th {\n",
       "        vertical-align: top;\n",
       "    }\n",
       "\n",
       "    .dataframe thead th {\n",
       "        text-align: right;\n",
       "    }\n",
       "</style>\n",
       "<table border=\"1\" class=\"dataframe\">\n",
       "  <thead>\n",
       "    <tr style=\"text-align: right;\">\n",
       "      <th></th>\n",
       "      <th>id</th>\n",
       "      <th>imdb_id</th>\n",
       "      <th>popularity</th>\n",
       "      <th>budget</th>\n",
       "      <th>revenue</th>\n",
       "      <th>original_title</th>\n",
       "      <th>cast</th>\n",
       "      <th>homepage</th>\n",
       "      <th>director</th>\n",
       "      <th>tagline</th>\n",
       "      <th>...</th>\n",
       "      <th>overview</th>\n",
       "      <th>runtime</th>\n",
       "      <th>genres</th>\n",
       "      <th>production_companies</th>\n",
       "      <th>release_date</th>\n",
       "      <th>vote_count</th>\n",
       "      <th>vote_average</th>\n",
       "      <th>release_year</th>\n",
       "      <th>budget_adj</th>\n",
       "      <th>revenue_adj</th>\n",
       "    </tr>\n",
       "  </thead>\n",
       "  <tbody>\n",
       "    <tr>\n",
       "      <th>4125</th>\n",
       "      <td>21868</td>\n",
       "      <td>tt0298856</td>\n",
       "      <td>0.206832</td>\n",
       "      <td>0</td>\n",
       "      <td>0</td>\n",
       "      <td>Evelyn</td>\n",
       "      <td>Pierce Brosnan|Sophie Vavasseur|Aidan Quinn|Ju...</td>\n",
       "      <td>NaN</td>\n",
       "      <td>Bruce Beresford</td>\n",
       "      <td>NaN</td>\n",
       "      <td>...</td>\n",
       "      <td>Desmond Doyle is devastated when his wife aban...</td>\n",
       "      <td>92</td>\n",
       "      <td>Drama|Foreign</td>\n",
       "      <td>CineEvelyn</td>\n",
       "      <td>12/13/02</td>\n",
       "      <td>15</td>\n",
       "      <td>6.9</td>\n",
       "      <td>2002</td>\n",
       "      <td>0.0</td>\n",
       "      <td>0.0</td>\n",
       "    </tr>\n",
       "    <tr>\n",
       "      <th>6657</th>\n",
       "      <td>19595</td>\n",
       "      <td>tt0820142</td>\n",
       "      <td>0.720101</td>\n",
       "      <td>0</td>\n",
       "      <td>0</td>\n",
       "      <td>Shark Bait</td>\n",
       "      <td>Freddie Prinze Jr.|Rob Schneider|Evan Rachel W...</td>\n",
       "      <td>NaN</td>\n",
       "      <td>Howard E. Baker|John Fox|Kyungho Lee</td>\n",
       "      <td>NaN</td>\n",
       "      <td>...</td>\n",
       "      <td>After losing everything, a young fish, Pi, goe...</td>\n",
       "      <td>77</td>\n",
       "      <td>Animation|Family</td>\n",
       "      <td>Silver Nitrate Films|Wonderworld Studios|Digi ...</td>\n",
       "      <td>7/7/06</td>\n",
       "      <td>25</td>\n",
       "      <td>4.9</td>\n",
       "      <td>2006</td>\n",
       "      <td>0.0</td>\n",
       "      <td>0.0</td>\n",
       "    </tr>\n",
       "    <tr>\n",
       "      <th>9819</th>\n",
       "      <td>27361</td>\n",
       "      <td>tt0072709</td>\n",
       "      <td>0.451933</td>\n",
       "      <td>0</td>\n",
       "      <td>0</td>\n",
       "      <td>Black Moon</td>\n",
       "      <td>Cathryn Harrison| Therese Giehse|Alexandra Ste...</td>\n",
       "      <td>NaN</td>\n",
       "      <td>Louis Malle</td>\n",
       "      <td>An apocalyptic Alice in Wonderland!</td>\n",
       "      <td>...</td>\n",
       "      <td>There is a war in the world between the men an...</td>\n",
       "      <td>100</td>\n",
       "      <td>Fantasy|Science Fiction</td>\n",
       "      <td>Bioskop-Film GmbH|Nouvelles Ã‰ditions de Films...</td>\n",
       "      <td>9/24/75</td>\n",
       "      <td>16</td>\n",
       "      <td>6.4</td>\n",
       "      <td>1975</td>\n",
       "      <td>0.0</td>\n",
       "      <td>0.0</td>\n",
       "    </tr>\n",
       "    <tr>\n",
       "      <th>10166</th>\n",
       "      <td>21240</td>\n",
       "      <td>tt0053699</td>\n",
       "      <td>0.136525</td>\n",
       "      <td>0</td>\n",
       "      <td>0</td>\n",
       "      <td>Carry On Constable</td>\n",
       "      <td>Kenneth Connor|Charles Hawtrey|Sid James|Kenne...</td>\n",
       "      <td>NaN</td>\n",
       "      <td>Gerald Thomas</td>\n",
       "      <td>Oh! What a Carry On When that Crazy Bunch Join...</td>\n",
       "      <td>...</td>\n",
       "      <td>With a flu epidemic running rife, three new bu...</td>\n",
       "      <td>86</td>\n",
       "      <td>Comedy</td>\n",
       "      <td>Peter Rogers Productions</td>\n",
       "      <td>2/22/60</td>\n",
       "      <td>10</td>\n",
       "      <td>6.0</td>\n",
       "      <td>1960</td>\n",
       "      <td>0.0</td>\n",
       "      <td>0.0</td>\n",
       "    </tr>\n",
       "    <tr>\n",
       "      <th>480</th>\n",
       "      <td>353610</td>\n",
       "      <td>tt4151192</td>\n",
       "      <td>0.270408</td>\n",
       "      <td>0</td>\n",
       "      <td>0</td>\n",
       "      <td>The Condemned 2</td>\n",
       "      <td>Wes Studi|Steven Michael Quezada|Monique Cande...</td>\n",
       "      <td>NaN</td>\n",
       "      <td>Roel ReinÃ©</td>\n",
       "      <td>The world's deadliest game is back online</td>\n",
       "      <td>...</td>\n",
       "      <td>A former bounty hunter who finds himself on th...</td>\n",
       "      <td>90</td>\n",
       "      <td>Action</td>\n",
       "      <td>WWE Studios</td>\n",
       "      <td>11/6/15</td>\n",
       "      <td>13</td>\n",
       "      <td>4.0</td>\n",
       "      <td>2015</td>\n",
       "      <td>0.0</td>\n",
       "      <td>0.0</td>\n",
       "    </tr>\n",
       "  </tbody>\n",
       "</table>\n",
       "<p>5 rows × 21 columns</p>\n",
       "</div>"
      ],
      "text/plain": [
       "           id    imdb_id  popularity  budget  revenue      original_title  \\\n",
       "4125    21868  tt0298856    0.206832       0        0              Evelyn   \n",
       "6657    19595  tt0820142    0.720101       0        0          Shark Bait   \n",
       "9819    27361  tt0072709    0.451933       0        0          Black Moon   \n",
       "10166   21240  tt0053699    0.136525       0        0  Carry On Constable   \n",
       "480    353610  tt4151192    0.270408       0        0     The Condemned 2   \n",
       "\n",
       "                                                    cast homepage  \\\n",
       "4125   Pierce Brosnan|Sophie Vavasseur|Aidan Quinn|Ju...      NaN   \n",
       "6657   Freddie Prinze Jr.|Rob Schneider|Evan Rachel W...      NaN   \n",
       "9819   Cathryn Harrison| Therese Giehse|Alexandra Ste...      NaN   \n",
       "10166  Kenneth Connor|Charles Hawtrey|Sid James|Kenne...      NaN   \n",
       "480    Wes Studi|Steven Michael Quezada|Monique Cande...      NaN   \n",
       "\n",
       "                                   director  \\\n",
       "4125                        Bruce Beresford   \n",
       "6657   Howard E. Baker|John Fox|Kyungho Lee   \n",
       "9819                            Louis Malle   \n",
       "10166                         Gerald Thomas   \n",
       "480                             Roel ReinÃ©   \n",
       "\n",
       "                                                 tagline  ...  \\\n",
       "4125                                                 NaN  ...   \n",
       "6657                                                 NaN  ...   \n",
       "9819                 An apocalyptic Alice in Wonderland!  ...   \n",
       "10166  Oh! What a Carry On When that Crazy Bunch Join...  ...   \n",
       "480            The world's deadliest game is back online  ...   \n",
       "\n",
       "                                                overview runtime  \\\n",
       "4125   Desmond Doyle is devastated when his wife aban...      92   \n",
       "6657   After losing everything, a young fish, Pi, goe...      77   \n",
       "9819   There is a war in the world between the men an...     100   \n",
       "10166  With a flu epidemic running rife, three new bu...      86   \n",
       "480    A former bounty hunter who finds himself on th...      90   \n",
       "\n",
       "                        genres  \\\n",
       "4125             Drama|Foreign   \n",
       "6657          Animation|Family   \n",
       "9819   Fantasy|Science Fiction   \n",
       "10166                   Comedy   \n",
       "480                     Action   \n",
       "\n",
       "                                    production_companies release_date  \\\n",
       "4125                                          CineEvelyn     12/13/02   \n",
       "6657   Silver Nitrate Films|Wonderworld Studios|Digi ...       7/7/06   \n",
       "9819   Bioskop-Film GmbH|Nouvelles Ã‰ditions de Films...      9/24/75   \n",
       "10166                           Peter Rogers Productions      2/22/60   \n",
       "480                                          WWE Studios      11/6/15   \n",
       "\n",
       "      vote_count  vote_average  release_year  budget_adj  revenue_adj  \n",
       "4125          15           6.9          2002         0.0          0.0  \n",
       "6657          25           4.9          2006         0.0          0.0  \n",
       "9819          16           6.4          1975         0.0          0.0  \n",
       "10166         10           6.0          1960         0.0          0.0  \n",
       "480           13           4.0          2015         0.0          0.0  \n",
       "\n",
       "[5 rows x 21 columns]"
      ]
     },
     "execution_count": 3,
     "metadata": {},
     "output_type": "execute_result"
    }
   ],
   "source": [
    "#checking 5 rows sample from Dataframe\n",
    "\n",
    "movies.sample(5)"
   ]
  },
  {
   "cell_type": "markdown",
   "metadata": {},
   "source": [
    "### Assessing Data"
   ]
  },
  {
   "cell_type": "code",
   "execution_count": 4,
   "metadata": {},
   "outputs": [
    {
     "name": "stdout",
     "output_type": "stream",
     "text": [
      "<class 'pandas.core.frame.DataFrame'>\n",
      "RangeIndex: 10866 entries, 0 to 10865\n",
      "Data columns (total 21 columns):\n",
      " #   Column                Non-Null Count  Dtype  \n",
      "---  ------                --------------  -----  \n",
      " 0   id                    10866 non-null  int64  \n",
      " 1   imdb_id               10856 non-null  object \n",
      " 2   popularity            10866 non-null  float64\n",
      " 3   budget                10866 non-null  int64  \n",
      " 4   revenue               10866 non-null  int64  \n",
      " 5   original_title        10866 non-null  object \n",
      " 6   cast                  10790 non-null  object \n",
      " 7   homepage              2936 non-null   object \n",
      " 8   director              10822 non-null  object \n",
      " 9   tagline               8042 non-null   object \n",
      " 10  keywords              9373 non-null   object \n",
      " 11  overview              10862 non-null  object \n",
      " 12  runtime               10866 non-null  int64  \n",
      " 13  genres                10843 non-null  object \n",
      " 14  production_companies  9836 non-null   object \n",
      " 15  release_date          10866 non-null  object \n",
      " 16  vote_count            10866 non-null  int64  \n",
      " 17  vote_average          10866 non-null  float64\n",
      " 18  release_year          10866 non-null  int64  \n",
      " 19  budget_adj            10866 non-null  float64\n",
      " 20  revenue_adj           10866 non-null  float64\n",
      "dtypes: float64(4), int64(6), object(11)\n",
      "memory usage: 1.7+ MB\n"
     ]
    }
   ],
   "source": [
    "#checking Dataframe basic informations (columns names, number of values, data types ......)\n",
    "\n",
    "movies.info()"
   ]
  },
  {
   "cell_type": "code",
   "execution_count": 5,
   "metadata": {},
   "outputs": [
    {
     "data": {
      "text/plain": [
       "(10866, 21)"
      ]
     },
     "execution_count": 5,
     "metadata": {},
     "output_type": "execute_result"
    }
   ],
   "source": [
    "#checking Dataframe shape (number of rows and columns)\n",
    "\n",
    "movies.shape"
   ]
  },
  {
   "cell_type": "code",
   "execution_count": 6,
   "metadata": {},
   "outputs": [
    {
     "data": {
      "text/html": [
       "<div>\n",
       "<style scoped>\n",
       "    .dataframe tbody tr th:only-of-type {\n",
       "        vertical-align: middle;\n",
       "    }\n",
       "\n",
       "    .dataframe tbody tr th {\n",
       "        vertical-align: top;\n",
       "    }\n",
       "\n",
       "    .dataframe thead th {\n",
       "        text-align: right;\n",
       "    }\n",
       "</style>\n",
       "<table border=\"1\" class=\"dataframe\">\n",
       "  <thead>\n",
       "    <tr style=\"text-align: right;\">\n",
       "      <th></th>\n",
       "      <th>id</th>\n",
       "      <th>popularity</th>\n",
       "      <th>budget</th>\n",
       "      <th>revenue</th>\n",
       "      <th>runtime</th>\n",
       "      <th>vote_count</th>\n",
       "      <th>vote_average</th>\n",
       "      <th>release_year</th>\n",
       "      <th>budget_adj</th>\n",
       "      <th>revenue_adj</th>\n",
       "    </tr>\n",
       "  </thead>\n",
       "  <tbody>\n",
       "    <tr>\n",
       "      <th>count</th>\n",
       "      <td>10866.0</td>\n",
       "      <td>10866.0</td>\n",
       "      <td>10866.0</td>\n",
       "      <td>1.086600e+04</td>\n",
       "      <td>10866.0</td>\n",
       "      <td>10866.0</td>\n",
       "      <td>10866.0</td>\n",
       "      <td>10866.0</td>\n",
       "      <td>10866.0</td>\n",
       "      <td>1.086600e+04</td>\n",
       "    </tr>\n",
       "    <tr>\n",
       "      <th>mean</th>\n",
       "      <td>66064.0</td>\n",
       "      <td>1.0</td>\n",
       "      <td>14625701.0</td>\n",
       "      <td>3.982332e+07</td>\n",
       "      <td>102.0</td>\n",
       "      <td>217.0</td>\n",
       "      <td>6.0</td>\n",
       "      <td>2001.0</td>\n",
       "      <td>17551040.0</td>\n",
       "      <td>5.136436e+07</td>\n",
       "    </tr>\n",
       "    <tr>\n",
       "      <th>std</th>\n",
       "      <td>92130.0</td>\n",
       "      <td>1.0</td>\n",
       "      <td>30913214.0</td>\n",
       "      <td>1.170035e+08</td>\n",
       "      <td>31.0</td>\n",
       "      <td>576.0</td>\n",
       "      <td>1.0</td>\n",
       "      <td>13.0</td>\n",
       "      <td>34306156.0</td>\n",
       "      <td>1.446325e+08</td>\n",
       "    </tr>\n",
       "    <tr>\n",
       "      <th>min</th>\n",
       "      <td>5.0</td>\n",
       "      <td>0.0</td>\n",
       "      <td>0.0</td>\n",
       "      <td>0.000000e+00</td>\n",
       "      <td>0.0</td>\n",
       "      <td>10.0</td>\n",
       "      <td>2.0</td>\n",
       "      <td>1960.0</td>\n",
       "      <td>0.0</td>\n",
       "      <td>0.000000e+00</td>\n",
       "    </tr>\n",
       "    <tr>\n",
       "      <th>25%</th>\n",
       "      <td>10596.0</td>\n",
       "      <td>0.0</td>\n",
       "      <td>0.0</td>\n",
       "      <td>0.000000e+00</td>\n",
       "      <td>90.0</td>\n",
       "      <td>17.0</td>\n",
       "      <td>5.0</td>\n",
       "      <td>1995.0</td>\n",
       "      <td>0.0</td>\n",
       "      <td>0.000000e+00</td>\n",
       "    </tr>\n",
       "    <tr>\n",
       "      <th>50%</th>\n",
       "      <td>20669.0</td>\n",
       "      <td>0.0</td>\n",
       "      <td>0.0</td>\n",
       "      <td>0.000000e+00</td>\n",
       "      <td>99.0</td>\n",
       "      <td>38.0</td>\n",
       "      <td>6.0</td>\n",
       "      <td>2006.0</td>\n",
       "      <td>0.0</td>\n",
       "      <td>0.000000e+00</td>\n",
       "    </tr>\n",
       "    <tr>\n",
       "      <th>75%</th>\n",
       "      <td>75610.0</td>\n",
       "      <td>1.0</td>\n",
       "      <td>15000000.0</td>\n",
       "      <td>2.400000e+07</td>\n",
       "      <td>111.0</td>\n",
       "      <td>146.0</td>\n",
       "      <td>7.0</td>\n",
       "      <td>2011.0</td>\n",
       "      <td>20853251.0</td>\n",
       "      <td>3.369710e+07</td>\n",
       "    </tr>\n",
       "    <tr>\n",
       "      <th>max</th>\n",
       "      <td>417859.0</td>\n",
       "      <td>33.0</td>\n",
       "      <td>425000000.0</td>\n",
       "      <td>2.781506e+09</td>\n",
       "      <td>900.0</td>\n",
       "      <td>9767.0</td>\n",
       "      <td>9.0</td>\n",
       "      <td>2015.0</td>\n",
       "      <td>425000000.0</td>\n",
       "      <td>2.827124e+09</td>\n",
       "    </tr>\n",
       "  </tbody>\n",
       "</table>\n",
       "</div>"
      ],
      "text/plain": [
       "             id  popularity       budget       revenue  runtime  vote_count  \\\n",
       "count   10866.0     10866.0      10866.0  1.086600e+04  10866.0     10866.0   \n",
       "mean    66064.0         1.0   14625701.0  3.982332e+07    102.0       217.0   \n",
       "std     92130.0         1.0   30913214.0  1.170035e+08     31.0       576.0   \n",
       "min         5.0         0.0          0.0  0.000000e+00      0.0        10.0   \n",
       "25%     10596.0         0.0          0.0  0.000000e+00     90.0        17.0   \n",
       "50%     20669.0         0.0          0.0  0.000000e+00     99.0        38.0   \n",
       "75%     75610.0         1.0   15000000.0  2.400000e+07    111.0       146.0   \n",
       "max    417859.0        33.0  425000000.0  2.781506e+09    900.0      9767.0   \n",
       "\n",
       "       vote_average  release_year   budget_adj   revenue_adj  \n",
       "count       10866.0       10866.0      10866.0  1.086600e+04  \n",
       "mean            6.0        2001.0   17551040.0  5.136436e+07  \n",
       "std             1.0          13.0   34306156.0  1.446325e+08  \n",
       "min             2.0        1960.0          0.0  0.000000e+00  \n",
       "25%             5.0        1995.0          0.0  0.000000e+00  \n",
       "50%             6.0        2006.0          0.0  0.000000e+00  \n",
       "75%             7.0        2011.0   20853251.0  3.369710e+07  \n",
       "max             9.0        2015.0  425000000.0  2.827124e+09  "
      ]
     },
     "execution_count": 6,
     "metadata": {},
     "output_type": "execute_result"
    }
   ],
   "source": [
    "#checking more information and descriptive statistics\n",
    "\n",
    "movies.describe().round()"
   ]
  },
  {
   "cell_type": "code",
   "execution_count": 7,
   "metadata": {
    "scrolled": false
   },
   "outputs": [
    {
     "data": {
      "text/plain": [
       "id                         0\n",
       "imdb_id                   10\n",
       "popularity                 0\n",
       "budget                     0\n",
       "revenue                    0\n",
       "original_title             0\n",
       "cast                      76\n",
       "homepage                7930\n",
       "director                  44\n",
       "tagline                 2824\n",
       "keywords                1493\n",
       "overview                   4\n",
       "runtime                    0\n",
       "genres                    23\n",
       "production_companies    1030\n",
       "release_date               0\n",
       "vote_count                 0\n",
       "vote_average               0\n",
       "release_year               0\n",
       "budget_adj                 0\n",
       "revenue_adj                0\n",
       "dtype: int64"
      ]
     },
     "execution_count": 7,
     "metadata": {},
     "output_type": "execute_result"
    }
   ],
   "source": [
    "# checking for NaN values patients\n",
    "\n",
    "movies.isnull().sum()"
   ]
  },
  {
   "cell_type": "code",
   "execution_count": 8,
   "metadata": {},
   "outputs": [
    {
     "data": {
      "text/html": [
       "<div>\n",
       "<style scoped>\n",
       "    .dataframe tbody tr th:only-of-type {\n",
       "        vertical-align: middle;\n",
       "    }\n",
       "\n",
       "    .dataframe tbody tr th {\n",
       "        vertical-align: top;\n",
       "    }\n",
       "\n",
       "    .dataframe thead th {\n",
       "        text-align: right;\n",
       "    }\n",
       "</style>\n",
       "<table border=\"1\" class=\"dataframe\">\n",
       "  <thead>\n",
       "    <tr style=\"text-align: right;\">\n",
       "      <th></th>\n",
       "      <th>id</th>\n",
       "      <th>imdb_id</th>\n",
       "      <th>popularity</th>\n",
       "      <th>budget</th>\n",
       "      <th>revenue</th>\n",
       "      <th>original_title</th>\n",
       "      <th>cast</th>\n",
       "      <th>homepage</th>\n",
       "      <th>director</th>\n",
       "      <th>tagline</th>\n",
       "      <th>...</th>\n",
       "      <th>overview</th>\n",
       "      <th>runtime</th>\n",
       "      <th>genres</th>\n",
       "      <th>production_companies</th>\n",
       "      <th>release_date</th>\n",
       "      <th>vote_count</th>\n",
       "      <th>vote_average</th>\n",
       "      <th>release_year</th>\n",
       "      <th>budget_adj</th>\n",
       "      <th>revenue_adj</th>\n",
       "    </tr>\n",
       "  </thead>\n",
       "  <tbody>\n",
       "    <tr>\n",
       "      <th>2090</th>\n",
       "      <td>42194</td>\n",
       "      <td>tt0411951</td>\n",
       "      <td>0.59643</td>\n",
       "      <td>30000000</td>\n",
       "      <td>967000</td>\n",
       "      <td>TEKKEN</td>\n",
       "      <td>Jon Foo|Kelly Overton|Cary-Hiroyuki Tagawa|Ian...</td>\n",
       "      <td>NaN</td>\n",
       "      <td>Dwight H. Little</td>\n",
       "      <td>Survival is no game</td>\n",
       "      <td>...</td>\n",
       "      <td>In the year of 2039, after World Wars destroy ...</td>\n",
       "      <td>92</td>\n",
       "      <td>Crime|Drama|Action|Thriller|Science Fiction</td>\n",
       "      <td>Namco|Light Song Films</td>\n",
       "      <td>3/20/10</td>\n",
       "      <td>110</td>\n",
       "      <td>5.0</td>\n",
       "      <td>2010</td>\n",
       "      <td>30000000.0</td>\n",
       "      <td>967000.0</td>\n",
       "    </tr>\n",
       "  </tbody>\n",
       "</table>\n",
       "<p>1 rows × 21 columns</p>\n",
       "</div>"
      ],
      "text/plain": [
       "         id    imdb_id  popularity    budget  revenue original_title  \\\n",
       "2090  42194  tt0411951     0.59643  30000000   967000         TEKKEN   \n",
       "\n",
       "                                                   cast homepage  \\\n",
       "2090  Jon Foo|Kelly Overton|Cary-Hiroyuki Tagawa|Ian...      NaN   \n",
       "\n",
       "              director              tagline  ...  \\\n",
       "2090  Dwight H. Little  Survival is no game  ...   \n",
       "\n",
       "                                               overview runtime  \\\n",
       "2090  In the year of 2039, after World Wars destroy ...      92   \n",
       "\n",
       "                                           genres    production_companies  \\\n",
       "2090  Crime|Drama|Action|Thriller|Science Fiction  Namco|Light Song Films   \n",
       "\n",
       "     release_date vote_count  vote_average  release_year  budget_adj  \\\n",
       "2090      3/20/10        110           5.0          2010  30000000.0   \n",
       "\n",
       "      revenue_adj  \n",
       "2090     967000.0  \n",
       "\n",
       "[1 rows x 21 columns]"
      ]
     },
     "execution_count": 8,
     "metadata": {},
     "output_type": "execute_result"
    }
   ],
   "source": [
    "#checking for duplicated rows \n",
    "\n",
    "movies[movies.duplicated()]"
   ]
  },
  {
   "cell_type": "code",
   "execution_count": 9,
   "metadata": {},
   "outputs": [
    {
     "data": {
      "text/plain": [
       "5696"
      ]
     },
     "execution_count": 9,
     "metadata": {},
     "output_type": "execute_result"
    }
   ],
   "source": [
    "# checking budget_adj 0 values count\n",
    "\n",
    "movies[movies.budget_adj == 0][\"id\"].count()"
   ]
  },
  {
   "cell_type": "code",
   "execution_count": 10,
   "metadata": {},
   "outputs": [
    {
     "data": {
      "text/plain": [
       "6016"
      ]
     },
     "execution_count": 10,
     "metadata": {},
     "output_type": "execute_result"
    }
   ],
   "source": [
    "# checking revenue 0 values count\n",
    "\n",
    "movies[movies.revenue == 0][\"id\"].count()"
   ]
  },
  {
   "cell_type": "markdown",
   "metadata": {},
   "source": [
    "##  Cleaning Data\n",
    "\n",
    "### <font color='blue'>Missing Data</font>\n",
    " \n",
    "1. homepage column has 7930 NaNs (empty_value).\n",
    "2. tagline column has 2824 NaNs (empty_value).\n",
    "3. keywords column has 1493 NaNs (empty_value).\n",
    "4. budget_adj column has too much decimals.\n",
    "5. revenue_adj column has too much decimals.\n",
    "6. budget_adj column has 5696 record with value \"0\"\n",
    "7. revenue_adj column has 6016 record with value \"0\"\n",
    "8. genres column has 23 NaNs (empty_value).\n",
    "\n",
    "\n",
    "\n",
    "### <font color='blue'>Quality issues</font>\n",
    "\n",
    "1. id column data type is integer not string.\n",
    "2. release_date column data type is string not datetime.\n",
    "3. There's a duplicate record for \"TEKKEN\" movie.\n",
    "4. We need to add new column [\"profit\"] to calculate every movie profit.\n",
    "5. We need to add new column [\"month\"].\n",
    "6. Unnecessary columns [\"imdb_id\",\"budget\",\"revenue\"]."
   ]
  },
  {
   "cell_type": "code",
   "execution_count": 11,
   "metadata": {},
   "outputs": [],
   "source": [
    "# Make copy of origenal dataframe to clean\n",
    "\n",
    "movies_clean = movies.copy()"
   ]
  },
  {
   "cell_type": "markdown",
   "metadata": {},
   "source": [
    "### <font color='blue'>Missing Data issues</font>"
   ]
  },
  {
   "cell_type": "markdown",
   "metadata": {},
   "source": [
    "#### 1. homepage column has 7930 NaNs (empty_value) of total records 10866."
   ]
  },
  {
   "cell_type": "markdown",
   "metadata": {},
   "source": [
    "##### Solution\n",
    "* Drop homepage column using `.drop()` method."
   ]
  },
  {
   "cell_type": "markdown",
   "metadata": {},
   "source": [
    "##### Code"
   ]
  },
  {
   "cell_type": "code",
   "execution_count": 12,
   "metadata": {},
   "outputs": [],
   "source": [
    "# Drop homepage column\n",
    "\n",
    "movies_clean.drop(\"homepage\", axis=1, inplace = True)"
   ]
  },
  {
   "cell_type": "markdown",
   "metadata": {},
   "source": [
    "##### Test"
   ]
  },
  {
   "cell_type": "code",
   "execution_count": 13,
   "metadata": {},
   "outputs": [
    {
     "data": {
      "text/plain": [
       "False"
      ]
     },
     "execution_count": 13,
     "metadata": {},
     "output_type": "execute_result"
    }
   ],
   "source": [
    "# confirm that column already dropped\n",
    "\n",
    "\"homepage\" in movies_clean.columns "
   ]
  },
  {
   "cell_type": "markdown",
   "metadata": {},
   "source": [
    "#### 2. tagline column has 2824 empty value(NaNs) of total records 10866."
   ]
  },
  {
   "cell_type": "markdown",
   "metadata": {},
   "source": [
    "##### Solution\n",
    "* Drop tagline column using `.drop()` method."
   ]
  },
  {
   "cell_type": "markdown",
   "metadata": {},
   "source": [
    "##### Code"
   ]
  },
  {
   "cell_type": "code",
   "execution_count": 14,
   "metadata": {},
   "outputs": [],
   "source": [
    "# Drop tagline column\n",
    "\n",
    "movies_clean.drop(\"tagline\", axis=1, inplace = True)"
   ]
  },
  {
   "cell_type": "markdown",
   "metadata": {},
   "source": [
    "##### Test"
   ]
  },
  {
   "cell_type": "code",
   "execution_count": 15,
   "metadata": {},
   "outputs": [
    {
     "data": {
      "text/plain": [
       "False"
      ]
     },
     "execution_count": 15,
     "metadata": {},
     "output_type": "execute_result"
    }
   ],
   "source": [
    "# confirm that column already dropped\n",
    "\n",
    "\"tagline\" in movies_clean.columns  "
   ]
  },
  {
   "cell_type": "markdown",
   "metadata": {},
   "source": [
    "#### 3. keywords column has 1493 empty value(NaNs) of total records 10866."
   ]
  },
  {
   "cell_type": "markdown",
   "metadata": {},
   "source": [
    "##### Solution\n",
    "* Drop keywords column using `.drop()` method."
   ]
  },
  {
   "cell_type": "markdown",
   "metadata": {},
   "source": [
    "##### Code"
   ]
  },
  {
   "cell_type": "code",
   "execution_count": 16,
   "metadata": {},
   "outputs": [],
   "source": [
    "# Drop keywords column\n",
    "\n",
    "movies_clean.drop(\"keywords\", axis=1, inplace = True)"
   ]
  },
  {
   "cell_type": "markdown",
   "metadata": {},
   "source": [
    "##### Test"
   ]
  },
  {
   "cell_type": "code",
   "execution_count": 17,
   "metadata": {},
   "outputs": [
    {
     "data": {
      "text/plain": [
       "False"
      ]
     },
     "execution_count": 17,
     "metadata": {},
     "output_type": "execute_result"
    }
   ],
   "source": [
    "# confirm that column already dropped\n",
    "\n",
    "\"keywords\" in movies_clean.columns  "
   ]
  },
  {
   "cell_type": "markdown",
   "metadata": {},
   "source": [
    "#### 4. budget_adj column has too much decimals."
   ]
  },
  {
   "cell_type": "markdown",
   "metadata": {},
   "source": [
    "##### Solution\n",
    "* Round all numbers using `round()` method."
   ]
  },
  {
   "cell_type": "markdown",
   "metadata": {},
   "source": [
    "##### Code"
   ]
  },
  {
   "cell_type": "code",
   "execution_count": 18,
   "metadata": {},
   "outputs": [],
   "source": [
    "# round all numbers to just 2 decimals\n",
    "\n",
    "movies_clean.budget_adj = movies_clean.budget_adj.apply(lambda x : round(x,2))"
   ]
  },
  {
   "cell_type": "markdown",
   "metadata": {},
   "source": [
    "##### Test"
   ]
  },
  {
   "cell_type": "code",
   "execution_count": 19,
   "metadata": {},
   "outputs": [
    {
     "data": {
      "text/plain": [
       "3791          0.00\n",
       "5968    7488266.82\n",
       "3723          0.00\n",
       "1125          0.00\n",
       "3634          0.00\n",
       "Name: budget_adj, dtype: float64"
      ]
     },
     "execution_count": 19,
     "metadata": {},
     "output_type": "execute_result"
    }
   ],
   "source": [
    "#confirm that values already rounded.\n",
    "\n",
    "movies_clean.budget_adj.sort_values().sample(5)"
   ]
  },
  {
   "cell_type": "markdown",
   "metadata": {},
   "source": [
    "#### 5. revenue_adj column has too much decimals."
   ]
  },
  {
   "cell_type": "markdown",
   "metadata": {},
   "source": [
    "##### Solution\n",
    "* Round all numbers using `.round()` method."
   ]
  },
  {
   "cell_type": "markdown",
   "metadata": {},
   "source": [
    "##### Code"
   ]
  },
  {
   "cell_type": "code",
   "execution_count": 20,
   "metadata": {},
   "outputs": [],
   "source": [
    "movies_clean.revenue_adj = movies_clean.revenue_adj.apply(lambda x : round(x,2))"
   ]
  },
  {
   "cell_type": "markdown",
   "metadata": {},
   "source": [
    "##### Test"
   ]
  },
  {
   "cell_type": "code",
   "execution_count": 21,
   "metadata": {},
   "outputs": [
    {
     "data": {
      "text/plain": [
       "4831       949744.28\n",
       "3052            0.00\n",
       "8149      1643826.05\n",
       "177      27811566.60\n",
       "10328           0.00\n",
       "Name: revenue_adj, dtype: float64"
      ]
     },
     "execution_count": 21,
     "metadata": {},
     "output_type": "execute_result"
    }
   ],
   "source": [
    "#confirm that values already rounded.\n",
    "\n",
    "movies_clean.revenue_adj.sample(5)"
   ]
  },
  {
   "cell_type": "markdown",
   "metadata": {},
   "source": [
    "#### 6. budget_adj column has 5696 record with value \"0\""
   ]
  },
  {
   "cell_type": "markdown",
   "metadata": {},
   "source": [
    "##### Solution\n",
    "* This is a massive number of records and it definitely will affect our statistics like mean . This is not an ideal solution  but I am going to replace \"0\" with null values using `lambda` function."
   ]
  },
  {
   "cell_type": "markdown",
   "metadata": {},
   "source": [
    "##### Code"
   ]
  },
  {
   "cell_type": "code",
   "execution_count": 22,
   "metadata": {},
   "outputs": [],
   "source": [
    "# Replace 0 values with NaNs\n",
    "\n",
    "movies_clean.budget_adj = movies_clean.budget_adj.apply(lambda x : np.nan if x<1 else x)"
   ]
  },
  {
   "cell_type": "markdown",
   "metadata": {},
   "source": [
    "##### Test"
   ]
  },
  {
   "cell_type": "code",
   "execution_count": 23,
   "metadata": {},
   "outputs": [
    {
     "data": {
      "text/html": [
       "<div>\n",
       "<style scoped>\n",
       "    .dataframe tbody tr th:only-of-type {\n",
       "        vertical-align: middle;\n",
       "    }\n",
       "\n",
       "    .dataframe tbody tr th {\n",
       "        vertical-align: top;\n",
       "    }\n",
       "\n",
       "    .dataframe thead th {\n",
       "        text-align: right;\n",
       "    }\n",
       "</style>\n",
       "<table border=\"1\" class=\"dataframe\">\n",
       "  <thead>\n",
       "    <tr style=\"text-align: right;\">\n",
       "      <th></th>\n",
       "      <th>id</th>\n",
       "      <th>imdb_id</th>\n",
       "      <th>popularity</th>\n",
       "      <th>budget</th>\n",
       "      <th>revenue</th>\n",
       "      <th>original_title</th>\n",
       "      <th>cast</th>\n",
       "      <th>director</th>\n",
       "      <th>overview</th>\n",
       "      <th>runtime</th>\n",
       "      <th>genres</th>\n",
       "      <th>production_companies</th>\n",
       "      <th>release_date</th>\n",
       "      <th>vote_count</th>\n",
       "      <th>vote_average</th>\n",
       "      <th>release_year</th>\n",
       "      <th>budget_adj</th>\n",
       "      <th>revenue_adj</th>\n",
       "    </tr>\n",
       "  </thead>\n",
       "  <tbody>\n",
       "  </tbody>\n",
       "</table>\n",
       "</div>"
      ],
      "text/plain": [
       "Empty DataFrame\n",
       "Columns: [id, imdb_id, popularity, budget, revenue, original_title, cast, director, overview, runtime, genres, production_companies, release_date, vote_count, vote_average, release_year, budget_adj, revenue_adj]\n",
       "Index: []"
      ]
     },
     "execution_count": 23,
     "metadata": {},
     "output_type": "execute_result"
    }
   ],
   "source": [
    "#confirm that records with 0 value already replaced.\n",
    "\n",
    "movies_clean[movies_clean.budget_adj<1]"
   ]
  },
  {
   "cell_type": "markdown",
   "metadata": {},
   "source": [
    "#### 7. revenue_adj column has 6016 record with value \"0\""
   ]
  },
  {
   "cell_type": "markdown",
   "metadata": {},
   "source": [
    "##### Solution\n",
    "* Like i did in previous solution I am going to replace \"0\" with null values using `lambda` function."
   ]
  },
  {
   "cell_type": "markdown",
   "metadata": {},
   "source": [
    "##### Code"
   ]
  },
  {
   "cell_type": "code",
   "execution_count": 24,
   "metadata": {},
   "outputs": [],
   "source": [
    "movies_clean.revenue_adj = movies_clean.revenue_adj.apply(lambda x : np.nan if x<1 else x)"
   ]
  },
  {
   "cell_type": "markdown",
   "metadata": {},
   "source": [
    "##### Test"
   ]
  },
  {
   "cell_type": "code",
   "execution_count": 25,
   "metadata": {},
   "outputs": [
    {
     "data": {
      "text/html": [
       "<div>\n",
       "<style scoped>\n",
       "    .dataframe tbody tr th:only-of-type {\n",
       "        vertical-align: middle;\n",
       "    }\n",
       "\n",
       "    .dataframe tbody tr th {\n",
       "        vertical-align: top;\n",
       "    }\n",
       "\n",
       "    .dataframe thead th {\n",
       "        text-align: right;\n",
       "    }\n",
       "</style>\n",
       "<table border=\"1\" class=\"dataframe\">\n",
       "  <thead>\n",
       "    <tr style=\"text-align: right;\">\n",
       "      <th></th>\n",
       "      <th>id</th>\n",
       "      <th>imdb_id</th>\n",
       "      <th>popularity</th>\n",
       "      <th>budget</th>\n",
       "      <th>revenue</th>\n",
       "      <th>original_title</th>\n",
       "      <th>cast</th>\n",
       "      <th>director</th>\n",
       "      <th>overview</th>\n",
       "      <th>runtime</th>\n",
       "      <th>genres</th>\n",
       "      <th>production_companies</th>\n",
       "      <th>release_date</th>\n",
       "      <th>vote_count</th>\n",
       "      <th>vote_average</th>\n",
       "      <th>release_year</th>\n",
       "      <th>budget_adj</th>\n",
       "      <th>revenue_adj</th>\n",
       "    </tr>\n",
       "  </thead>\n",
       "  <tbody>\n",
       "  </tbody>\n",
       "</table>\n",
       "</div>"
      ],
      "text/plain": [
       "Empty DataFrame\n",
       "Columns: [id, imdb_id, popularity, budget, revenue, original_title, cast, director, overview, runtime, genres, production_companies, release_date, vote_count, vote_average, release_year, budget_adj, revenue_adj]\n",
       "Index: []"
      ]
     },
     "execution_count": 25,
     "metadata": {},
     "output_type": "execute_result"
    }
   ],
   "source": [
    "#confirm that records with 0 value already replaced.\n",
    "\n",
    "movies_clean[movies_clean.revenue_adj<1]"
   ]
  },
  {
   "cell_type": "markdown",
   "metadata": {},
   "source": [
    "#### 8.  genres column has 23 NaNs (empy_value)."
   ]
  },
  {
   "cell_type": "markdown",
   "metadata": {},
   "source": [
    "##### Solution\n",
    "* Replace NaN values with \"no gener\" using `.fillna()` function."
   ]
  },
  {
   "cell_type": "markdown",
   "metadata": {},
   "source": [
    "##### Code"
   ]
  },
  {
   "cell_type": "code",
   "execution_count": 26,
   "metadata": {},
   "outputs": [],
   "source": [
    "movies_clean.genres.fillna(\"no gener\", inplace = True)"
   ]
  },
  {
   "cell_type": "markdown",
   "metadata": {},
   "source": [
    "##### Test"
   ]
  },
  {
   "cell_type": "code",
   "execution_count": 27,
   "metadata": {},
   "outputs": [
    {
     "data": {
      "text/plain": [
       "0"
      ]
     },
     "execution_count": 27,
     "metadata": {},
     "output_type": "execute_result"
    }
   ],
   "source": [
    "#confirm that records with 0 value already replaced.\n",
    "\n",
    "movies_clean.genres.isnull().sum()"
   ]
  },
  {
   "cell_type": "markdown",
   "metadata": {},
   "source": [
    "### <font color='blue'>Quality issues</font>"
   ]
  },
  {
   "cell_type": "markdown",
   "metadata": {},
   "source": [
    "#### 1. id column data type is integer not string."
   ]
  },
  {
   "cell_type": "markdown",
   "metadata": {},
   "source": [
    "##### Solution\n",
    "* Change id column type to string using `.astype()` method."
   ]
  },
  {
   "cell_type": "markdown",
   "metadata": {},
   "source": [
    "##### Code"
   ]
  },
  {
   "cell_type": "code",
   "execution_count": 28,
   "metadata": {},
   "outputs": [],
   "source": [
    "# Change id column type to string\n",
    "\n",
    "movies_clean.id = movies_clean.id.astype(str)"
   ]
  },
  {
   "cell_type": "markdown",
   "metadata": {},
   "source": [
    "##### Test"
   ]
  },
  {
   "cell_type": "code",
   "execution_count": 29,
   "metadata": {},
   "outputs": [
    {
     "data": {
      "text/plain": [
       "dtype('O')"
      ]
     },
     "execution_count": 29,
     "metadata": {},
     "output_type": "execute_result"
    }
   ],
   "source": [
    "# confirm id type already changed\n",
    "\n",
    "movies_clean.id.dtypes"
   ]
  },
  {
   "cell_type": "markdown",
   "metadata": {},
   "source": [
    "#### 2. release_date column data type is string not datetime."
   ]
  },
  {
   "cell_type": "markdown",
   "metadata": {},
   "source": [
    "##### Solution\n",
    "* Change release_date column type to datetime using .`to_datetime()` method."
   ]
  },
  {
   "cell_type": "markdown",
   "metadata": {},
   "source": [
    "##### Code"
   ]
  },
  {
   "cell_type": "code",
   "execution_count": 30,
   "metadata": {},
   "outputs": [],
   "source": [
    "# Change release_date column type to datetime\n",
    "\n",
    "movies_clean.release_date = pd.to_datetime(movies_clean.release_date) "
   ]
  },
  {
   "cell_type": "markdown",
   "metadata": {},
   "source": [
    "##### Test"
   ]
  },
  {
   "cell_type": "code",
   "execution_count": 31,
   "metadata": {},
   "outputs": [
    {
     "data": {
      "text/plain": [
       "pandas._libs.tslibs.timestamps.Timestamp"
      ]
     },
     "execution_count": 31,
     "metadata": {},
     "output_type": "execute_result"
    }
   ],
   "source": [
    "# confirm release_date type already changed\n",
    "\n",
    "type(movies_clean.release_date[0])"
   ]
  },
  {
   "cell_type": "markdown",
   "metadata": {},
   "source": [
    "#### 3. There's a duplicate record for \"TEKKEN\" movie."
   ]
  },
  {
   "cell_type": "markdown",
   "metadata": {},
   "source": [
    "##### Solution\n",
    "* Remove duplicated row using `.drop_duplicates()` method"
   ]
  },
  {
   "cell_type": "markdown",
   "metadata": {},
   "source": [
    "##### Code"
   ]
  },
  {
   "cell_type": "code",
   "execution_count": 32,
   "metadata": {},
   "outputs": [],
   "source": [
    "# Drop duplicated row\n",
    "\n",
    "movies_clean.drop_duplicates(inplace=True)"
   ]
  },
  {
   "cell_type": "markdown",
   "metadata": {},
   "source": [
    "##### Test"
   ]
  },
  {
   "cell_type": "code",
   "execution_count": 33,
   "metadata": {},
   "outputs": [
    {
     "data": {
      "text/plain": [
       "0"
      ]
     },
     "execution_count": 33,
     "metadata": {},
     "output_type": "execute_result"
    }
   ],
   "source": [
    "# Confirm duplicated row already dropped\n",
    "\n",
    "movies_clean.duplicated().sum()"
   ]
  },
  {
   "cell_type": "markdown",
   "metadata": {},
   "source": [
    "#### 4. We need to add new column [\"profit\"] to calculate every movie profit."
   ]
  },
  {
   "cell_type": "markdown",
   "metadata": {},
   "source": [
    "##### Solution\n",
    "* Add new column \"profit\" using `revenue - budget` evaluation"
   ]
  },
  {
   "cell_type": "markdown",
   "metadata": {},
   "source": [
    "##### Code"
   ]
  },
  {
   "cell_type": "code",
   "execution_count": 34,
   "metadata": {},
   "outputs": [],
   "source": [
    "# Add new column \"profit\"\n",
    "\n",
    "movies_clean[\"profit\"] = movies_clean.revenue_adj - movies_clean.budget_adj"
   ]
  },
  {
   "cell_type": "markdown",
   "metadata": {},
   "source": [
    "##### Test"
   ]
  },
  {
   "cell_type": "code",
   "execution_count": 35,
   "metadata": {},
   "outputs": [
    {
     "data": {
      "text/plain": [
       "0        1.254446e+09\n",
       "1        2.101614e+08\n",
       "2        1.704191e+08\n",
       "3        1.718723e+09\n",
       "4        1.210949e+09\n",
       "             ...     \n",
       "10861             NaN\n",
       "10862             NaN\n",
       "10863             NaN\n",
       "10864             NaN\n",
       "10865             NaN\n",
       "Name: profit, Length: 10865, dtype: float64"
      ]
     },
     "execution_count": 35,
     "metadata": {},
     "output_type": "execute_result"
    }
   ],
   "source": [
    "# Confirm new column aready added\n",
    "\n",
    "movies_clean.profit"
   ]
  },
  {
   "cell_type": "markdown",
   "metadata": {},
   "source": [
    "#### 5. We need to add new column [\"month\"]."
   ]
  },
  {
   "cell_type": "markdown",
   "metadata": {},
   "source": [
    "##### Solution\n",
    "* Add new column \"month\" using `dt.month_name()` method from release_year\n",
    "* drop release_year column."
   ]
  },
  {
   "cell_type": "markdown",
   "metadata": {},
   "source": [
    "##### Code"
   ]
  },
  {
   "cell_type": "code",
   "execution_count": 36,
   "metadata": {},
   "outputs": [],
   "source": [
    "# Add new column \"month\" \n",
    "\n",
    "movies_clean[\"month\"] = movies_clean.release_date.dt.month_name()"
   ]
  },
  {
   "cell_type": "markdown",
   "metadata": {},
   "source": [
    "##### Test"
   ]
  },
  {
   "cell_type": "code",
   "execution_count": 37,
   "metadata": {},
   "outputs": [
    {
     "data": {
      "text/plain": [
       "0            June\n",
       "1             May\n",
       "2           March\n",
       "3        December\n",
       "4           April\n",
       "           ...   \n",
       "10861        June\n",
       "10862    December\n",
       "10863     January\n",
       "10864    November\n",
       "10865    November\n",
       "Name: month, Length: 10865, dtype: object"
      ]
     },
     "execution_count": 37,
     "metadata": {},
     "output_type": "execute_result"
    }
   ],
   "source": [
    "# Confirm new column aready added\n",
    "\n",
    "movies_clean.month"
   ]
  },
  {
   "cell_type": "markdown",
   "metadata": {},
   "source": [
    "#### 6. Unnecessary columns [\"imdb_id\",\"budget\",\"revenue\"]."
   ]
  },
  {
   "cell_type": "markdown",
   "metadata": {},
   "source": [
    "##### Solution\n",
    "* Drop Unnecessary columns using `.drop()` method"
   ]
  },
  {
   "cell_type": "markdown",
   "metadata": {},
   "source": [
    "##### Code"
   ]
  },
  {
   "cell_type": "code",
   "execution_count": 38,
   "metadata": {},
   "outputs": [],
   "source": [
    "# Drop Unnecessary columns \n",
    "\n",
    "movies_clean.drop([\"imdb_id\",\"budget\",\"revenue\"], axis = 1, inplace = True)"
   ]
  },
  {
   "cell_type": "markdown",
   "metadata": {},
   "source": [
    "##### Test"
   ]
  },
  {
   "cell_type": "code",
   "execution_count": 39,
   "metadata": {},
   "outputs": [
    {
     "data": {
      "text/plain": [
       "Index(['id', 'popularity', 'original_title', 'cast', 'director', 'overview',\n",
       "       'runtime', 'genres', 'production_companies', 'release_date',\n",
       "       'vote_count', 'vote_average', 'release_year', 'budget_adj',\n",
       "       'revenue_adj', 'profit', 'month'],\n",
       "      dtype='object')"
      ]
     },
     "execution_count": 39,
     "metadata": {},
     "output_type": "execute_result"
    }
   ],
   "source": [
    "# Confirm Unnecessary columns already dropped\n",
    "\n",
    "movies_clean.columns"
   ]
  },
  {
   "cell_type": "markdown",
   "metadata": {},
   "source": [
    "<a id='eda'></a>\n",
    "## Exploratory Data Analysis\n",
    "\n",
    "> Now I'm going to explore this data and try to find patterns in it, compute statistics and visualize the relationships\n",
    "to answer the questions and detect the characteristics that affect patients attending to their hospital appointment\n"
   ]
  },
  {
   "cell_type": "markdown",
   "metadata": {},
   "source": [
    "### Research Question 1\n",
    "> ####  What's the most popular movies? (top 10)"
   ]
  },
  {
   "cell_type": "code",
   "execution_count": 40,
   "metadata": {},
   "outputs": [],
   "source": [
    "# Top 10 popular movies\n",
    "\n",
    "top_ten_popular = movies_clean.nlargest(10,\"popularity\")[[\"original_title\", \"popularity\"]]"
   ]
  },
  {
   "cell_type": "code",
   "execution_count": 41,
   "metadata": {},
   "outputs": [
    {
     "data": {
      "text/plain": [
       "original_title\n",
       "Jurassic World                           32.985763\n",
       "Mad Max: Fury Road                       28.419936\n",
       "Interstellar                             24.949134\n",
       "Guardians of the Galaxy                  14.311205\n",
       "Insurgent                                13.112507\n",
       "Captain America: The Winter Soldier      12.971027\n",
       "Star Wars                                12.037933\n",
       "John Wick                                11.422751\n",
       "Star Wars: The Force Awakens             11.173104\n",
       "The Hunger Games: Mockingjay - Part 1    10.739009\n",
       "Name: popularity, dtype: float64"
      ]
     },
     "execution_count": 41,
     "metadata": {},
     "output_type": "execute_result"
    }
   ],
   "source": [
    "# groupby top ten popular movies\n",
    "\n",
    "top_ten_popular.groupby(\"original_title\")[\"popularity\"].sum().sort_values(ascending=False)"
   ]
  },
  {
   "cell_type": "code",
   "execution_count": 42,
   "metadata": {},
   "outputs": [
    {
     "data": {
      "image/png": "[encoded data removed]",
      "text/plain": [
       "<Figure size 648x432 with 1 Axes>"
      ]
     },
     "metadata": {},
     "output_type": "display_data"
    }
   ],
   "source": [
    "# Top 10 popular movies bar chart\n",
    "\n",
    "top_ten_popular.groupby(\"original_title\")[\"popularity\"].sum().sort_values().plot(kind=\"barh\",\n",
    "                                                                                 rot = 0,\n",
    "                                                                                 width = 0.35,\n",
    "                                                                                 color=[\"blue\"],\n",
    "                                                                                 alpha = 0.8,\n",
    "                                                                                 fontsize = 12,\n",
    "                                                                                 figsize=(9,6),\n",
    "                                                                                 )\n",
    "\n",
    "plt.ylabel(\"Movie Name\",fontsize=15, color=\"k\")\n",
    "plt.xlabel(\"Popularity\",fontsize=15, color=\"k\")\n",
    "plt.title(\"Top 10 popular movies\", fontsize=18, color=\"k\");"
   ]
  },
  {
   "cell_type": "markdown",
   "metadata": {},
   "source": [
    "### Answer 1\n",
    "* From above visualisation we can conclude that the most popular movie is Jurassic World with popularity 32.98."
   ]
  },
  {
   "cell_type": "markdown",
   "metadata": {},
   "source": [
    "### Research Question 2\n",
    "> #### What's the top rated movies considering both (vote_count) and (vote average)? (top 10)"
   ]
  },
  {
   "cell_type": "code",
   "execution_count": 43,
   "metadata": {},
   "outputs": [
    {
     "data": {
      "text/html": [
       "<div>\n",
       "<style scoped>\n",
       "    .dataframe tbody tr th:only-of-type {\n",
       "        vertical-align: middle;\n",
       "    }\n",
       "\n",
       "    .dataframe tbody tr th {\n",
       "        vertical-align: top;\n",
       "    }\n",
       "\n",
       "    .dataframe thead th {\n",
       "        text-align: right;\n",
       "    }\n",
       "</style>\n",
       "<table border=\"1\" class=\"dataframe\">\n",
       "  <thead>\n",
       "    <tr style=\"text-align: right;\">\n",
       "      <th></th>\n",
       "      <th>original_title</th>\n",
       "      <th>vote_average</th>\n",
       "      <th>vote_count</th>\n",
       "    </tr>\n",
       "  </thead>\n",
       "  <tbody>\n",
       "    <tr>\n",
       "      <th>3894</th>\n",
       "      <td>The Story of Film: An Odyssey</td>\n",
       "      <td>9.2</td>\n",
       "      <td>14</td>\n",
       "    </tr>\n",
       "    <tr>\n",
       "      <th>538</th>\n",
       "      <td>The Mask You Live In</td>\n",
       "      <td>8.9</td>\n",
       "      <td>11</td>\n",
       "    </tr>\n",
       "    <tr>\n",
       "      <th>1200</th>\n",
       "      <td>Black Mirror: White Christmas</td>\n",
       "      <td>8.8</td>\n",
       "      <td>41</td>\n",
       "    </tr>\n",
       "    <tr>\n",
       "      <th>2269</th>\n",
       "      <td>Life Cycles</td>\n",
       "      <td>8.8</td>\n",
       "      <td>27</td>\n",
       "    </tr>\n",
       "    <tr>\n",
       "      <th>6911</th>\n",
       "      <td>Pink Floyd: Pulse</td>\n",
       "      <td>8.7</td>\n",
       "      <td>23</td>\n",
       "    </tr>\n",
       "    <tr>\n",
       "      <th>2401</th>\n",
       "      <td>Opeth: In Live Concert At The Royal Albert Hall</td>\n",
       "      <td>8.6</td>\n",
       "      <td>10</td>\n",
       "    </tr>\n",
       "    <tr>\n",
       "      <th>3224</th>\n",
       "      <td>John Mayer: Where the Light Is Live in Los Ang...</td>\n",
       "      <td>8.5</td>\n",
       "      <td>16</td>\n",
       "    </tr>\n",
       "    <tr>\n",
       "      <th>3690</th>\n",
       "      <td>The Art of Flight</td>\n",
       "      <td>8.5</td>\n",
       "      <td>60</td>\n",
       "    </tr>\n",
       "    <tr>\n",
       "      <th>5830</th>\n",
       "      <td>Doctor Who: The Time of the Doctor</td>\n",
       "      <td>8.5</td>\n",
       "      <td>26</td>\n",
       "    </tr>\n",
       "    <tr>\n",
       "      <th>8221</th>\n",
       "      <td>A Personal Journey with Martin Scorsese Throug...</td>\n",
       "      <td>8.5</td>\n",
       "      <td>11</td>\n",
       "    </tr>\n",
       "  </tbody>\n",
       "</table>\n",
       "</div>"
      ],
      "text/plain": [
       "                                         original_title  vote_average  \\\n",
       "3894                      The Story of Film: An Odyssey           9.2   \n",
       "538                                The Mask You Live In           8.9   \n",
       "1200                      Black Mirror: White Christmas           8.8   \n",
       "2269                                        Life Cycles           8.8   \n",
       "6911                                  Pink Floyd: Pulse           8.7   \n",
       "2401    Opeth: In Live Concert At The Royal Albert Hall           8.6   \n",
       "3224  John Mayer: Where the Light Is Live in Los Ang...           8.5   \n",
       "3690                                  The Art of Flight           8.5   \n",
       "5830                 Doctor Who: The Time of the Doctor           8.5   \n",
       "8221  A Personal Journey with Martin Scorsese Throug...           8.5   \n",
       "\n",
       "      vote_count  \n",
       "3894          14  \n",
       "538           11  \n",
       "1200          41  \n",
       "2269          27  \n",
       "6911          23  \n",
       "2401          10  \n",
       "3224          16  \n",
       "3690          60  \n",
       "5830          26  \n",
       "8221          11  "
      ]
     },
     "execution_count": 43,
     "metadata": {},
     "output_type": "execute_result"
    }
   ],
   "source": [
    "# Cheking top 10 vote_average movies and their vote_counts\n",
    "\n",
    "movies_clean.nlargest(10,\"vote_average\")[[\"original_title\",\"vote_average\",\"vote_count\"]]"
   ]
  },
  {
   "cell_type": "markdown",
   "metadata": {},
   "source": [
    "**(From above table we can see that top 10 movies with high average vote have a very low votes; so we can not consider these movies as top rated movies.)**"
   ]
  },
  {
   "cell_type": "code",
   "execution_count": 44,
   "metadata": {},
   "outputs": [
    {
     "data": {
      "text/html": [
       "<div>\n",
       "<style scoped>\n",
       "    .dataframe tbody tr th:only-of-type {\n",
       "        vertical-align: middle;\n",
       "    }\n",
       "\n",
       "    .dataframe tbody tr th {\n",
       "        vertical-align: top;\n",
       "    }\n",
       "\n",
       "    .dataframe thead th {\n",
       "        text-align: right;\n",
       "    }\n",
       "</style>\n",
       "<table border=\"1\" class=\"dataframe\">\n",
       "  <thead>\n",
       "    <tr style=\"text-align: right;\">\n",
       "      <th></th>\n",
       "      <th>original_title</th>\n",
       "      <th>vote_average</th>\n",
       "      <th>vote_count</th>\n",
       "    </tr>\n",
       "  </thead>\n",
       "  <tbody>\n",
       "    <tr>\n",
       "      <th>1919</th>\n",
       "      <td>Inception</td>\n",
       "      <td>7.9</td>\n",
       "      <td>9767</td>\n",
       "    </tr>\n",
       "    <tr>\n",
       "      <th>4361</th>\n",
       "      <td>The Avengers</td>\n",
       "      <td>7.3</td>\n",
       "      <td>8903</td>\n",
       "    </tr>\n",
       "    <tr>\n",
       "      <th>1386</th>\n",
       "      <td>Avatar</td>\n",
       "      <td>7.1</td>\n",
       "      <td>8458</td>\n",
       "    </tr>\n",
       "    <tr>\n",
       "      <th>2875</th>\n",
       "      <td>The Dark Knight</td>\n",
       "      <td>8.1</td>\n",
       "      <td>8432</td>\n",
       "    </tr>\n",
       "    <tr>\n",
       "      <th>4364</th>\n",
       "      <td>Django Unchained</td>\n",
       "      <td>7.7</td>\n",
       "      <td>7375</td>\n",
       "    </tr>\n",
       "    <tr>\n",
       "      <th>4382</th>\n",
       "      <td>The Hunger Games</td>\n",
       "      <td>6.7</td>\n",
       "      <td>7080</td>\n",
       "    </tr>\n",
       "    <tr>\n",
       "      <th>5425</th>\n",
       "      <td>Iron Man 3</td>\n",
       "      <td>6.9</td>\n",
       "      <td>6882</td>\n",
       "    </tr>\n",
       "    <tr>\n",
       "      <th>4363</th>\n",
       "      <td>The Dark Knight Rises</td>\n",
       "      <td>7.5</td>\n",
       "      <td>6723</td>\n",
       "    </tr>\n",
       "    <tr>\n",
       "      <th>629</th>\n",
       "      <td>Interstellar</td>\n",
       "      <td>8.0</td>\n",
       "      <td>6498</td>\n",
       "    </tr>\n",
       "    <tr>\n",
       "      <th>4367</th>\n",
       "      <td>The Hobbit: An Unexpected Journey</td>\n",
       "      <td>6.9</td>\n",
       "      <td>6417</td>\n",
       "    </tr>\n",
       "  </tbody>\n",
       "</table>\n",
       "</div>"
      ],
      "text/plain": [
       "                         original_title  vote_average  vote_count\n",
       "1919                          Inception           7.9        9767\n",
       "4361                       The Avengers           7.3        8903\n",
       "1386                             Avatar           7.1        8458\n",
       "2875                    The Dark Knight           8.1        8432\n",
       "4364                   Django Unchained           7.7        7375\n",
       "4382                   The Hunger Games           6.7        7080\n",
       "5425                         Iron Man 3           6.9        6882\n",
       "4363              The Dark Knight Rises           7.5        6723\n",
       "629                        Interstellar           8.0        6498\n",
       "4367  The Hobbit: An Unexpected Journey           6.9        6417"
      ]
     },
     "execution_count": 44,
     "metadata": {},
     "output_type": "execute_result"
    }
   ],
   "source": [
    "# Cheking top 10 vote_counts and their average_vote\n",
    "\n",
    "top_ten_rated = movies_clean.nlargest(10,\"vote_count\")[[\"original_title\",\"vote_average\",\"vote_count\"]]\n",
    "top_ten_rated"
   ]
  },
  {
   "cell_type": "code",
   "execution_count": 45,
   "metadata": {},
   "outputs": [
    {
     "data": {
      "image/png": "[encoded data removed]",
      "text/plain": [
       "<Figure size 648x432 with 1 Axes>"
      ]
     },
     "metadata": {},
     "output_type": "display_data"
    }
   ],
   "source": [
    "# Groupby top ten rated movies (with high vote counts)\n",
    "\n",
    "top_ten_rated.groupby(\"original_title\")[\"vote_average\"].sum().sort_values().plot(kind=\"barh\",\n",
    "                                                                                 rot = 0,\n",
    "                                                                                 width = 0.35,\n",
    "                                                                                 color=[\"limegreen\"],\n",
    "                                                                                 alpha = 0.8,\n",
    "                                                                                 fontsize = 12,\n",
    "                                                                                 figsize=(9,6),\n",
    "                                                                                 )\n",
    "\n",
    "plt.ylabel(\"Movie Name\",fontsize=15, color=\"k\")\n",
    "plt.xlabel(\"Movie rate\",fontsize=15, color=\"k\")\n",
    "plt.title(\"Top 10 rated movies\", fontsize=18, color=\"k\");"
   ]
  },
  {
   "cell_type": "markdown",
   "metadata": {},
   "source": [
    "### Answer 2\n",
    "\n",
    "* From above visualisation we can conclude that the most high rated movie is `The Dark Knight` with vote average 8.1 and 8432 votes."
   ]
  },
  {
   "cell_type": "markdown",
   "metadata": {},
   "source": [
    "### Research Question 3\n",
    "\n",
    "> #### Which movies have the highest runtime? (top 10)"
   ]
  },
  {
   "cell_type": "code",
   "execution_count": 46,
   "metadata": {},
   "outputs": [
    {
     "data": {
      "text/html": [
       "<div>\n",
       "<style scoped>\n",
       "    .dataframe tbody tr th:only-of-type {\n",
       "        vertical-align: middle;\n",
       "    }\n",
       "\n",
       "    .dataframe tbody tr th {\n",
       "        vertical-align: top;\n",
       "    }\n",
       "\n",
       "    .dataframe thead th {\n",
       "        text-align: right;\n",
       "    }\n",
       "</style>\n",
       "<table border=\"1\" class=\"dataframe\">\n",
       "  <thead>\n",
       "    <tr style=\"text-align: right;\">\n",
       "      <th></th>\n",
       "      <th>original_title</th>\n",
       "      <th>runtime</th>\n",
       "    </tr>\n",
       "  </thead>\n",
       "  <tbody>\n",
       "    <tr>\n",
       "      <th>3894</th>\n",
       "      <td>The Story of Film: An Odyssey</td>\n",
       "      <td>900</td>\n",
       "    </tr>\n",
       "    <tr>\n",
       "      <th>4041</th>\n",
       "      <td>Taken</td>\n",
       "      <td>877</td>\n",
       "    </tr>\n",
       "    <tr>\n",
       "      <th>2722</th>\n",
       "      <td>Band of Brothers</td>\n",
       "      <td>705</td>\n",
       "    </tr>\n",
       "    <tr>\n",
       "      <th>6176</th>\n",
       "      <td>Shoah</td>\n",
       "      <td>566</td>\n",
       "    </tr>\n",
       "    <tr>\n",
       "      <th>6181</th>\n",
       "      <td>North and South, Book I</td>\n",
       "      <td>561</td>\n",
       "    </tr>\n",
       "    <tr>\n",
       "      <th>6894</th>\n",
       "      <td>Planet Earth</td>\n",
       "      <td>550</td>\n",
       "    </tr>\n",
       "    <tr>\n",
       "      <th>2214</th>\n",
       "      <td>The Pacific</td>\n",
       "      <td>540</td>\n",
       "    </tr>\n",
       "    <tr>\n",
       "      <th>3356</th>\n",
       "      <td>John Adams</td>\n",
       "      <td>501</td>\n",
       "    </tr>\n",
       "    <tr>\n",
       "      <th>1865</th>\n",
       "      <td>Life</td>\n",
       "      <td>500</td>\n",
       "    </tr>\n",
       "    <tr>\n",
       "      <th>3141</th>\n",
       "      <td>Generation Kill</td>\n",
       "      <td>470</td>\n",
       "    </tr>\n",
       "  </tbody>\n",
       "</table>\n",
       "</div>"
      ],
      "text/plain": [
       "                     original_title  runtime\n",
       "3894  The Story of Film: An Odyssey      900\n",
       "4041                          Taken      877\n",
       "2722               Band of Brothers      705\n",
       "6176                          Shoah      566\n",
       "6181        North and South, Book I      561\n",
       "6894                   Planet Earth      550\n",
       "2214                    The Pacific      540\n",
       "3356                     John Adams      501\n",
       "1865                           Life      500\n",
       "3141                Generation Kill      470"
      ]
     },
     "execution_count": 46,
     "metadata": {},
     "output_type": "execute_result"
    }
   ],
   "source": [
    "# check the movies which has highest runtime\n",
    "\n",
    "most_watched = movies_clean.nlargest(10,\"runtime\")[[\"original_title\",\"runtime\"]]\n",
    "most_watched"
   ]
  },
  {
   "cell_type": "code",
   "execution_count": 47,
   "metadata": {},
   "outputs": [
    {
     "data": {
      "text/plain": [
       "original_title\n",
       "Generation Kill                  470\n",
       "Life                             500\n",
       "John Adams                       501\n",
       "The Pacific                      540\n",
       "Planet Earth                     550\n",
       "North and South, Book I          561\n",
       "Shoah                            566\n",
       "Band of Brothers                 705\n",
       "Taken                            877\n",
       "The Story of Film: An Odyssey    900\n",
       "Name: runtime, dtype: int64"
      ]
     },
     "execution_count": 47,
     "metadata": {},
     "output_type": "execute_result"
    }
   ],
   "source": [
    "# Groupby most_watched movies\n",
    "most_watched.groupby(\"original_title\")[\"runtime\"].sum().sort_values()"
   ]
  },
  {
   "cell_type": "code",
   "execution_count": 48,
   "metadata": {},
   "outputs": [
    {
     "data": {
      "image/png": "[encoded data removed]",
      "text/plain": [
       "<Figure size 648x432 with 1 Axes>"
      ]
     },
     "metadata": {},
     "output_type": "display_data"
    }
   ],
   "source": [
    "# most_watched movies bar chart\n",
    "\n",
    "most_watched.groupby(\"original_title\")[\"runtime\"].sum().sort_values().plot(kind=\"barh\",\n",
    "                                                                                 rot = 0,\n",
    "                                                                                 width = 0.35,\n",
    "                                                                                 color=[\"c\"],\n",
    "                                                                                 alpha = 0.9,\n",
    "                                                                                 fontsize = 12,\n",
    "                                                                                 figsize=(9,6),\n",
    "                                                                                 )\n",
    "\n",
    "plt.ylabel(\"Movie Name\",fontsize=15, color=\"k\")\n",
    "plt.xlabel(\"Watched times\",fontsize=15, color=\"k\")\n",
    "plt.title(\"Top 10 watched movies\", fontsize=18, color=\"k\");"
   ]
  },
  {
   "cell_type": "markdown",
   "metadata": {},
   "source": [
    "### Answer 3\n",
    "\n",
    "* From above visualisation we can conclude that the most watched movie is `The Story of Film: An Odyssey` with 900 runtimes."
   ]
  },
  {
   "cell_type": "markdown",
   "metadata": {},
   "source": [
    "### Research Question 4\n",
    "\n",
    "> ####  Which year and which Month released highest number of movies?"
   ]
  },
  {
   "cell_type": "code",
   "execution_count": 49,
   "metadata": {},
   "outputs": [
    {
     "data": {
      "text/plain": [
       "release_year\n",
       "2014    700\n",
       "2013    659\n",
       "2015    629\n",
       "2012    588\n",
       "2011    540\n",
       "2009    533\n",
       "2008    496\n",
       "2010    489\n",
       "2007    438\n",
       "2006    408\n",
       "Name: original_title, dtype: int64"
      ]
     },
     "execution_count": 49,
     "metadata": {},
     "output_type": "execute_result"
    }
   ],
   "source": [
    "# check the year which released highest number of movies using groupby\n",
    "\n",
    "high_year = movies_clean.groupby(\"release_year\")[\"original_title\"].count().sort_values(ascending=False)\n",
    "high_year = high_year[:10][:]\n",
    "high_year "
   ]
  },
  {
   "cell_type": "code",
   "execution_count": 50,
   "metadata": {},
   "outputs": [
    {
     "data": {
      "image/png": "[encoded data removed]",
      "text/plain": [
       "<Figure size 648x432 with 1 Axes>"
      ]
     },
     "metadata": {},
     "output_type": "display_data"
    }
   ],
   "source": [
    "# high_years with most released movies bar chart\n",
    "\n",
    "high_year.plot(kind=\"bar\",\n",
    "               rot = 0,\n",
    "               width = 0.35,\n",
    "               color=[\"m\"],\n",
    "               alpha = 0.8,\n",
    "               fontsize = 12,\n",
    "               figsize=(9,6),\n",
    "              )\n",
    "\n",
    "plt.ylabel(\"Number of movies\",fontsize=15, color=\"k\")\n",
    "plt.xlabel(\"Movies released Year\",fontsize=15, color=\"k\")\n",
    "plt.title(\"Top 10 years with highest number of released movies\", fontsize=18, color=\"k\");"
   ]
  },
  {
   "cell_type": "code",
   "execution_count": 51,
   "metadata": {},
   "outputs": [
    {
     "data": {
      "text/plain": [
       "month\n",
       "September    1331\n",
       "October      1153\n",
       "December      985\n",
       "January       919\n",
       "August        918\n",
       "June          827\n",
       "March         822\n",
       "November      814\n",
       "May           809\n",
       "July          799\n",
       "April         797\n",
       "February      691\n",
       "Name: original_title, dtype: int64"
      ]
     },
     "execution_count": 51,
     "metadata": {},
     "output_type": "execute_result"
    }
   ],
   "source": [
    "high_month = movies_clean.groupby(\"month\")[\"original_title\"].count().sort_values(ascending=False)\n",
    "high_month"
   ]
  },
  {
   "cell_type": "markdown",
   "metadata": {},
   "source": [
    "### Answer 4\n",
    "\n",
    "* From above visualisation and data we can see that 2014 is the highest year according to number of released movies with total 700 movie. September s the highest month according to number of released movies with total 1331 movie"
   ]
  },
  {
   "cell_type": "markdown",
   "metadata": {},
   "source": [
    "### Research Question 5\n",
    "\n",
    "> #### Which genre has the highest movies release?"
   ]
  },
  {
   "cell_type": "code",
   "execution_count": 52,
   "metadata": {},
   "outputs": [],
   "source": [
    "def values_to_dictionary(name):\n",
    "    \"\"\"\n",
    "    this function made to make a dictionary with all unique values on column and count of every value.\n",
    "    \n",
    "    INPUT:\n",
    "    name : cell content from spesific column\n",
    "    OUTPUT:\n",
    "    there's no output but function is appending every unique value and it's count to \"genres_dic\" dictionary\n",
    "    \"\"\"\n",
    "    for value in name.split(\"|\"):\n",
    "        genres_dic[value] =genres_dic.get(value, 0)+ 1"
   ]
  },
  {
   "cell_type": "code",
   "execution_count": 53,
   "metadata": {},
   "outputs": [
    {
     "data": {
      "text/plain": [
       "{'Action': 2384,\n",
       " 'Adventure': 1471,\n",
       " 'Science Fiction': 1229,\n",
       " 'Thriller': 2907,\n",
       " 'Fantasy': 916,\n",
       " 'Crime': 1354,\n",
       " 'Western': 165,\n",
       " 'Drama': 4760,\n",
       " 'Family': 1231,\n",
       " 'Animation': 699,\n",
       " 'Comedy': 3793,\n",
       " 'Mystery': 810,\n",
       " 'Romance': 1712,\n",
       " 'War': 270,\n",
       " 'History': 334,\n",
       " 'Music': 408,\n",
       " 'Horror': 1637,\n",
       " 'Documentary': 520,\n",
       " 'TV Movie': 167,\n",
       " 'no gener': 23,\n",
       " 'Foreign': 188}"
      ]
     },
     "execution_count": 53,
     "metadata": {},
     "output_type": "execute_result"
    }
   ],
   "source": [
    "# extract geners to genres_dic with counts of every genre using values_to_dictionary function\n",
    "genres_dic = {}\n",
    "movies_clean.genres.apply(lambda x : values_to_dictionary(x))\n",
    "genres_dic"
   ]
  },
  {
   "cell_type": "code",
   "execution_count": 54,
   "metadata": {},
   "outputs": [
    {
     "data": {
      "text/plain": [
       "Western             165\n",
       "TV Movie            167\n",
       "Foreign             188\n",
       "War                 270\n",
       "History             334\n",
       "Music               408\n",
       "Documentary         520\n",
       "Animation           699\n",
       "Mystery             810\n",
       "Fantasy             916\n",
       "Science Fiction    1229\n",
       "Family             1231\n",
       "Crime              1354\n",
       "Adventure          1471\n",
       "Horror             1637\n",
       "Romance            1712\n",
       "Action             2384\n",
       "Thriller           2907\n",
       "Comedy             3793\n",
       "Drama              4760\n",
       "dtype: int64"
      ]
     },
     "execution_count": 54,
     "metadata": {},
     "output_type": "execute_result"
    }
   ],
   "source": [
    "# make a Series from genres_dic\n",
    "genres_count = pd.Series(genres_dic).sort_values()\n",
    "\n",
    "# drop no gener \n",
    "\n",
    "genres_count.drop(\"no gener\", inplace = True)\n",
    "genres_count"
   ]
  },
  {
   "cell_type": "code",
   "execution_count": 55,
   "metadata": {},
   "outputs": [
    {
     "data": {
      "image/png": "[encoded data removed]",
      "text/plain": [
       "<Figure size 576x1296 with 1 Axes>"
      ]
     },
     "metadata": {},
     "output_type": "display_data"
    }
   ],
   "source": [
    "genres_count.plot(kind=\"pie\",\n",
    "                  autopct = \"%.2f%%\",\n",
    "                  fontsize = 12,\n",
    "                  #colors = ['red', 'pink'],\n",
    "                  figsize=(8,18),)\n",
    "plt.rcParams['font.size'] = 15;\n",
    "plt.ylabel(\"\")\n",
    "plt.title(\"Movies Genre Proptions\", fontsize=18, color=\"k\");\n",
    "#plt.legend(genres_count.index,fontsize=12,loc=(1.19,0.2));"
   ]
  },
  {
   "cell_type": "code",
   "execution_count": 56,
   "metadata": {},
   "outputs": [
    {
     "data": {
      "image/png": "[encoded data removed]",
      "text/plain": [
       "<Figure size 648x432 with 1 Axes>"
      ]
     },
     "metadata": {},
     "output_type": "display_data"
    }
   ],
   "source": [
    "# Movies genres bar chart\n",
    "\n",
    "genres_count.plot(kind=\"barh\",\n",
    "                  rot = 0,\n",
    "                  width = 0.35,\n",
    "                  color=[\"red\"],\n",
    "                  alpha = 0.8,\n",
    "                  fontsize = 12,\n",
    "                  figsize=(9,6),\n",
    "                  )\n",
    "\n",
    "plt.ylabel(\"Movie Genre\",fontsize=15, color=\"k\")\n",
    "plt.xlabel(\"Movieis count\",fontsize=15, color=\"k\")\n",
    "plt.title(\"Movies Genre counts\", fontsize=18, color=\"k\");"
   ]
  },
  {
   "cell_type": "markdown",
   "metadata": {},
   "source": [
    "### Answer 5\n",
    "\n",
    "* From above visualisations we can see that `Drama` genre has the highest movies release with 4760 movie and 17.66% percentage from all genres.`Comedy` genre in the second place with 3793 movie and 14.07% percentage."
   ]
  },
  {
   "cell_type": "markdown",
   "metadata": {},
   "source": [
    "### Research Question 6\n",
    "\n",
    "> #### Which movie has the highest budget?"
   ]
  },
  {
   "cell_type": "code",
   "execution_count": 57,
   "metadata": {},
   "outputs": [
    {
     "data": {
      "text/html": [
       "<div>\n",
       "<style scoped>\n",
       "    .dataframe tbody tr th:only-of-type {\n",
       "        vertical-align: middle;\n",
       "    }\n",
       "\n",
       "    .dataframe tbody tr th {\n",
       "        vertical-align: top;\n",
       "    }\n",
       "\n",
       "    .dataframe thead th {\n",
       "        text-align: right;\n",
       "    }\n",
       "</style>\n",
       "<table border=\"1\" class=\"dataframe\">\n",
       "  <thead>\n",
       "    <tr style=\"text-align: right;\">\n",
       "      <th></th>\n",
       "      <th>original_title</th>\n",
       "      <th>budget_adj</th>\n",
       "    </tr>\n",
       "  </thead>\n",
       "  <tbody>\n",
       "    <tr>\n",
       "      <th>2244</th>\n",
       "      <td>The Warrior's Way</td>\n",
       "      <td>425000000.0</td>\n",
       "    </tr>\n",
       "  </tbody>\n",
       "</table>\n",
       "</div>"
      ],
      "text/plain": [
       "         original_title   budget_adj\n",
       "2244  The Warrior's Way  425000000.0"
      ]
     },
     "execution_count": 57,
     "metadata": {},
     "output_type": "execute_result"
    }
   ],
   "source": [
    "# check movie with highest budget\n",
    "\n",
    "max_budget = movies_clean[movies_clean.budget_adj == movies_clean.budget_adj.max()]\n",
    "max_budget[[\"original_title\",\"budget_adj\"]]"
   ]
  },
  {
   "cell_type": "markdown",
   "metadata": {},
   "source": [
    "### Answer 6\n",
    "\n",
    "* From above information we can conclude that `The Warrior's Way` has the highest budget which is estimated to \"425000000.0\" dollars."
   ]
  },
  {
   "cell_type": "markdown",
   "metadata": {},
   "source": [
    "### Research Question 7\n",
    "\n",
    "> ####  Which movie made the highest revenue?"
   ]
  },
  {
   "cell_type": "code",
   "execution_count": 58,
   "metadata": {},
   "outputs": [
    {
     "data": {
      "text/html": [
       "<div>\n",
       "<style scoped>\n",
       "    .dataframe tbody tr th:only-of-type {\n",
       "        vertical-align: middle;\n",
       "    }\n",
       "\n",
       "    .dataframe tbody tr th {\n",
       "        vertical-align: top;\n",
       "    }\n",
       "\n",
       "    .dataframe thead th {\n",
       "        text-align: right;\n",
       "    }\n",
       "</style>\n",
       "<table border=\"1\" class=\"dataframe\">\n",
       "  <thead>\n",
       "    <tr style=\"text-align: right;\">\n",
       "      <th></th>\n",
       "      <th>original_title</th>\n",
       "      <th>revenue_adj</th>\n",
       "    </tr>\n",
       "  </thead>\n",
       "  <tbody>\n",
       "    <tr>\n",
       "      <th>1386</th>\n",
       "      <td>Avatar</td>\n",
       "      <td>2.827124e+09</td>\n",
       "    </tr>\n",
       "  </tbody>\n",
       "</table>\n",
       "</div>"
      ],
      "text/plain": [
       "     original_title   revenue_adj\n",
       "1386         Avatar  2.827124e+09"
      ]
     },
     "execution_count": 58,
     "metadata": {},
     "output_type": "execute_result"
    }
   ],
   "source": [
    "# check movie with highest revenue\n",
    "\n",
    "max_revenue = movies_clean[movies_clean.revenue_adj == movies_clean.revenue_adj.max()]\n",
    "max_revenue[[\"original_title\",\"revenue_adj\"]]"
   ]
  },
  {
   "cell_type": "markdown",
   "metadata": {},
   "source": [
    "### Answer 7\n",
    "\n",
    "* From above information we can conclude that `Avatar` made the highest revenue which is estimated to `2827123750.41` dollars.   "
   ]
  },
  {
   "cell_type": "markdown",
   "metadata": {},
   "source": [
    "### Research Question 8\n",
    "\n",
    "> ####  Which movie made the highest profit?"
   ]
  },
  {
   "cell_type": "code",
   "execution_count": 59,
   "metadata": {},
   "outputs": [
    {
     "data": {
      "text/html": [
       "<div>\n",
       "<style scoped>\n",
       "    .dataframe tbody tr th:only-of-type {\n",
       "        vertical-align: middle;\n",
       "    }\n",
       "\n",
       "    .dataframe tbody tr th {\n",
       "        vertical-align: top;\n",
       "    }\n",
       "\n",
       "    .dataframe thead th {\n",
       "        text-align: right;\n",
       "    }\n",
       "</style>\n",
       "<table border=\"1\" class=\"dataframe\">\n",
       "  <thead>\n",
       "    <tr style=\"text-align: right;\">\n",
       "      <th></th>\n",
       "      <th>original_title</th>\n",
       "      <th>profit</th>\n",
       "    </tr>\n",
       "  </thead>\n",
       "  <tbody>\n",
       "    <tr>\n",
       "      <th>1329</th>\n",
       "      <td>Star Wars</td>\n",
       "      <td>2.750137e+09</td>\n",
       "    </tr>\n",
       "  </tbody>\n",
       "</table>\n",
       "</div>"
      ],
      "text/plain": [
       "     original_title        profit\n",
       "1329      Star Wars  2.750137e+09"
      ]
     },
     "execution_count": 59,
     "metadata": {},
     "output_type": "execute_result"
    }
   ],
   "source": [
    "# check movie with highest profit\n",
    "\n",
    "max_profit = movies_clean[movies_clean.profit == movies_clean.profit.max()]\n",
    "max_profit[[\"original_title\",\"profit\"]]"
   ]
  },
  {
   "cell_type": "markdown",
   "metadata": {},
   "source": [
    "### Answer 8\n",
    "\n",
    "* From above information we can conclude that `Star Wars` has the highest profit which is estimated to  `2750136650.92` dollars."
   ]
  },
  {
   "cell_type": "markdown",
   "metadata": {},
   "source": [
    "### Research Question 9\n",
    "\n",
    "> ####  which production company made highest profit and which one has the highest budget?"
   ]
  },
  {
   "cell_type": "code",
   "execution_count": 60,
   "metadata": {},
   "outputs": [
    {
     "data": {
      "text/plain": [
       "production_companies\n",
       "Paramount Pictures    9.334737e+09\n",
       "Name: profit, dtype: float64"
      ]
     },
     "execution_count": 60,
     "metadata": {},
     "output_type": "execute_result"
    }
   ],
   "source": [
    "# check the production_companies highest profit\n",
    "\n",
    "comp_profits = movies_clean.groupby(\"production_companies\")[\"profit\"].sum().sort_values(ascending=False)\n",
    "comp_profits[0:1]"
   ]
  },
  {
   "cell_type": "code",
   "execution_count": 61,
   "metadata": {},
   "outputs": [
    {
     "data": {
      "text/plain": [
       "production_companies\n",
       "Paramount Pictures    3.398610e+09\n",
       "Name: budget_adj, dtype: float64"
      ]
     },
     "execution_count": 61,
     "metadata": {},
     "output_type": "execute_result"
    }
   ],
   "source": [
    "# check the production_companies highest budget\n",
    "\n",
    "comp_profits = movies_clean.groupby(\"production_companies\")[\"budget_adj\"].sum().sort_values(ascending=False)\n",
    "comp_profits[0:1]"
   ]
  },
  {
   "cell_type": "code",
   "execution_count": 62,
   "metadata": {},
   "outputs": [
    {
     "data": {
      "text/plain": [
       "156"
      ]
     },
     "execution_count": 62,
     "metadata": {},
     "output_type": "execute_result"
    }
   ],
   "source": [
    "# Paramount Pictures compant total number of movies\n",
    "\n",
    "paramount_total_movies = movies_clean.query(\"production_companies == 'Paramount Pictures'\")[\"original_title\"].count()\n",
    "paramount_total_movies"
   ]
  },
  {
   "cell_type": "markdown",
   "metadata": {},
   "source": [
    "### Answer 9\n",
    "\n",
    "* From above information we can conclude that `Paramount Pictures` company is the one with the highest profit and highest budget. It produced 156 movie with profit `9334737385.97` dollars and budget`3398609803.25` dollars."
   ]
  },
  {
   "cell_type": "markdown",
   "metadata": {},
   "source": [
    "#### Qick look on correlation table and heatmap"
   ]
  },
  {
   "cell_type": "code",
   "execution_count": 63,
   "metadata": {},
   "outputs": [
    {
     "data": {
      "text/html": [
       "<div>\n",
       "<style scoped>\n",
       "    .dataframe tbody tr th:only-of-type {\n",
       "        vertical-align: middle;\n",
       "    }\n",
       "\n",
       "    .dataframe tbody tr th {\n",
       "        vertical-align: top;\n",
       "    }\n",
       "\n",
       "    .dataframe thead th {\n",
       "        text-align: right;\n",
       "    }\n",
       "</style>\n",
       "<table border=\"1\" class=\"dataframe\">\n",
       "  <thead>\n",
       "    <tr style=\"text-align: right;\">\n",
       "      <th></th>\n",
       "      <th>popularity</th>\n",
       "      <th>runtime</th>\n",
       "      <th>vote_count</th>\n",
       "      <th>vote_average</th>\n",
       "      <th>release_year</th>\n",
       "      <th>budget_adj</th>\n",
       "      <th>revenue_adj</th>\n",
       "      <th>profit</th>\n",
       "    </tr>\n",
       "  </thead>\n",
       "  <tbody>\n",
       "    <tr>\n",
       "      <th>popularity</th>\n",
       "      <td>1.000000</td>\n",
       "      <td>0.139032</td>\n",
       "      <td>0.800828</td>\n",
       "      <td>0.209517</td>\n",
       "      <td>0.089806</td>\n",
       "      <td>0.435258</td>\n",
       "      <td>0.561746</td>\n",
       "      <td>0.516840</td>\n",
       "    </tr>\n",
       "    <tr>\n",
       "      <th>runtime</th>\n",
       "      <td>0.139032</td>\n",
       "      <td>1.000000</td>\n",
       "      <td>0.163273</td>\n",
       "      <td>0.156813</td>\n",
       "      <td>-0.117187</td>\n",
       "      <td>0.329073</td>\n",
       "      <td>0.263914</td>\n",
       "      <td>0.235164</td>\n",
       "    </tr>\n",
       "    <tr>\n",
       "      <th>vote_count</th>\n",
       "      <td>0.800828</td>\n",
       "      <td>0.163273</td>\n",
       "      <td>1.000000</td>\n",
       "      <td>0.253818</td>\n",
       "      <td>0.107962</td>\n",
       "      <td>0.523415</td>\n",
       "      <td>0.666495</td>\n",
       "      <td>0.614036</td>\n",
       "    </tr>\n",
       "    <tr>\n",
       "      <th>vote_average</th>\n",
       "      <td>0.209517</td>\n",
       "      <td>0.156813</td>\n",
       "      <td>0.253818</td>\n",
       "      <td>1.000000</td>\n",
       "      <td>-0.117576</td>\n",
       "      <td>0.111789</td>\n",
       "      <td>0.242319</td>\n",
       "      <td>0.288569</td>\n",
       "    </tr>\n",
       "    <tr>\n",
       "      <th>release_year</th>\n",
       "      <td>0.089806</td>\n",
       "      <td>-0.117187</td>\n",
       "      <td>0.107962</td>\n",
       "      <td>-0.117576</td>\n",
       "      <td>1.000000</td>\n",
       "      <td>0.036982</td>\n",
       "      <td>-0.099447</td>\n",
       "      <td>-0.132111</td>\n",
       "    </tr>\n",
       "    <tr>\n",
       "      <th>budget_adj</th>\n",
       "      <td>0.435258</td>\n",
       "      <td>0.329073</td>\n",
       "      <td>0.523415</td>\n",
       "      <td>0.111789</td>\n",
       "      <td>0.036982</td>\n",
       "      <td>1.000000</td>\n",
       "      <td>0.570390</td>\n",
       "      <td>0.404285</td>\n",
       "    </tr>\n",
       "    <tr>\n",
       "      <th>revenue_adj</th>\n",
       "      <td>0.561746</td>\n",
       "      <td>0.263914</td>\n",
       "      <td>0.666495</td>\n",
       "      <td>0.242319</td>\n",
       "      <td>-0.099447</td>\n",
       "      <td>0.570390</td>\n",
       "      <td>1.000000</td>\n",
       "      <td>0.981856</td>\n",
       "    </tr>\n",
       "    <tr>\n",
       "      <th>profit</th>\n",
       "      <td>0.516840</td>\n",
       "      <td>0.235164</td>\n",
       "      <td>0.614036</td>\n",
       "      <td>0.288569</td>\n",
       "      <td>-0.132111</td>\n",
       "      <td>0.404285</td>\n",
       "      <td>0.981856</td>\n",
       "      <td>1.000000</td>\n",
       "    </tr>\n",
       "  </tbody>\n",
       "</table>\n",
       "</div>"
      ],
      "text/plain": [
       "              popularity   runtime  vote_count  vote_average  release_year  \\\n",
       "popularity      1.000000  0.139032    0.800828      0.209517      0.089806   \n",
       "runtime         0.139032  1.000000    0.163273      0.156813     -0.117187   \n",
       "vote_count      0.800828  0.163273    1.000000      0.253818      0.107962   \n",
       "vote_average    0.209517  0.156813    0.253818      1.000000     -0.117576   \n",
       "release_year    0.089806 -0.117187    0.107962     -0.117576      1.000000   \n",
       "budget_adj      0.435258  0.329073    0.523415      0.111789      0.036982   \n",
       "revenue_adj     0.561746  0.263914    0.666495      0.242319     -0.099447   \n",
       "profit          0.516840  0.235164    0.614036      0.288569     -0.132111   \n",
       "\n",
       "              budget_adj  revenue_adj    profit  \n",
       "popularity      0.435258     0.561746  0.516840  \n",
       "runtime         0.329073     0.263914  0.235164  \n",
       "vote_count      0.523415     0.666495  0.614036  \n",
       "vote_average    0.111789     0.242319  0.288569  \n",
       "release_year    0.036982    -0.099447 -0.132111  \n",
       "budget_adj      1.000000     0.570390  0.404285  \n",
       "revenue_adj     0.570390     1.000000  0.981856  \n",
       "profit          0.404285     0.981856  1.000000  "
      ]
     },
     "execution_count": 63,
     "metadata": {},
     "output_type": "execute_result"
    }
   ],
   "source": [
    "#cheking the correlations\n",
    "\n",
    "movies_clean.corr()"
   ]
  },
  {
   "cell_type": "code",
   "execution_count": 64,
   "metadata": {},
   "outputs": [
    {
     "data": {
      "image/png": "[encoded data removed]",
      "text/plain": [
       "<Figure size 864x432 with 2 Axes>"
      ]
     },
     "metadata": {},
     "output_type": "display_data"
    }
   ],
   "source": [
    "# heatmap\n",
    "\n",
    "fig, ax = plt.subplots(figsize=(12,6))\n",
    "sns.heatmap(movies_clean.corr(), annot=True, ax=ax);"
   ]
  },
  {
   "cell_type": "markdown",
   "metadata": {},
   "source": [
    "### Research Question 10\n",
    "\n",
    "> #### Is there a correlation between budget and profit?"
   ]
  },
  {
   "cell_type": "code",
   "execution_count": 65,
   "metadata": {},
   "outputs": [
    {
     "data": {
      "image/png": "[encoded data removed]",
      "text/plain": [
       "<Figure size 504x288 with 1 Axes>"
      ]
     },
     "metadata": {},
     "output_type": "display_data"
    }
   ],
   "source": [
    "# Scatter plot between budget and profit \n",
    "\n",
    "movies_clean.plot(kind=\"scatter\",\n",
    "                  rot = 0,\n",
    "                  x = 'budget_adj',\n",
    "                  y = 'profit',\n",
    "                  color=[\"goldenrod\"],\n",
    "                  alpha = 0.8,\n",
    "                  fontsize = 12,\n",
    "                  figsize=(7,4),\n",
    "                  );\n"
   ]
  },
  {
   "cell_type": "markdown",
   "metadata": {},
   "source": [
    "### Answer 10\n",
    "\n",
    "* From above visualisation we can conclude that there is a very strong positive correlation between budget and profit. This is the reason behind `Paramount Pictures` company high profits. they are spending a lot of money on budget!"
   ]
  },
  {
   "cell_type": "markdown",
   "metadata": {},
   "source": [
    "### Research Question 11\n",
    "\n",
    "> ####  Is there a correlation between popularity and profit?\n"
   ]
  },
  {
   "cell_type": "code",
   "execution_count": 66,
   "metadata": {},
   "outputs": [
    {
     "data": {
      "image/png": "[encoded data removed]",
      "text/plain": [
       "<Figure size 504x288 with 1 Axes>"
      ]
     },
     "metadata": {},
     "output_type": "display_data"
    }
   ],
   "source": [
    "# Scatter plot between popularity and profit \n",
    "\n",
    "movies_clean.plot(kind=\"scatter\",\n",
    "                  rot = 0,\n",
    "                  x = 'popularity',\n",
    "                  y = 'profit',\n",
    "                  color=[\"orangered\"],\n",
    "                  alpha = 0.8,\n",
    "                  fontsize = 12,\n",
    "                  figsize=(7,4),\n",
    "                  );"
   ]
  },
  {
   "cell_type": "markdown",
   "metadata": {},
   "source": [
    "### Answer 11\n",
    "\n",
    "* From above visualisation we can conclude that there is a strong positive correlation between budget and profit but it's not as strong as correlation with budget."
   ]
  },
  {
   "cell_type": "markdown",
   "metadata": {},
   "source": [
    "### Research Question 12\n",
    "\n",
    "> ####  Is there a correlation between runtime and profit?"
   ]
  },
  {
   "cell_type": "code",
   "execution_count": 67,
   "metadata": {},
   "outputs": [
    {
     "data": {
      "image/png": "[encoded data removed]",
      "text/plain": [
       "<Figure size 504x288 with 1 Axes>"
      ]
     },
     "metadata": {},
     "output_type": "display_data"
    }
   ],
   "source": [
    "# Scatter plot between runtimes and profit \n",
    "\n",
    "movies_clean.plot(kind=\"scatter\",\n",
    "                  rot = 0,\n",
    "                  x = 'runtime',\n",
    "                  y = 'profit',\n",
    "                  color=[\"mediumturquoise\"],\n",
    "                  alpha = 0.8,\n",
    "                  fontsize = 12,\n",
    "                  figsize=(7,4),\n",
    "                  );"
   ]
  },
  {
   "cell_type": "markdown",
   "metadata": {},
   "source": [
    "### Answer 12\n",
    "\n",
    "* From above visualisation we can conclude that there is no correlation to consider between runtime and profit."
   ]
  },
  {
   "cell_type": "markdown",
   "metadata": {},
   "source": [
    "### Research Question 13\n",
    "\n",
    "> #### Is there a correlation between vote_count and popularity?"
   ]
  },
  {
   "cell_type": "code",
   "execution_count": 68,
   "metadata": {},
   "outputs": [
    {
     "data": {
      "image/png": "[encoded data removed]",
      "text/plain": [
       "<Figure size 504x288 with 1 Axes>"
      ]
     },
     "metadata": {},
     "output_type": "display_data"
    }
   ],
   "source": [
    "# Scatter plot between vote_count and popularity \n",
    "\n",
    "movies_clean.plot(kind=\"scatter\",\n",
    "                  rot = 0,\n",
    "                  x = 'vote_count',\n",
    "                  y = 'popularity',\n",
    "                  color=[\"firebrick\"],\n",
    "                  alpha = 0.8,\n",
    "                  fontsize = 12,\n",
    "                  figsize=(7,4),\n",
    "                  );"
   ]
  },
  {
   "cell_type": "markdown",
   "metadata": {},
   "source": [
    "### Answer 13\n",
    "\n",
    "* From above visualisation we can conclude that there is a very strong positive correlation between vote numbers and popularity."
   ]
  },
  {
   "cell_type": "markdown",
   "metadata": {},
   "source": [
    "### Research Question 14\n",
    "\n",
    "> #### Is there a correlation between vote_count and profit?"
   ]
  },
  {
   "cell_type": "code",
   "execution_count": 69,
   "metadata": {},
   "outputs": [
    {
     "data": {
      "image/png": "[encoded data removed]",
      "text/plain": [
       "<Figure size 504x288 with 1 Axes>"
      ]
     },
     "metadata": {},
     "output_type": "display_data"
    }
   ],
   "source": [
    "# Scatter plot between vote_count and profit \n",
    "\n",
    "movies_clean.plot(kind=\"scatter\",\n",
    "                  rot = 0,\n",
    "                  x = 'vote_count',\n",
    "                  y = 'profit',\n",
    "                  color=[\"crimson\"],\n",
    "                  alpha = 0.8,\n",
    "                  fontsize = 12,\n",
    "                  figsize=(7,4),\n",
    "                  );"
   ]
  },
  {
   "cell_type": "markdown",
   "metadata": {},
   "source": [
    "### Answer 14\n",
    "\n",
    "* From above visualisation we can conclude that there is a strong positive correlation between vote numbers and profit."
   ]
  },
  {
   "cell_type": "markdown",
   "metadata": {},
   "source": [
    "<a id='conclusions'></a>\n",
    "## Conclusions\n",
    "\n",
    "**1. The most popular movie is Jurassic World with popularity 32.98.**\n",
    "\n",
    "**2. The most high rated movie is The Dark Knight with vote average 8.1 and 8432 votes.**\n",
    "\n",
    "**3. The most watched movie is The Story of Film: An Odyssey with 900 runtimes.**\n",
    "\n",
    "**4. 2014 is the highest year according to number of released movies with total 700 movie. September is the highest month according to number of released movies with total 1331 movie**\n",
    "\n",
    "**5. The `Drama` genre has the highest movies release with 4760 movie and 17.66% percentage from all genres.`Comedy` genre in the second place with 3793 movie and 14.07% percentage.**\n",
    "\n",
    "**6. The `The Warrior's Way` movie has the highest budget which is estimated to \"425000000.0\" dollars.**\n",
    "\n",
    "**7. The `Avatar` movie made the highest revenue which is estimated to `2827123750.41` dollars.**\n",
    "\n",
    "**8. The `Star Wars` movie has the highest profit which is estimated to  `2750136650.92` dollars.**\n",
    "\n",
    "**9. The `Paramount Pictures` company is the one with the highest profit and highest budget. It produced 156 movie with profit `9334737385.97` dollars and budget`3398609803.25` dollars.**\n",
    "\n",
    "**10. There is a very strong positive correlation between budget and profit. This is the reason behind Paramount Pictures company high profits. they are spending a lot of money on budget!**\n",
    "\n",
    "**11. There is a strong positive correlation between budget and profit but it's not as strong as correlation with budget.**\n",
    "\n",
    "**12. There is no correlation to consider between runtime and profit.**\n",
    "\n",
    "**13. There is a very strong positive correlation between vote numbers and popularity.**\n",
    "\n",
    "**14. There is a strong positive correlation between vote numbers and profit.**"
   ]
  },
  {
   "cell_type": "markdown",
   "metadata": {},
   "source": [
    "## Limitation\n",
    "\n",
    "> * budget and revenue column has a masive number of values equal zero. that absolutely affect alot of statistics and correlations in this dataset. \n",
    "        - budget column has (5696) value equal zero.\n",
    "        - revenue column has (6016) value equal zero.\n",
    "        \n",
    "> * This dataset has avery big number of empty values (NaNs): \n",
    "        - imdb_id column has 10 NaNs.\n",
    "        - .cast column has 76 NaNs.\n",
    "        - .homepage column has 7930 NaNs.\n",
    "        - .director column has 44 NaNs.\n",
    "        - .tagline column has 2824 NaNs.\n",
    "        - .keywords column has 1493 NaNs.\n",
    "        - .overview column has 4 NaNs.\n",
    "        - .genres column has 23 NaNs.\n",
    "        - .production_companies has 1030 NaNs.\n",
    "\n",
    "> * Genres column has multiple values and there is no indication about main genre so we can not be sure from all statistics which depends on genre is accurate or not.\n",
    "\n",
    "> **(So we can't calculate statistics or find correlation accurately to make better predictions.)**"
   ]
  }
 ],
 "metadata": {
  "kernelspec": {
   "display_name": "Python 3 (ipykernel)",
   "language": "python",
   "name": "python3"
  },
  "language_info": {
   "codemirror_mode": {
    "name": "ipython",
    "version": 3
   },
   "file_extension": ".py",
   "mimetype": "text/x-python",
   "name": "python",
   "nbconvert_exporter": "python",
   "pygments_lexer": "ipython3",
   "version": "3.8.11"
  }
 },
 "nbformat": 4,
 "nbformat_minor": 2
}
